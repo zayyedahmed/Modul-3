{
 "cells": [
  {
   "cell_type": "code",
   "execution_count": 120,
   "metadata": {},
   "outputs": [],
   "source": [
    "import numpy as np \n",
    "import pandas as pd \n",
    "import matplotlib.pyplot as plt\n",
    "import seaborn as sns\n",
    "from sklearn.linear_model import LogisticRegression\n",
    "from sklearn.neighbors import KNeighborsClassifier\n",
    "from sklearn.tree import DecisionTreeClassifier\n",
    "from sklearn.ensemble import RandomForestClassifier\n",
    "from sklearn.model_selection import train_test_split, GridSearchCV, RandomizedSearchCV, StratifiedKFold, cross_val_score\n",
    "from sklearn.preprocessing import OneHotEncoder, StandardScaler, RobustScaler, MinMaxScaler\n",
    "from sklearn.compose import ColumnTransformer\n",
    "from sklearn.metrics import classification_report, confusion_matrix, accuracy_score, precision_score, recall_score, f1_score,\\\n",
    "plot_confusion_matrix, precision_recall_curve, plot_precision_recall_curve, confusion_matrix, roc_curve, plot_roc_curve\n",
    "import sklearn\n",
    "sklearn.metrics.SCORERS.keys()\n",
    "from imblearn.over_sampling import RandomOverSampler, SMOTE\n",
    "from sklearn.feature_selection import SelectPercentile, univariate_selection, RFE\n",
    "from imblearn.pipeline import Pipeline\n",
    "from imblearn.pipeline import make_pipeline"
   ]
  },
  {
   "cell_type": "markdown",
   "metadata": {},
   "source": [
    "## __1. Data__"
   ]
  },
  {
   "cell_type": "code",
   "execution_count": 2,
   "metadata": {},
   "outputs": [],
   "source": [
    "df = pd.read_csv('C:\\\\Users\\\\ASUS\\\\Desktop\\\\nba_players.csv')"
   ]
  },
  {
   "cell_type": "code",
   "execution_count": 3,
   "metadata": {},
   "outputs": [
    {
     "name": "stdout",
     "output_type": "stream",
     "text": [
      "<class 'pandas.core.frame.DataFrame'>\n",
      "RangeIndex: 11145 entries, 0 to 11144\n",
      "Data columns (total 24 columns):\n",
      " #   Column             Non-Null Count  Dtype  \n",
      "---  ------             --------------  -----  \n",
      " 0   Unnamed: 0         11145 non-null  int64  \n",
      " 1   Unnamed: 0.1       11145 non-null  int64  \n",
      " 2   player_name        11145 non-null  object \n",
      " 3   team_abbreviation  11145 non-null  object \n",
      " 4   age                11145 non-null  float64\n",
      " 5   player_height      11145 non-null  float64\n",
      " 6   player_weight      11145 non-null  float64\n",
      " 7   college            11145 non-null  object \n",
      " 8   country            11145 non-null  object \n",
      " 9   draft_year         11145 non-null  object \n",
      " 10  draft_round        11145 non-null  object \n",
      " 11  draft_number       11145 non-null  object \n",
      " 12  gp                 11145 non-null  int64  \n",
      " 13  pts                11145 non-null  float64\n",
      " 14  reb                11145 non-null  float64\n",
      " 15  ast                11145 non-null  float64\n",
      " 16  net_rating         11145 non-null  float64\n",
      " 17  oreb_pct           11145 non-null  float64\n",
      " 18  dreb_pct           11145 non-null  float64\n",
      " 19  usg_pct            11145 non-null  float64\n",
      " 20  ts_pct             11145 non-null  float64\n",
      " 21  ast_pct            11145 non-null  float64\n",
      " 22  season             11145 non-null  object \n",
      " 23  potential_player   11145 non-null  int64  \n",
      "dtypes: float64(12), int64(4), object(8)\n",
      "memory usage: 2.0+ MB\n"
     ]
    }
   ],
   "source": [
    "df.info()"
   ]
  },
  {
   "cell_type": "code",
   "execution_count": 4,
   "metadata": {},
   "outputs": [],
   "source": [
    "df.drop([\"Unnamed: 0\", \"Unnamed: 0.1\"], axis=1, inplace=True)"
   ]
  },
  {
   "cell_type": "code",
   "execution_count": 5,
   "metadata": {},
   "outputs": [
    {
     "name": "stdout",
     "output_type": "stream",
     "text": [
      "<class 'pandas.core.frame.DataFrame'>\n",
      "RangeIndex: 11145 entries, 0 to 11144\n",
      "Data columns (total 22 columns):\n",
      " #   Column             Non-Null Count  Dtype  \n",
      "---  ------             --------------  -----  \n",
      " 0   player_name        11145 non-null  object \n",
      " 1   team_abbreviation  11145 non-null  object \n",
      " 2   age                11145 non-null  float64\n",
      " 3   player_height      11145 non-null  float64\n",
      " 4   player_weight      11145 non-null  float64\n",
      " 5   college            11145 non-null  object \n",
      " 6   country            11145 non-null  object \n",
      " 7   draft_year         11145 non-null  object \n",
      " 8   draft_round        11145 non-null  object \n",
      " 9   draft_number       11145 non-null  object \n",
      " 10  gp                 11145 non-null  int64  \n",
      " 11  pts                11145 non-null  float64\n",
      " 12  reb                11145 non-null  float64\n",
      " 13  ast                11145 non-null  float64\n",
      " 14  net_rating         11145 non-null  float64\n",
      " 15  oreb_pct           11145 non-null  float64\n",
      " 16  dreb_pct           11145 non-null  float64\n",
      " 17  usg_pct            11145 non-null  float64\n",
      " 18  ts_pct             11145 non-null  float64\n",
      " 19  ast_pct            11145 non-null  float64\n",
      " 20  season             11145 non-null  object \n",
      " 21  potential_player   11145 non-null  int64  \n",
      "dtypes: float64(12), int64(2), object(8)\n",
      "memory usage: 1.9+ MB\n"
     ]
    }
   ],
   "source": [
    "df.info()"
   ]
  },
  {
   "cell_type": "code",
   "execution_count": 39,
   "metadata": {},
   "outputs": [
    {
     "data": {
      "text/html": [
       "<div>\n",
       "<style scoped>\n",
       "    .dataframe tbody tr th:only-of-type {\n",
       "        vertical-align: middle;\n",
       "    }\n",
       "\n",
       "    .dataframe tbody tr th {\n",
       "        vertical-align: top;\n",
       "    }\n",
       "\n",
       "    .dataframe thead th {\n",
       "        text-align: right;\n",
       "    }\n",
       "</style>\n",
       "<table border=\"1\" class=\"dataframe\">\n",
       "  <thead>\n",
       "    <tr style=\"text-align: right;\">\n",
       "      <th></th>\n",
       "      <th>player_name</th>\n",
       "      <th>team_abbreviation</th>\n",
       "      <th>age</th>\n",
       "      <th>player_height</th>\n",
       "      <th>player_weight</th>\n",
       "      <th>college</th>\n",
       "      <th>country</th>\n",
       "      <th>draft_year</th>\n",
       "      <th>draft_round</th>\n",
       "      <th>draft_number</th>\n",
       "      <th>...</th>\n",
       "      <th>reb</th>\n",
       "      <th>ast</th>\n",
       "      <th>net_rating</th>\n",
       "      <th>oreb_pct</th>\n",
       "      <th>dreb_pct</th>\n",
       "      <th>usg_pct</th>\n",
       "      <th>ts_pct</th>\n",
       "      <th>ast_pct</th>\n",
       "      <th>season</th>\n",
       "      <th>potential_player</th>\n",
       "    </tr>\n",
       "  </thead>\n",
       "  <tbody>\n",
       "    <tr>\n",
       "      <th>0</th>\n",
       "      <td>Dennis Rodman</td>\n",
       "      <td>CHI</td>\n",
       "      <td>36.0</td>\n",
       "      <td>198.12</td>\n",
       "      <td>99.790240</td>\n",
       "      <td>Southeastern Oklahoma State</td>\n",
       "      <td>USA</td>\n",
       "      <td>1986</td>\n",
       "      <td>2</td>\n",
       "      <td>27</td>\n",
       "      <td>...</td>\n",
       "      <td>16.1</td>\n",
       "      <td>3.1</td>\n",
       "      <td>16.1</td>\n",
       "      <td>0.186</td>\n",
       "      <td>0.323</td>\n",
       "      <td>0.100</td>\n",
       "      <td>0.479</td>\n",
       "      <td>0.113</td>\n",
       "      <td>1996-97</td>\n",
       "      <td>0</td>\n",
       "    </tr>\n",
       "    <tr>\n",
       "      <th>1</th>\n",
       "      <td>Dwayne Schintzius</td>\n",
       "      <td>LAC</td>\n",
       "      <td>28.0</td>\n",
       "      <td>215.90</td>\n",
       "      <td>117.933920</td>\n",
       "      <td>Florida</td>\n",
       "      <td>USA</td>\n",
       "      <td>1990</td>\n",
       "      <td>1</td>\n",
       "      <td>24</td>\n",
       "      <td>...</td>\n",
       "      <td>1.5</td>\n",
       "      <td>0.3</td>\n",
       "      <td>12.3</td>\n",
       "      <td>0.078</td>\n",
       "      <td>0.151</td>\n",
       "      <td>0.175</td>\n",
       "      <td>0.430</td>\n",
       "      <td>0.048</td>\n",
       "      <td>1996-97</td>\n",
       "      <td>0</td>\n",
       "    </tr>\n",
       "    <tr>\n",
       "      <th>2</th>\n",
       "      <td>Earl Cureton</td>\n",
       "      <td>TOR</td>\n",
       "      <td>39.0</td>\n",
       "      <td>205.74</td>\n",
       "      <td>95.254320</td>\n",
       "      <td>Detroit Mercy</td>\n",
       "      <td>USA</td>\n",
       "      <td>1979</td>\n",
       "      <td>3</td>\n",
       "      <td>58</td>\n",
       "      <td>...</td>\n",
       "      <td>1.0</td>\n",
       "      <td>0.4</td>\n",
       "      <td>-2.1</td>\n",
       "      <td>0.105</td>\n",
       "      <td>0.102</td>\n",
       "      <td>0.103</td>\n",
       "      <td>0.376</td>\n",
       "      <td>0.148</td>\n",
       "      <td>1996-97</td>\n",
       "      <td>0</td>\n",
       "    </tr>\n",
       "    <tr>\n",
       "      <th>3</th>\n",
       "      <td>Ed O'Bannon</td>\n",
       "      <td>DAL</td>\n",
       "      <td>24.0</td>\n",
       "      <td>203.20</td>\n",
       "      <td>100.697424</td>\n",
       "      <td>UCLA</td>\n",
       "      <td>USA</td>\n",
       "      <td>1995</td>\n",
       "      <td>1</td>\n",
       "      <td>9</td>\n",
       "      <td>...</td>\n",
       "      <td>2.3</td>\n",
       "      <td>0.6</td>\n",
       "      <td>-8.7</td>\n",
       "      <td>0.060</td>\n",
       "      <td>0.149</td>\n",
       "      <td>0.167</td>\n",
       "      <td>0.399</td>\n",
       "      <td>0.077</td>\n",
       "      <td>1996-97</td>\n",
       "      <td>0</td>\n",
       "    </tr>\n",
       "    <tr>\n",
       "      <th>4</th>\n",
       "      <td>Ed Pinckney</td>\n",
       "      <td>MIA</td>\n",
       "      <td>34.0</td>\n",
       "      <td>205.74</td>\n",
       "      <td>108.862080</td>\n",
       "      <td>Villanova</td>\n",
       "      <td>USA</td>\n",
       "      <td>1985</td>\n",
       "      <td>1</td>\n",
       "      <td>10</td>\n",
       "      <td>...</td>\n",
       "      <td>2.4</td>\n",
       "      <td>0.2</td>\n",
       "      <td>-11.2</td>\n",
       "      <td>0.109</td>\n",
       "      <td>0.179</td>\n",
       "      <td>0.127</td>\n",
       "      <td>0.611</td>\n",
       "      <td>0.040</td>\n",
       "      <td>1996-97</td>\n",
       "      <td>0</td>\n",
       "    </tr>\n",
       "  </tbody>\n",
       "</table>\n",
       "<p>5 rows × 22 columns</p>\n",
       "</div>"
      ],
      "text/plain": [
       "         player_name team_abbreviation   age  player_height  player_weight  \\\n",
       "0      Dennis Rodman               CHI  36.0         198.12      99.790240   \n",
       "1  Dwayne Schintzius               LAC  28.0         215.90     117.933920   \n",
       "2       Earl Cureton               TOR  39.0         205.74      95.254320   \n",
       "3        Ed O'Bannon               DAL  24.0         203.20     100.697424   \n",
       "4        Ed Pinckney               MIA  34.0         205.74     108.862080   \n",
       "\n",
       "                       college country draft_year draft_round draft_number  \\\n",
       "0  Southeastern Oklahoma State     USA       1986           2           27   \n",
       "1                      Florida     USA       1990           1           24   \n",
       "2                Detroit Mercy     USA       1979           3           58   \n",
       "3                         UCLA     USA       1995           1            9   \n",
       "4                    Villanova     USA       1985           1           10   \n",
       "\n",
       "   ...   reb  ast  net_rating  oreb_pct  dreb_pct  usg_pct  ts_pct  ast_pct  \\\n",
       "0  ...  16.1  3.1        16.1     0.186     0.323    0.100   0.479    0.113   \n",
       "1  ...   1.5  0.3        12.3     0.078     0.151    0.175   0.430    0.048   \n",
       "2  ...   1.0  0.4        -2.1     0.105     0.102    0.103   0.376    0.148   \n",
       "3  ...   2.3  0.6        -8.7     0.060     0.149    0.167   0.399    0.077   \n",
       "4  ...   2.4  0.2       -11.2     0.109     0.179    0.127   0.611    0.040   \n",
       "\n",
       "    season  potential_player  \n",
       "0  1996-97                 0  \n",
       "1  1996-97                 0  \n",
       "2  1996-97                 0  \n",
       "3  1996-97                 0  \n",
       "4  1996-97                 0  \n",
       "\n",
       "[5 rows x 22 columns]"
      ]
     },
     "execution_count": 39,
     "metadata": {},
     "output_type": "execute_result"
    }
   ],
   "source": [
    "df.head()"
   ]
  },
  {
   "cell_type": "code",
   "execution_count": 6,
   "metadata": {},
   "outputs": [
    {
     "data": {
      "text/plain": [
       "2235"
      ]
     },
     "execution_count": 6,
     "metadata": {},
     "output_type": "execute_result"
    }
   ],
   "source": [
    "df[\"player_name\"].nunique()"
   ]
  },
  {
   "cell_type": "code",
   "execution_count": 7,
   "metadata": {},
   "outputs": [
    {
     "data": {
      "text/plain": [
       "array(['Dennis Rodman', 'Dwayne Schintzius', 'Earl Cureton', ...,\n",
       "       'Max Strus', 'Norvel Pelle', 'Matt Thomas'], dtype=object)"
      ]
     },
     "execution_count": 7,
     "metadata": {},
     "output_type": "execute_result"
    }
   ],
   "source": [
    "df[\"player_name\"].unique()"
   ]
  },
  {
   "cell_type": "code",
   "execution_count": 8,
   "metadata": {},
   "outputs": [
    {
     "data": {
      "text/html": [
       "<div>\n",
       "<style scoped>\n",
       "    .dataframe tbody tr th:only-of-type {\n",
       "        vertical-align: middle;\n",
       "    }\n",
       "\n",
       "    .dataframe tbody tr th {\n",
       "        vertical-align: top;\n",
       "    }\n",
       "\n",
       "    .dataframe thead th {\n",
       "        text-align: right;\n",
       "    }\n",
       "</style>\n",
       "<table border=\"1\" class=\"dataframe\">\n",
       "  <thead>\n",
       "    <tr style=\"text-align: right;\">\n",
       "      <th></th>\n",
       "      <th>count</th>\n",
       "      <th>mean</th>\n",
       "      <th>std</th>\n",
       "      <th>min</th>\n",
       "      <th>25%</th>\n",
       "      <th>50%</th>\n",
       "      <th>75%</th>\n",
       "      <th>max</th>\n",
       "    </tr>\n",
       "  </thead>\n",
       "  <tbody>\n",
       "    <tr>\n",
       "      <th>age</th>\n",
       "      <td>11145.0</td>\n",
       "      <td>27.168686</td>\n",
       "      <td>4.344164</td>\n",
       "      <td>18.000000</td>\n",
       "      <td>24.0000</td>\n",
       "      <td>27.00000</td>\n",
       "      <td>30.000000</td>\n",
       "      <td>44.00000</td>\n",
       "    </tr>\n",
       "    <tr>\n",
       "      <th>player_height</th>\n",
       "      <td>11145.0</td>\n",
       "      <td>200.812818</td>\n",
       "      <td>9.190973</td>\n",
       "      <td>160.020000</td>\n",
       "      <td>195.5800</td>\n",
       "      <td>200.66000</td>\n",
       "      <td>208.280000</td>\n",
       "      <td>231.14000</td>\n",
       "    </tr>\n",
       "    <tr>\n",
       "      <th>player_weight</th>\n",
       "      <td>11145.0</td>\n",
       "      <td>100.637868</td>\n",
       "      <td>12.576295</td>\n",
       "      <td>60.327736</td>\n",
       "      <td>90.7184</td>\n",
       "      <td>99.79024</td>\n",
       "      <td>109.315672</td>\n",
       "      <td>163.29312</td>\n",
       "    </tr>\n",
       "    <tr>\n",
       "      <th>gp</th>\n",
       "      <td>11145.0</td>\n",
       "      <td>52.005832</td>\n",
       "      <td>25.069495</td>\n",
       "      <td>1.000000</td>\n",
       "      <td>32.0000</td>\n",
       "      <td>58.00000</td>\n",
       "      <td>74.000000</td>\n",
       "      <td>85.00000</td>\n",
       "    </tr>\n",
       "    <tr>\n",
       "      <th>pts</th>\n",
       "      <td>11145.0</td>\n",
       "      <td>8.126487</td>\n",
       "      <td>5.935482</td>\n",
       "      <td>0.000000</td>\n",
       "      <td>3.5000</td>\n",
       "      <td>6.60000</td>\n",
       "      <td>11.500000</td>\n",
       "      <td>36.10000</td>\n",
       "    </tr>\n",
       "    <tr>\n",
       "      <th>reb</th>\n",
       "      <td>11145.0</td>\n",
       "      <td>3.560036</td>\n",
       "      <td>2.495394</td>\n",
       "      <td>0.000000</td>\n",
       "      <td>1.8000</td>\n",
       "      <td>3.00000</td>\n",
       "      <td>4.700000</td>\n",
       "      <td>16.30000</td>\n",
       "    </tr>\n",
       "    <tr>\n",
       "      <th>ast</th>\n",
       "      <td>11145.0</td>\n",
       "      <td>1.801463</td>\n",
       "      <td>1.789940</td>\n",
       "      <td>0.000000</td>\n",
       "      <td>0.6000</td>\n",
       "      <td>1.20000</td>\n",
       "      <td>2.400000</td>\n",
       "      <td>11.70000</td>\n",
       "    </tr>\n",
       "    <tr>\n",
       "      <th>net_rating</th>\n",
       "      <td>11145.0</td>\n",
       "      <td>-2.153899</td>\n",
       "      <td>12.150611</td>\n",
       "      <td>-200.000000</td>\n",
       "      <td>-6.3000</td>\n",
       "      <td>-1.30000</td>\n",
       "      <td>3.200000</td>\n",
       "      <td>300.00000</td>\n",
       "    </tr>\n",
       "    <tr>\n",
       "      <th>oreb_pct</th>\n",
       "      <td>11145.0</td>\n",
       "      <td>0.055593</td>\n",
       "      <td>0.043889</td>\n",
       "      <td>0.000000</td>\n",
       "      <td>0.0220</td>\n",
       "      <td>0.04300</td>\n",
       "      <td>0.086000</td>\n",
       "      <td>1.00000</td>\n",
       "    </tr>\n",
       "    <tr>\n",
       "      <th>dreb_pct</th>\n",
       "      <td>11145.0</td>\n",
       "      <td>0.141772</td>\n",
       "      <td>0.063194</td>\n",
       "      <td>0.000000</td>\n",
       "      <td>0.0960</td>\n",
       "      <td>0.13200</td>\n",
       "      <td>0.182000</td>\n",
       "      <td>1.00000</td>\n",
       "    </tr>\n",
       "    <tr>\n",
       "      <th>usg_pct</th>\n",
       "      <td>11145.0</td>\n",
       "      <td>0.185599</td>\n",
       "      <td>0.053047</td>\n",
       "      <td>0.000000</td>\n",
       "      <td>0.1500</td>\n",
       "      <td>0.18200</td>\n",
       "      <td>0.218000</td>\n",
       "      <td>1.00000</td>\n",
       "    </tr>\n",
       "    <tr>\n",
       "      <th>ts_pct</th>\n",
       "      <td>11145.0</td>\n",
       "      <td>0.508099</td>\n",
       "      <td>0.098879</td>\n",
       "      <td>0.000000</td>\n",
       "      <td>0.4780</td>\n",
       "      <td>0.52100</td>\n",
       "      <td>0.557000</td>\n",
       "      <td>1.50000</td>\n",
       "    </tr>\n",
       "    <tr>\n",
       "      <th>ast_pct</th>\n",
       "      <td>11145.0</td>\n",
       "      <td>0.131078</td>\n",
       "      <td>0.095017</td>\n",
       "      <td>0.000000</td>\n",
       "      <td>0.0650</td>\n",
       "      <td>0.10200</td>\n",
       "      <td>0.178000</td>\n",
       "      <td>1.00000</td>\n",
       "    </tr>\n",
       "    <tr>\n",
       "      <th>potential_player</th>\n",
       "      <td>11145.0</td>\n",
       "      <td>0.040825</td>\n",
       "      <td>0.197895</td>\n",
       "      <td>0.000000</td>\n",
       "      <td>0.0000</td>\n",
       "      <td>0.00000</td>\n",
       "      <td>0.000000</td>\n",
       "      <td>1.00000</td>\n",
       "    </tr>\n",
       "  </tbody>\n",
       "</table>\n",
       "</div>"
      ],
      "text/plain": [
       "                    count        mean        std         min       25%  \\\n",
       "age               11145.0   27.168686   4.344164   18.000000   24.0000   \n",
       "player_height     11145.0  200.812818   9.190973  160.020000  195.5800   \n",
       "player_weight     11145.0  100.637868  12.576295   60.327736   90.7184   \n",
       "gp                11145.0   52.005832  25.069495    1.000000   32.0000   \n",
       "pts               11145.0    8.126487   5.935482    0.000000    3.5000   \n",
       "reb               11145.0    3.560036   2.495394    0.000000    1.8000   \n",
       "ast               11145.0    1.801463   1.789940    0.000000    0.6000   \n",
       "net_rating        11145.0   -2.153899  12.150611 -200.000000   -6.3000   \n",
       "oreb_pct          11145.0    0.055593   0.043889    0.000000    0.0220   \n",
       "dreb_pct          11145.0    0.141772   0.063194    0.000000    0.0960   \n",
       "usg_pct           11145.0    0.185599   0.053047    0.000000    0.1500   \n",
       "ts_pct            11145.0    0.508099   0.098879    0.000000    0.4780   \n",
       "ast_pct           11145.0    0.131078   0.095017    0.000000    0.0650   \n",
       "potential_player  11145.0    0.040825   0.197895    0.000000    0.0000   \n",
       "\n",
       "                        50%         75%        max  \n",
       "age                27.00000   30.000000   44.00000  \n",
       "player_height     200.66000  208.280000  231.14000  \n",
       "player_weight      99.79024  109.315672  163.29312  \n",
       "gp                 58.00000   74.000000   85.00000  \n",
       "pts                 6.60000   11.500000   36.10000  \n",
       "reb                 3.00000    4.700000   16.30000  \n",
       "ast                 1.20000    2.400000   11.70000  \n",
       "net_rating         -1.30000    3.200000  300.00000  \n",
       "oreb_pct            0.04300    0.086000    1.00000  \n",
       "dreb_pct            0.13200    0.182000    1.00000  \n",
       "usg_pct             0.18200    0.218000    1.00000  \n",
       "ts_pct              0.52100    0.557000    1.50000  \n",
       "ast_pct             0.10200    0.178000    1.00000  \n",
       "potential_player    0.00000    0.000000    1.00000  "
      ]
     },
     "execution_count": 8,
     "metadata": {},
     "output_type": "execute_result"
    }
   ],
   "source": [
    "df.describe().T"
   ]
  },
  {
   "cell_type": "code",
   "execution_count": 9,
   "metadata": {},
   "outputs": [
    {
     "data": {
      "text/plain": [
       "player_name          0\n",
       "team_abbreviation    0\n",
       "age                  0\n",
       "player_height        0\n",
       "player_weight        0\n",
       "college              0\n",
       "country              0\n",
       "draft_year           0\n",
       "draft_round          0\n",
       "draft_number         0\n",
       "gp                   0\n",
       "pts                  0\n",
       "reb                  0\n",
       "ast                  0\n",
       "net_rating           0\n",
       "oreb_pct             0\n",
       "dreb_pct             0\n",
       "usg_pct              0\n",
       "ts_pct               0\n",
       "ast_pct              0\n",
       "season               0\n",
       "potential_player     0\n",
       "dtype: int64"
      ]
     },
     "execution_count": 9,
     "metadata": {},
     "output_type": "execute_result"
    }
   ],
   "source": [
    "df.isna().sum()"
   ]
  },
  {
   "cell_type": "markdown",
   "metadata": {},
   "source": [
    "Tidak Ada data Null, sehingga tidak dilakukan \"Deal with Missing Values\""
   ]
  },
  {
   "cell_type": "code",
   "execution_count": 11,
   "metadata": {},
   "outputs": [
    {
     "name": "stderr",
     "output_type": "stream",
     "text": [
      "D:\\anaconda3\\lib\\site-packages\\seaborn\\_decorators.py:36: FutureWarning: Pass the following variable as a keyword arg: x. From version 0.12, the only valid positional argument will be `data`, and passing other arguments without an explicit keyword will result in an error or misinterpretation.\n",
      "  warnings.warn(\n"
     ]
    },
    {
     "data": {
      "image/png": "[encoded data removed]",
      "text/plain": [
       "<Figure size 1080x1080 with 1 Axes>"
      ]
     },
     "metadata": {
      "needs_background": "light"
     },
     "output_type": "display_data"
    }
   ],
   "source": [
    "plt.figure(figsize=(15, 15))\n",
    "sns.boxplot(df['age'])\n",
    "plt.show()"
   ]
  },
  {
   "cell_type": "code",
   "execution_count": 12,
   "metadata": {},
   "outputs": [
    {
     "name": "stdout",
     "output_type": "stream",
     "text": [
      "IQR Dari Age:  6.0\n",
      "Upper Boundaries dari Age:  39.0\n",
      "Lower Boundaries dari Age:  15.0\n"
     ]
    }
   ],
   "source": [
    "Q1 = np.quantile(df[\"age\"], 0.25)\n",
    "Q3 = np.quantile(df[\"age\"], 0.75)\n",
    "IQR = Q3 - Q1\n",
    "Up = Q3 + (1.5*IQR)\n",
    "Low = Q1 - (1.5*IQR)\n",
    "print(\"IQR Dari Age: \", IQR)\n",
    "print(\"Upper Boundaries dari Age: \", Up)\n",
    "print(\"Lower Boundaries dari Age: \", Low)"
   ]
  },
  {
   "cell_type": "markdown",
   "metadata": {},
   "source": [
    "Terdapat 5 data yang dideteksi sebagai outliers"
   ]
  },
  {
   "cell_type": "code",
   "execution_count": 13,
   "metadata": {},
   "outputs": [
    {
     "name": "stderr",
     "output_type": "stream",
     "text": [
      "D:\\anaconda3\\lib\\site-packages\\seaborn\\_decorators.py:36: FutureWarning: Pass the following variable as a keyword arg: x. From version 0.12, the only valid positional argument will be `data`, and passing other arguments without an explicit keyword will result in an error or misinterpretation.\n",
      "  warnings.warn(\n"
     ]
    },
    {
     "data": {
      "image/png": "[encoded data removed]",
      "text/plain": [
       "<Figure size 1080x1080 with 1 Axes>"
      ]
     },
     "metadata": {
      "needs_background": "light"
     },
     "output_type": "display_data"
    }
   ],
   "source": [
    "plt.figure(figsize=(15, 15))\n",
    "sns.boxplot(df['player_height'])\n",
    "plt.show()"
   ]
  },
  {
   "cell_type": "code",
   "execution_count": 14,
   "metadata": {},
   "outputs": [
    {
     "name": "stdout",
     "output_type": "stream",
     "text": [
      "IQR Dari player_height:  12.699999999999989\n",
      "Upper Boundaries dari player_height:  227.32999999999998\n",
      "Lower Boundaries dari player_height:  176.53000000000003\n"
     ]
    }
   ],
   "source": [
    "Q1 = np.quantile(df[\"player_height\"], 0.25)\n",
    "Q3 = np.quantile(df[\"player_height\"], 0.75)\n",
    "IQR = Q3 - Q1\n",
    "Up = Q3 + (1.5*IQR)\n",
    "Low = Q1 - (1.5*IQR)\n",
    "print(\"IQR Dari player_height: \", IQR)\n",
    "print(\"Upper Boundaries dari player_height: \", Up)\n",
    "print(\"Lower Boundaries dari player_height: \", Low)"
   ]
  },
  {
   "cell_type": "code",
   "execution_count": 15,
   "metadata": {},
   "outputs": [
    {
     "name": "stderr",
     "output_type": "stream",
     "text": [
      "D:\\anaconda3\\lib\\site-packages\\seaborn\\_decorators.py:36: FutureWarning: Pass the following variable as a keyword arg: x. From version 0.12, the only valid positional argument will be `data`, and passing other arguments without an explicit keyword will result in an error or misinterpretation.\n",
      "  warnings.warn(\n"
     ]
    },
    {
     "data": {
      "image/png": "[encoded data removed]",
      "text/plain": [
       "<Figure size 1080x1080 with 1 Axes>"
      ]
     },
     "metadata": {
      "needs_background": "light"
     },
     "output_type": "display_data"
    }
   ],
   "source": [
    "plt.figure(figsize=(15, 15))\n",
    "sns.boxplot(df['player_weight'])\n",
    "plt.show()"
   ]
  },
  {
   "cell_type": "code",
   "execution_count": 16,
   "metadata": {},
   "outputs": [
    {
     "name": "stdout",
     "output_type": "stream",
     "text": [
      "IQR Dari player_weight:  18.597272000000004\n",
      "Upper Boundaries dari player_weight:  137.21158000000003\n",
      "Lower Boundaries dari player_weight:  62.822492\n"
     ]
    }
   ],
   "source": [
    "Q1 = np.quantile(df[\"player_weight\"], 0.25)\n",
    "Q3 = np.quantile(df[\"player_weight\"], 0.75)\n",
    "IQR = Q3 - Q1\n",
    "Up = Q3 + (1.5*IQR)\n",
    "Low = Q1 - (1.5*IQR)\n",
    "print(\"IQR Dari player_weight: \", IQR)\n",
    "print(\"Upper Boundaries dari player_weight: \", Up)\n",
    "print(\"Lower Boundaries dari player_weight: \", Low)"
   ]
  },
  {
   "cell_type": "markdown",
   "metadata": {},
   "source": [
    "## __2. EDA__"
   ]
  },
  {
   "cell_type": "code",
   "execution_count": 18,
   "metadata": {},
   "outputs": [
    {
     "data": {
      "text/plain": [
       "<matplotlib.axes._subplots.AxesSubplot at 0x24b638df070>"
      ]
     },
     "execution_count": 18,
     "metadata": {},
     "output_type": "execute_result"
    },
    {
     "data": {
      "image/png": "[encoded data removed]",
      "text/plain": [
       "<Figure size 1080x1080 with 2 Axes>"
      ]
     },
     "metadata": {
      "needs_background": "light"
     },
     "output_type": "display_data"
    }
   ],
   "source": [
    "plt.figure(figsize=(15,15))\n",
    "sns.heatmap(df.corr(method = 'pearson'), annot=True)"
   ]
  },
  {
   "cell_type": "code",
   "execution_count": 20,
   "metadata": {},
   "outputs": [],
   "source": [
    "a = df['potential_player'].value_counts()"
   ]
  },
  {
   "cell_type": "code",
   "execution_count": 21,
   "metadata": {},
   "outputs": [],
   "source": [
    "a_df = pd.DataFrame(a)"
   ]
  },
  {
   "cell_type": "code",
   "execution_count": 22,
   "metadata": {},
   "outputs": [
    {
     "data": {
      "text/html": [
       "<div>\n",
       "<style scoped>\n",
       "    .dataframe tbody tr th:only-of-type {\n",
       "        vertical-align: middle;\n",
       "    }\n",
       "\n",
       "    .dataframe tbody tr th {\n",
       "        vertical-align: top;\n",
       "    }\n",
       "\n",
       "    .dataframe thead th {\n",
       "        text-align: right;\n",
       "    }\n",
       "</style>\n",
       "<table border=\"1\" class=\"dataframe\">\n",
       "  <thead>\n",
       "    <tr style=\"text-align: right;\">\n",
       "      <th></th>\n",
       "      <th>potential_player</th>\n",
       "    </tr>\n",
       "  </thead>\n",
       "  <tbody>\n",
       "    <tr>\n",
       "      <th>0</th>\n",
       "      <td>10690</td>\n",
       "    </tr>\n",
       "    <tr>\n",
       "      <th>1</th>\n",
       "      <td>455</td>\n",
       "    </tr>\n",
       "  </tbody>\n",
       "</table>\n",
       "</div>"
      ],
      "text/plain": [
       "   potential_player\n",
       "0             10690\n",
       "1               455"
      ]
     },
     "execution_count": 22,
     "metadata": {},
     "output_type": "execute_result"
    }
   ],
   "source": [
    "a_df"
   ]
  },
  {
   "cell_type": "code",
   "execution_count": 23,
   "metadata": {},
   "outputs": [
    {
     "data": {
      "image/png": "[encoded data removed]",
      "text/plain": [
       "<Figure size 720x360 with 1 Axes>"
      ]
     },
     "metadata": {},
     "output_type": "display_data"
    }
   ],
   "source": [
    "plt.figure(figsize=(10,5))\n",
    "plt.title('Presentase Pemain Potensial')\n",
    "plt.pie(a_df['potential_player'], labels=list(a_df.index),\n",
    "       autopct='%.2f%%')\n",
    "plt.show()"
   ]
  },
  {
   "cell_type": "code",
   "execution_count": 24,
   "metadata": {},
   "outputs": [
    {
     "name": "stderr",
     "output_type": "stream",
     "text": [
      "D:\\anaconda3\\lib\\site-packages\\seaborn\\_decorators.py:36: FutureWarning: Pass the following variable as a keyword arg: x. From version 0.12, the only valid positional argument will be `data`, and passing other arguments without an explicit keyword will result in an error or misinterpretation.\n",
      "  warnings.warn(\n"
     ]
    },
    {
     "data": {
      "image/png": "[encoded data removed]",
      "text/plain": [
       "<Figure size 720x720 with 1 Axes>"
      ]
     },
     "metadata": {
      "needs_background": "light"
     },
     "output_type": "display_data"
    }
   ],
   "source": [
    "plt.figure(figsize=(10,10))\n",
    "plt.title(\"Persebaran pemain berpotensi\")\n",
    "sns.countplot(df['potential_player'])\n",
    "plt.show()"
   ]
  },
  {
   "cell_type": "markdown",
   "metadata": {},
   "source": [
    "Persebaran pemain berpotensi ini menunjukan bahwa pemain yang berpotensi hanya 4% dibandingkan dengan pemain yang sudah tidak berpotensi"
   ]
  },
  {
   "cell_type": "code",
   "execution_count": 28,
   "metadata": {},
   "outputs": [
    {
     "data": {
      "image/png": "[encoded data removed]",
      "text/plain": [
       "<Figure size 1080x1080 with 1 Axes>"
      ]
     },
     "metadata": {
      "needs_background": "light"
     },
     "output_type": "display_data"
    }
   ],
   "source": [
    "plt.figure(figsize=(15,15))\n",
    "sns.countplot(x='age', data=df)\n",
    "plt.show()"
   ]
  },
  {
   "cell_type": "code",
   "execution_count": 25,
   "metadata": {},
   "outputs": [
    {
     "data": {
      "image/png": "[encoded data removed]",
      "text/plain": [
       "<Figure size 432x288 with 1 Axes>"
      ]
     },
     "metadata": {
      "needs_background": "light"
     },
     "output_type": "display_data"
    }
   ],
   "source": [
    "plt.hist(df['age'], bins=5)\n",
    "plt.xlabel('Umur')\n",
    "plt.ylabel('Frequency')\n",
    "plt.show()"
   ]
  },
  {
   "cell_type": "code",
   "execution_count": 31,
   "metadata": {},
   "outputs": [
    {
     "data": {
      "image/png": "[encoded data removed]",
      "text/plain": [
       "<Figure size 1080x1080 with 1 Axes>"
      ]
     },
     "metadata": {
      "needs_background": "light"
     },
     "output_type": "display_data"
    }
   ],
   "source": [
    "plt.figure(figsize=(15,15))\n",
    "sns.countplot(x='age', hue='potential_player', data=df)\n",
    "plt.show()"
   ]
  },
  {
   "cell_type": "markdown",
   "metadata": {},
   "source": [
    "Sebaran umur pemain basket yang paling banyak adalah di umur 25-30 tahun, dan paling banyak berada di 24 tahun, sedangkan pemain berpotensi tersebar antara 19-40 tahun dengan paling banyak berada di 20-32 tahun"
   ]
  },
  {
   "cell_type": "code",
   "execution_count": 33,
   "metadata": {},
   "outputs": [
    {
     "data": {
      "image/png": "[encoded data removed]",
      "text/plain": [
       "<Figure size 1080x1080 with 1 Axes>"
      ]
     },
     "metadata": {
      "needs_background": "light"
     },
     "output_type": "display_data"
    }
   ],
   "source": [
    "plt.figure(figsize=(15,15))\n",
    "sns.countplot(x='player_height', data=df)\n",
    "plt.xticks(rotation=90)\n",
    "plt.show()"
   ]
  },
  {
   "cell_type": "code",
   "execution_count": 34,
   "metadata": {},
   "outputs": [
    {
     "data": {
      "image/png": "[encoded data removed]",
      "text/plain": [
       "<Figure size 1080x1080 with 1 Axes>"
      ]
     },
     "metadata": {
      "needs_background": "light"
     },
     "output_type": "display_data"
    }
   ],
   "source": [
    "plt.figure(figsize=(15,15))\n",
    "sns.countplot(x='player_height', hue='potential_player', data=df)\n",
    "plt.xticks(rotation=90)\n",
    "plt.show()"
   ]
  },
  {
   "cell_type": "code",
   "execution_count": 47,
   "metadata": {},
   "outputs": [
    {
     "data": {
      "image/png": "[encoded data removed]",
      "text/plain": [
       "<Figure size 792x792 with 1 Axes>"
      ]
     },
     "metadata": {
      "needs_background": "light"
     },
     "output_type": "display_data"
    }
   ],
   "source": [
    "plt.figure(figsize=(11,11))\n",
    "sns.barplot(x='player_height', y='reb',data=df)\n",
    "plt.xticks(rotation=90)\n",
    "plt.show()"
   ]
  },
  {
   "cell_type": "code",
   "execution_count": 48,
   "metadata": {},
   "outputs": [
    {
     "data": {
      "image/png": "[encoded data removed]",
      "text/plain": [
       "<Figure size 792x792 with 1 Axes>"
      ]
     },
     "metadata": {
      "needs_background": "light"
     },
     "output_type": "display_data"
    }
   ],
   "source": [
    "plt.figure(figsize=(11,11))\n",
    "sns.barplot(x='player_height', y='pts',data=df)\n",
    "plt.xticks(rotation=90)\n",
    "plt.show()"
   ]
  },
  {
   "cell_type": "code",
   "execution_count": 49,
   "metadata": {},
   "outputs": [
    {
     "data": {
      "image/png": "[encoded data removed]",
      "text/plain": [
       "<Figure size 792x792 with 1 Axes>"
      ]
     },
     "metadata": {
      "needs_background": "light"
     },
     "output_type": "display_data"
    }
   ],
   "source": [
    "plt.figure(figsize=(11,11))\n",
    "sns.barplot(x='player_height', y='ast',data=df)\n",
    "plt.xticks(rotation=90)\n",
    "plt.show()"
   ]
  },
  {
   "cell_type": "code",
   "execution_count": 50,
   "metadata": {},
   "outputs": [
    {
     "data": {
      "image/png": "[encoded data removed]",
      "text/plain": [
       "<Figure size 792x792 with 1 Axes>"
      ]
     },
     "metadata": {
      "needs_background": "light"
     },
     "output_type": "display_data"
    }
   ],
   "source": [
    "plt.figure(figsize=(11,11))\n",
    "sns.barplot(x='player_height', y='gp',data=df)\n",
    "plt.xticks(rotation=90)\n",
    "plt.show()"
   ]
  },
  {
   "cell_type": "code",
   "execution_count": 41,
   "metadata": {},
   "outputs": [
    {
     "data": {
      "image/png": "[encoded data removed]",
      "text/plain": [
       "<Figure size 792x792 with 1 Axes>"
      ]
     },
     "metadata": {
      "needs_background": "light"
     },
     "output_type": "display_data"
    }
   ],
   "source": [
    "plt.figure(figsize=(11,11))\n",
    "sns.barplot(x='age', y='gp',data=df)\n",
    "plt.xticks(rotation=90)\n",
    "plt.show()"
   ]
  },
  {
   "cell_type": "code",
   "execution_count": 44,
   "metadata": {},
   "outputs": [
    {
     "data": {
      "image/png": "[encoded data removed]",
      "text/plain": [
       "<Figure size 792x792 with 1 Axes>"
      ]
     },
     "metadata": {
      "needs_background": "light"
     },
     "output_type": "display_data"
    }
   ],
   "source": [
    "plt.figure(figsize=(11,11))\n",
    "sns.barplot(x='potential_player', y='gp',data=df)\n",
    "plt.xticks(rotation=90)\n",
    "plt.show()"
   ]
  },
  {
   "cell_type": "code",
   "execution_count": 45,
   "metadata": {},
   "outputs": [
    {
     "data": {
      "image/png": "[encoded data removed]",
      "text/plain": [
       "<Figure size 792x792 with 1 Axes>"
      ]
     },
     "metadata": {
      "needs_background": "light"
     },
     "output_type": "display_data"
    }
   ],
   "source": [
    "plt.figure(figsize=(11,11))\n",
    "sns.barplot(x='age', y='pts',data=df)\n",
    "plt.xticks(rotation=90)\n",
    "plt.show()"
   ]
  },
  {
   "cell_type": "code",
   "execution_count": 46,
   "metadata": {},
   "outputs": [
    {
     "data": {
      "image/png": "[encoded data removed]",
      "text/plain": [
       "<Figure size 792x792 with 1 Axes>"
      ]
     },
     "metadata": {
      "needs_background": "light"
     },
     "output_type": "display_data"
    }
   ],
   "source": [
    "plt.figure(figsize=(11,11))\n",
    "sns.barplot(x='potential_player', y='pts',data=df)\n",
    "plt.xticks(rotation=90)\n",
    "plt.show()"
   ]
  },
  {
   "cell_type": "code",
   "execution_count": 51,
   "metadata": {},
   "outputs": [
    {
     "data": {
      "image/png": "[encoded data removed]",
      "text/plain": [
       "<Figure size 792x792 with 1 Axes>"
      ]
     },
     "metadata": {
      "needs_background": "light"
     },
     "output_type": "display_data"
    }
   ],
   "source": [
    "plt.figure(figsize=(11,11))\n",
    "sns.barplot(x='potential_player', y='ast',data=df)\n",
    "plt.xticks(rotation=90)\n",
    "plt.show()"
   ]
  },
  {
   "cell_type": "code",
   "execution_count": 52,
   "metadata": {},
   "outputs": [
    {
     "data": {
      "image/png": "[encoded data removed]",
      "text/plain": [
       "<Figure size 792x792 with 1 Axes>"
      ]
     },
     "metadata": {
      "needs_background": "light"
     },
     "output_type": "display_data"
    }
   ],
   "source": [
    "plt.figure(figsize=(11,11))\n",
    "sns.barplot(x='potential_player', y='reb',data=df)\n",
    "plt.xticks(rotation=90)\n",
    "plt.show()"
   ]
  },
  {
   "cell_type": "code",
   "execution_count": 38,
   "metadata": {},
   "outputs": [
    {
     "data": {
      "image/png": "[encoded data removed]",
      "text/plain": [
       "<Figure size 432x288 with 1 Axes>"
      ]
     },
     "metadata": {
      "needs_background": "light"
     },
     "output_type": "display_data"
    }
   ],
   "source": [
    "plt.hist(df['player_weight'], bins=10)\n",
    "plt.xlabel('Berat Badan')\n",
    "plt.ylabel('Frequency')\n",
    "plt.show()"
   ]
  },
  {
   "cell_type": "markdown",
   "metadata": {},
   "source": [
    "## __3.Modelling__"
   ]
  },
  {
   "cell_type": "code",
   "execution_count": 53,
   "metadata": {},
   "outputs": [
    {
     "data": {
      "text/html": [
       "<div>\n",
       "<style scoped>\n",
       "    .dataframe tbody tr th:only-of-type {\n",
       "        vertical-align: middle;\n",
       "    }\n",
       "\n",
       "    .dataframe tbody tr th {\n",
       "        vertical-align: top;\n",
       "    }\n",
       "\n",
       "    .dataframe thead th {\n",
       "        text-align: right;\n",
       "    }\n",
       "</style>\n",
       "<table border=\"1\" class=\"dataframe\">\n",
       "  <thead>\n",
       "    <tr style=\"text-align: right;\">\n",
       "      <th></th>\n",
       "      <th>player_name</th>\n",
       "      <th>team_abbreviation</th>\n",
       "      <th>age</th>\n",
       "      <th>player_height</th>\n",
       "      <th>player_weight</th>\n",
       "      <th>college</th>\n",
       "      <th>country</th>\n",
       "      <th>draft_year</th>\n",
       "      <th>draft_round</th>\n",
       "      <th>draft_number</th>\n",
       "      <th>...</th>\n",
       "      <th>reb</th>\n",
       "      <th>ast</th>\n",
       "      <th>net_rating</th>\n",
       "      <th>oreb_pct</th>\n",
       "      <th>dreb_pct</th>\n",
       "      <th>usg_pct</th>\n",
       "      <th>ts_pct</th>\n",
       "      <th>ast_pct</th>\n",
       "      <th>season</th>\n",
       "      <th>potential_player</th>\n",
       "    </tr>\n",
       "  </thead>\n",
       "  <tbody>\n",
       "    <tr>\n",
       "      <th>0</th>\n",
       "      <td>Dennis Rodman</td>\n",
       "      <td>CHI</td>\n",
       "      <td>36.0</td>\n",
       "      <td>198.12</td>\n",
       "      <td>99.790240</td>\n",
       "      <td>Southeastern Oklahoma State</td>\n",
       "      <td>USA</td>\n",
       "      <td>1986</td>\n",
       "      <td>2</td>\n",
       "      <td>27</td>\n",
       "      <td>...</td>\n",
       "      <td>16.1</td>\n",
       "      <td>3.1</td>\n",
       "      <td>16.1</td>\n",
       "      <td>0.186</td>\n",
       "      <td>0.323</td>\n",
       "      <td>0.100</td>\n",
       "      <td>0.479</td>\n",
       "      <td>0.113</td>\n",
       "      <td>1996-97</td>\n",
       "      <td>0</td>\n",
       "    </tr>\n",
       "    <tr>\n",
       "      <th>1</th>\n",
       "      <td>Dwayne Schintzius</td>\n",
       "      <td>LAC</td>\n",
       "      <td>28.0</td>\n",
       "      <td>215.90</td>\n",
       "      <td>117.933920</td>\n",
       "      <td>Florida</td>\n",
       "      <td>USA</td>\n",
       "      <td>1990</td>\n",
       "      <td>1</td>\n",
       "      <td>24</td>\n",
       "      <td>...</td>\n",
       "      <td>1.5</td>\n",
       "      <td>0.3</td>\n",
       "      <td>12.3</td>\n",
       "      <td>0.078</td>\n",
       "      <td>0.151</td>\n",
       "      <td>0.175</td>\n",
       "      <td>0.430</td>\n",
       "      <td>0.048</td>\n",
       "      <td>1996-97</td>\n",
       "      <td>0</td>\n",
       "    </tr>\n",
       "    <tr>\n",
       "      <th>2</th>\n",
       "      <td>Earl Cureton</td>\n",
       "      <td>TOR</td>\n",
       "      <td>39.0</td>\n",
       "      <td>205.74</td>\n",
       "      <td>95.254320</td>\n",
       "      <td>Detroit Mercy</td>\n",
       "      <td>USA</td>\n",
       "      <td>1979</td>\n",
       "      <td>3</td>\n",
       "      <td>58</td>\n",
       "      <td>...</td>\n",
       "      <td>1.0</td>\n",
       "      <td>0.4</td>\n",
       "      <td>-2.1</td>\n",
       "      <td>0.105</td>\n",
       "      <td>0.102</td>\n",
       "      <td>0.103</td>\n",
       "      <td>0.376</td>\n",
       "      <td>0.148</td>\n",
       "      <td>1996-97</td>\n",
       "      <td>0</td>\n",
       "    </tr>\n",
       "    <tr>\n",
       "      <th>3</th>\n",
       "      <td>Ed O'Bannon</td>\n",
       "      <td>DAL</td>\n",
       "      <td>24.0</td>\n",
       "      <td>203.20</td>\n",
       "      <td>100.697424</td>\n",
       "      <td>UCLA</td>\n",
       "      <td>USA</td>\n",
       "      <td>1995</td>\n",
       "      <td>1</td>\n",
       "      <td>9</td>\n",
       "      <td>...</td>\n",
       "      <td>2.3</td>\n",
       "      <td>0.6</td>\n",
       "      <td>-8.7</td>\n",
       "      <td>0.060</td>\n",
       "      <td>0.149</td>\n",
       "      <td>0.167</td>\n",
       "      <td>0.399</td>\n",
       "      <td>0.077</td>\n",
       "      <td>1996-97</td>\n",
       "      <td>0</td>\n",
       "    </tr>\n",
       "    <tr>\n",
       "      <th>4</th>\n",
       "      <td>Ed Pinckney</td>\n",
       "      <td>MIA</td>\n",
       "      <td>34.0</td>\n",
       "      <td>205.74</td>\n",
       "      <td>108.862080</td>\n",
       "      <td>Villanova</td>\n",
       "      <td>USA</td>\n",
       "      <td>1985</td>\n",
       "      <td>1</td>\n",
       "      <td>10</td>\n",
       "      <td>...</td>\n",
       "      <td>2.4</td>\n",
       "      <td>0.2</td>\n",
       "      <td>-11.2</td>\n",
       "      <td>0.109</td>\n",
       "      <td>0.179</td>\n",
       "      <td>0.127</td>\n",
       "      <td>0.611</td>\n",
       "      <td>0.040</td>\n",
       "      <td>1996-97</td>\n",
       "      <td>0</td>\n",
       "    </tr>\n",
       "  </tbody>\n",
       "</table>\n",
       "<p>5 rows × 22 columns</p>\n",
       "</div>"
      ],
      "text/plain": [
       "         player_name team_abbreviation   age  player_height  player_weight  \\\n",
       "0      Dennis Rodman               CHI  36.0         198.12      99.790240   \n",
       "1  Dwayne Schintzius               LAC  28.0         215.90     117.933920   \n",
       "2       Earl Cureton               TOR  39.0         205.74      95.254320   \n",
       "3        Ed O'Bannon               DAL  24.0         203.20     100.697424   \n",
       "4        Ed Pinckney               MIA  34.0         205.74     108.862080   \n",
       "\n",
       "                       college country draft_year draft_round draft_number  \\\n",
       "0  Southeastern Oklahoma State     USA       1986           2           27   \n",
       "1                      Florida     USA       1990           1           24   \n",
       "2                Detroit Mercy     USA       1979           3           58   \n",
       "3                         UCLA     USA       1995           1            9   \n",
       "4                    Villanova     USA       1985           1           10   \n",
       "\n",
       "   ...   reb  ast  net_rating  oreb_pct  dreb_pct  usg_pct  ts_pct  ast_pct  \\\n",
       "0  ...  16.1  3.1        16.1     0.186     0.323    0.100   0.479    0.113   \n",
       "1  ...   1.5  0.3        12.3     0.078     0.151    0.175   0.430    0.048   \n",
       "2  ...   1.0  0.4        -2.1     0.105     0.102    0.103   0.376    0.148   \n",
       "3  ...   2.3  0.6        -8.7     0.060     0.149    0.167   0.399    0.077   \n",
       "4  ...   2.4  0.2       -11.2     0.109     0.179    0.127   0.611    0.040   \n",
       "\n",
       "    season  potential_player  \n",
       "0  1996-97                 0  \n",
       "1  1996-97                 0  \n",
       "2  1996-97                 0  \n",
       "3  1996-97                 0  \n",
       "4  1996-97                 0  \n",
       "\n",
       "[5 rows x 22 columns]"
      ]
     },
     "execution_count": 53,
     "metadata": {},
     "output_type": "execute_result"
    }
   ],
   "source": [
    "df.head()"
   ]
  },
  {
   "cell_type": "code",
   "execution_count": 197,
   "metadata": {},
   "outputs": [],
   "source": [
    "nb = pd.read_csv('C:\\\\Users\\\\ASUS\\\\Desktop\\\\new_players.csv')"
   ]
  },
  {
   "cell_type": "code",
   "execution_count": 198,
   "metadata": {},
   "outputs": [
    {
     "data": {
      "text/html": [
       "<div>\n",
       "<style scoped>\n",
       "    .dataframe tbody tr th:only-of-type {\n",
       "        vertical-align: middle;\n",
       "    }\n",
       "\n",
       "    .dataframe tbody tr th {\n",
       "        vertical-align: top;\n",
       "    }\n",
       "\n",
       "    .dataframe thead th {\n",
       "        text-align: right;\n",
       "    }\n",
       "</style>\n",
       "<table border=\"1\" class=\"dataframe\">\n",
       "  <thead>\n",
       "    <tr style=\"text-align: right;\">\n",
       "      <th></th>\n",
       "      <th>Unnamed: 0</th>\n",
       "      <th>player_id</th>\n",
       "      <th>age</th>\n",
       "      <th>player_height</th>\n",
       "      <th>player_weight</th>\n",
       "      <th>college</th>\n",
       "      <th>country</th>\n",
       "      <th>gp</th>\n",
       "      <th>pts</th>\n",
       "      <th>reb</th>\n",
       "      <th>ast</th>\n",
       "      <th>net_rating</th>\n",
       "      <th>oreb_pct</th>\n",
       "      <th>dreb_pct</th>\n",
       "      <th>usg_pct</th>\n",
       "      <th>ts_pct</th>\n",
       "      <th>ast_pct</th>\n",
       "    </tr>\n",
       "  </thead>\n",
       "  <tbody>\n",
       "    <tr>\n",
       "      <th>0</th>\n",
       "      <td>0</td>\n",
       "      <td>1</td>\n",
       "      <td>37.0</td>\n",
       "      <td>205.74</td>\n",
       "      <td>104.326160</td>\n",
       "      <td>Texas Christian</td>\n",
       "      <td>USA</td>\n",
       "      <td>70</td>\n",
       "      <td>3.0</td>\n",
       "      <td>4.2</td>\n",
       "      <td>0.7</td>\n",
       "      <td>-5.2</td>\n",
       "      <td>0.084</td>\n",
       "      <td>0.237</td>\n",
       "      <td>0.114</td>\n",
       "      <td>0.489</td>\n",
       "      <td>0.069</td>\n",
       "    </tr>\n",
       "    <tr>\n",
       "      <th>1</th>\n",
       "      <td>1</td>\n",
       "      <td>2</td>\n",
       "      <td>33.0</td>\n",
       "      <td>160.02</td>\n",
       "      <td>63.956472</td>\n",
       "      <td>Wake Forest</td>\n",
       "      <td>USA</td>\n",
       "      <td>61</td>\n",
       "      <td>5.7</td>\n",
       "      <td>2.2</td>\n",
       "      <td>5.4</td>\n",
       "      <td>-8.4</td>\n",
       "      <td>0.020</td>\n",
       "      <td>0.074</td>\n",
       "      <td>0.129</td>\n",
       "      <td>0.492</td>\n",
       "      <td>0.344</td>\n",
       "    </tr>\n",
       "    <tr>\n",
       "      <th>2</th>\n",
       "      <td>2</td>\n",
       "      <td>3</td>\n",
       "      <td>27.0</td>\n",
       "      <td>193.04</td>\n",
       "      <td>95.254320</td>\n",
       "      <td>Indiana</td>\n",
       "      <td>USA</td>\n",
       "      <td>36</td>\n",
       "      <td>18.8</td>\n",
       "      <td>5.6</td>\n",
       "      <td>5.2</td>\n",
       "      <td>5.6</td>\n",
       "      <td>0.018</td>\n",
       "      <td>0.154</td>\n",
       "      <td>0.278</td>\n",
       "      <td>0.519</td>\n",
       "      <td>0.250</td>\n",
       "    </tr>\n",
       "    <tr>\n",
       "      <th>3</th>\n",
       "      <td>3</td>\n",
       "      <td>4</td>\n",
       "      <td>21.0</td>\n",
       "      <td>195.58</td>\n",
       "      <td>99.790240</td>\n",
       "      <td>Cincinnati</td>\n",
       "      <td>USA</td>\n",
       "      <td>42</td>\n",
       "      <td>2.5</td>\n",
       "      <td>1.3</td>\n",
       "      <td>1.1</td>\n",
       "      <td>-4.2</td>\n",
       "      <td>0.030</td>\n",
       "      <td>0.115</td>\n",
       "      <td>0.171</td>\n",
       "      <td>0.400</td>\n",
       "      <td>0.174</td>\n",
       "    </tr>\n",
       "    <tr>\n",
       "      <th>4</th>\n",
       "      <td>4</td>\n",
       "      <td>5</td>\n",
       "      <td>23.0</td>\n",
       "      <td>215.90</td>\n",
       "      <td>122.469840</td>\n",
       "      <td>None</td>\n",
       "      <td>USA</td>\n",
       "      <td>26</td>\n",
       "      <td>3.3</td>\n",
       "      <td>3.4</td>\n",
       "      <td>0.3</td>\n",
       "      <td>-7.8</td>\n",
       "      <td>0.069</td>\n",
       "      <td>0.221</td>\n",
       "      <td>0.112</td>\n",
       "      <td>0.551</td>\n",
       "      <td>0.037</td>\n",
       "    </tr>\n",
       "    <tr>\n",
       "      <th>...</th>\n",
       "      <td>...</td>\n",
       "      <td>...</td>\n",
       "      <td>...</td>\n",
       "      <td>...</td>\n",
       "      <td>...</td>\n",
       "      <td>...</td>\n",
       "      <td>...</td>\n",
       "      <td>...</td>\n",
       "      <td>...</td>\n",
       "      <td>...</td>\n",
       "      <td>...</td>\n",
       "      <td>...</td>\n",
       "      <td>...</td>\n",
       "      <td>...</td>\n",
       "      <td>...</td>\n",
       "      <td>...</td>\n",
       "      <td>...</td>\n",
       "    </tr>\n",
       "    <tr>\n",
       "      <th>495</th>\n",
       "      <td>495</td>\n",
       "      <td>496</td>\n",
       "      <td>28.0</td>\n",
       "      <td>200.66</td>\n",
       "      <td>103.418976</td>\n",
       "      <td>Nevada-Las Vegas</td>\n",
       "      <td>USA</td>\n",
       "      <td>81</td>\n",
       "      <td>21.8</td>\n",
       "      <td>11.8</td>\n",
       "      <td>1.8</td>\n",
       "      <td>7.1</td>\n",
       "      <td>0.086</td>\n",
       "      <td>0.238</td>\n",
       "      <td>0.222</td>\n",
       "      <td>0.591</td>\n",
       "      <td>0.068</td>\n",
       "    </tr>\n",
       "    <tr>\n",
       "      <th>496</th>\n",
       "      <td>496</td>\n",
       "      <td>497</td>\n",
       "      <td>28.0</td>\n",
       "      <td>200.66</td>\n",
       "      <td>107.047712</td>\n",
       "      <td>California</td>\n",
       "      <td>USA</td>\n",
       "      <td>78</td>\n",
       "      <td>12.8</td>\n",
       "      <td>4.4</td>\n",
       "      <td>1.6</td>\n",
       "      <td>-4.9</td>\n",
       "      <td>0.054</td>\n",
       "      <td>0.124</td>\n",
       "      <td>0.233</td>\n",
       "      <td>0.490</td>\n",
       "      <td>0.099</td>\n",
       "    </tr>\n",
       "    <tr>\n",
       "      <th>497</th>\n",
       "      <td>497</td>\n",
       "      <td>498</td>\n",
       "      <td>23.0</td>\n",
       "      <td>208.28</td>\n",
       "      <td>103.418976</td>\n",
       "      <td>Wisconsin</td>\n",
       "      <td>USA</td>\n",
       "      <td>46</td>\n",
       "      <td>4.7</td>\n",
       "      <td>2.6</td>\n",
       "      <td>0.5</td>\n",
       "      <td>0.2</td>\n",
       "      <td>0.087</td>\n",
       "      <td>0.162</td>\n",
       "      <td>0.174</td>\n",
       "      <td>0.536</td>\n",
       "      <td>0.072</td>\n",
       "    </tr>\n",
       "    <tr>\n",
       "      <th>498</th>\n",
       "      <td>498</td>\n",
       "      <td>499</td>\n",
       "      <td>24.0</td>\n",
       "      <td>213.36</td>\n",
       "      <td>108.862080</td>\n",
       "      <td>DePaul</td>\n",
       "      <td>USA</td>\n",
       "      <td>69</td>\n",
       "      <td>6.1</td>\n",
       "      <td>3.9</td>\n",
       "      <td>0.2</td>\n",
       "      <td>-1.7</td>\n",
       "      <td>0.099</td>\n",
       "      <td>0.140</td>\n",
       "      <td>0.146</td>\n",
       "      <td>0.598</td>\n",
       "      <td>0.021</td>\n",
       "    </tr>\n",
       "    <tr>\n",
       "      <th>499</th>\n",
       "      <td>499</td>\n",
       "      <td>500</td>\n",
       "      <td>31.0</td>\n",
       "      <td>203.20</td>\n",
       "      <td>113.398000</td>\n",
       "      <td>Tennessee State</td>\n",
       "      <td>USA</td>\n",
       "      <td>81</td>\n",
       "      <td>12.8</td>\n",
       "      <td>10.2</td>\n",
       "      <td>4.2</td>\n",
       "      <td>2.5</td>\n",
       "      <td>0.070</td>\n",
       "      <td>0.247</td>\n",
       "      <td>0.162</td>\n",
       "      <td>0.552</td>\n",
       "      <td>0.174</td>\n",
       "    </tr>\n",
       "  </tbody>\n",
       "</table>\n",
       "<p>500 rows × 17 columns</p>\n",
       "</div>"
      ],
      "text/plain": [
       "     Unnamed: 0  player_id   age  player_height  player_weight  \\\n",
       "0             0          1  37.0         205.74     104.326160   \n",
       "1             1          2  33.0         160.02      63.956472   \n",
       "2             2          3  27.0         193.04      95.254320   \n",
       "3             3          4  21.0         195.58      99.790240   \n",
       "4             4          5  23.0         215.90     122.469840   \n",
       "..          ...        ...   ...            ...            ...   \n",
       "495         495        496  28.0         200.66     103.418976   \n",
       "496         496        497  28.0         200.66     107.047712   \n",
       "497         497        498  23.0         208.28     103.418976   \n",
       "498         498        499  24.0         213.36     108.862080   \n",
       "499         499        500  31.0         203.20     113.398000   \n",
       "\n",
       "              college country  gp   pts   reb  ast  net_rating  oreb_pct  \\\n",
       "0     Texas Christian     USA  70   3.0   4.2  0.7        -5.2     0.084   \n",
       "1         Wake Forest     USA  61   5.7   2.2  5.4        -8.4     0.020   \n",
       "2             Indiana     USA  36  18.8   5.6  5.2         5.6     0.018   \n",
       "3          Cincinnati     USA  42   2.5   1.3  1.1        -4.2     0.030   \n",
       "4                None     USA  26   3.3   3.4  0.3        -7.8     0.069   \n",
       "..                ...     ...  ..   ...   ...  ...         ...       ...   \n",
       "495  Nevada-Las Vegas     USA  81  21.8  11.8  1.8         7.1     0.086   \n",
       "496        California     USA  78  12.8   4.4  1.6        -4.9     0.054   \n",
       "497         Wisconsin     USA  46   4.7   2.6  0.5         0.2     0.087   \n",
       "498            DePaul     USA  69   6.1   3.9  0.2        -1.7     0.099   \n",
       "499   Tennessee State     USA  81  12.8  10.2  4.2         2.5     0.070   \n",
       "\n",
       "     dreb_pct  usg_pct  ts_pct  ast_pct  \n",
       "0       0.237    0.114   0.489    0.069  \n",
       "1       0.074    0.129   0.492    0.344  \n",
       "2       0.154    0.278   0.519    0.250  \n",
       "3       0.115    0.171   0.400    0.174  \n",
       "4       0.221    0.112   0.551    0.037  \n",
       "..        ...      ...     ...      ...  \n",
       "495     0.238    0.222   0.591    0.068  \n",
       "496     0.124    0.233   0.490    0.099  \n",
       "497     0.162    0.174   0.536    0.072  \n",
       "498     0.140    0.146   0.598    0.021  \n",
       "499     0.247    0.162   0.552    0.174  \n",
       "\n",
       "[500 rows x 17 columns]"
      ]
     },
     "execution_count": 198,
     "metadata": {},
     "output_type": "execute_result"
    }
   ],
   "source": [
    "nb"
   ]
  },
  {
   "cell_type": "code",
   "execution_count": 199,
   "metadata": {},
   "outputs": [],
   "source": [
    "npb = nb.drop(['Unnamed: 0', 'player_id','college', 'country'], axis=1)"
   ]
  },
  {
   "cell_type": "code",
   "execution_count": 200,
   "metadata": {},
   "outputs": [
    {
     "data": {
      "text/html": [
       "<div>\n",
       "<style scoped>\n",
       "    .dataframe tbody tr th:only-of-type {\n",
       "        vertical-align: middle;\n",
       "    }\n",
       "\n",
       "    .dataframe tbody tr th {\n",
       "        vertical-align: top;\n",
       "    }\n",
       "\n",
       "    .dataframe thead th {\n",
       "        text-align: right;\n",
       "    }\n",
       "</style>\n",
       "<table border=\"1\" class=\"dataframe\">\n",
       "  <thead>\n",
       "    <tr style=\"text-align: right;\">\n",
       "      <th></th>\n",
       "      <th>age</th>\n",
       "      <th>player_height</th>\n",
       "      <th>player_weight</th>\n",
       "      <th>gp</th>\n",
       "      <th>pts</th>\n",
       "      <th>reb</th>\n",
       "      <th>ast</th>\n",
       "      <th>net_rating</th>\n",
       "      <th>oreb_pct</th>\n",
       "      <th>dreb_pct</th>\n",
       "      <th>usg_pct</th>\n",
       "      <th>ts_pct</th>\n",
       "      <th>ast_pct</th>\n",
       "    </tr>\n",
       "  </thead>\n",
       "  <tbody>\n",
       "    <tr>\n",
       "      <th>0</th>\n",
       "      <td>37.0</td>\n",
       "      <td>205.74</td>\n",
       "      <td>104.326160</td>\n",
       "      <td>70</td>\n",
       "      <td>3.0</td>\n",
       "      <td>4.2</td>\n",
       "      <td>0.7</td>\n",
       "      <td>-5.2</td>\n",
       "      <td>0.084</td>\n",
       "      <td>0.237</td>\n",
       "      <td>0.114</td>\n",
       "      <td>0.489</td>\n",
       "      <td>0.069</td>\n",
       "    </tr>\n",
       "    <tr>\n",
       "      <th>1</th>\n",
       "      <td>33.0</td>\n",
       "      <td>160.02</td>\n",
       "      <td>63.956472</td>\n",
       "      <td>61</td>\n",
       "      <td>5.7</td>\n",
       "      <td>2.2</td>\n",
       "      <td>5.4</td>\n",
       "      <td>-8.4</td>\n",
       "      <td>0.020</td>\n",
       "      <td>0.074</td>\n",
       "      <td>0.129</td>\n",
       "      <td>0.492</td>\n",
       "      <td>0.344</td>\n",
       "    </tr>\n",
       "    <tr>\n",
       "      <th>2</th>\n",
       "      <td>27.0</td>\n",
       "      <td>193.04</td>\n",
       "      <td>95.254320</td>\n",
       "      <td>36</td>\n",
       "      <td>18.8</td>\n",
       "      <td>5.6</td>\n",
       "      <td>5.2</td>\n",
       "      <td>5.6</td>\n",
       "      <td>0.018</td>\n",
       "      <td>0.154</td>\n",
       "      <td>0.278</td>\n",
       "      <td>0.519</td>\n",
       "      <td>0.250</td>\n",
       "    </tr>\n",
       "    <tr>\n",
       "      <th>3</th>\n",
       "      <td>21.0</td>\n",
       "      <td>195.58</td>\n",
       "      <td>99.790240</td>\n",
       "      <td>42</td>\n",
       "      <td>2.5</td>\n",
       "      <td>1.3</td>\n",
       "      <td>1.1</td>\n",
       "      <td>-4.2</td>\n",
       "      <td>0.030</td>\n",
       "      <td>0.115</td>\n",
       "      <td>0.171</td>\n",
       "      <td>0.400</td>\n",
       "      <td>0.174</td>\n",
       "    </tr>\n",
       "    <tr>\n",
       "      <th>4</th>\n",
       "      <td>23.0</td>\n",
       "      <td>215.90</td>\n",
       "      <td>122.469840</td>\n",
       "      <td>26</td>\n",
       "      <td>3.3</td>\n",
       "      <td>3.4</td>\n",
       "      <td>0.3</td>\n",
       "      <td>-7.8</td>\n",
       "      <td>0.069</td>\n",
       "      <td>0.221</td>\n",
       "      <td>0.112</td>\n",
       "      <td>0.551</td>\n",
       "      <td>0.037</td>\n",
       "    </tr>\n",
       "    <tr>\n",
       "      <th>...</th>\n",
       "      <td>...</td>\n",
       "      <td>...</td>\n",
       "      <td>...</td>\n",
       "      <td>...</td>\n",
       "      <td>...</td>\n",
       "      <td>...</td>\n",
       "      <td>...</td>\n",
       "      <td>...</td>\n",
       "      <td>...</td>\n",
       "      <td>...</td>\n",
       "      <td>...</td>\n",
       "      <td>...</td>\n",
       "      <td>...</td>\n",
       "    </tr>\n",
       "    <tr>\n",
       "      <th>495</th>\n",
       "      <td>28.0</td>\n",
       "      <td>200.66</td>\n",
       "      <td>103.418976</td>\n",
       "      <td>81</td>\n",
       "      <td>21.8</td>\n",
       "      <td>11.8</td>\n",
       "      <td>1.8</td>\n",
       "      <td>7.1</td>\n",
       "      <td>0.086</td>\n",
       "      <td>0.238</td>\n",
       "      <td>0.222</td>\n",
       "      <td>0.591</td>\n",
       "      <td>0.068</td>\n",
       "    </tr>\n",
       "    <tr>\n",
       "      <th>496</th>\n",
       "      <td>28.0</td>\n",
       "      <td>200.66</td>\n",
       "      <td>107.047712</td>\n",
       "      <td>78</td>\n",
       "      <td>12.8</td>\n",
       "      <td>4.4</td>\n",
       "      <td>1.6</td>\n",
       "      <td>-4.9</td>\n",
       "      <td>0.054</td>\n",
       "      <td>0.124</td>\n",
       "      <td>0.233</td>\n",
       "      <td>0.490</td>\n",
       "      <td>0.099</td>\n",
       "    </tr>\n",
       "    <tr>\n",
       "      <th>497</th>\n",
       "      <td>23.0</td>\n",
       "      <td>208.28</td>\n",
       "      <td>103.418976</td>\n",
       "      <td>46</td>\n",
       "      <td>4.7</td>\n",
       "      <td>2.6</td>\n",
       "      <td>0.5</td>\n",
       "      <td>0.2</td>\n",
       "      <td>0.087</td>\n",
       "      <td>0.162</td>\n",
       "      <td>0.174</td>\n",
       "      <td>0.536</td>\n",
       "      <td>0.072</td>\n",
       "    </tr>\n",
       "    <tr>\n",
       "      <th>498</th>\n",
       "      <td>24.0</td>\n",
       "      <td>213.36</td>\n",
       "      <td>108.862080</td>\n",
       "      <td>69</td>\n",
       "      <td>6.1</td>\n",
       "      <td>3.9</td>\n",
       "      <td>0.2</td>\n",
       "      <td>-1.7</td>\n",
       "      <td>0.099</td>\n",
       "      <td>0.140</td>\n",
       "      <td>0.146</td>\n",
       "      <td>0.598</td>\n",
       "      <td>0.021</td>\n",
       "    </tr>\n",
       "    <tr>\n",
       "      <th>499</th>\n",
       "      <td>31.0</td>\n",
       "      <td>203.20</td>\n",
       "      <td>113.398000</td>\n",
       "      <td>81</td>\n",
       "      <td>12.8</td>\n",
       "      <td>10.2</td>\n",
       "      <td>4.2</td>\n",
       "      <td>2.5</td>\n",
       "      <td>0.070</td>\n",
       "      <td>0.247</td>\n",
       "      <td>0.162</td>\n",
       "      <td>0.552</td>\n",
       "      <td>0.174</td>\n",
       "    </tr>\n",
       "  </tbody>\n",
       "</table>\n",
       "<p>500 rows × 13 columns</p>\n",
       "</div>"
      ],
      "text/plain": [
       "      age  player_height  player_weight  gp   pts   reb  ast  net_rating  \\\n",
       "0    37.0         205.74     104.326160  70   3.0   4.2  0.7        -5.2   \n",
       "1    33.0         160.02      63.956472  61   5.7   2.2  5.4        -8.4   \n",
       "2    27.0         193.04      95.254320  36  18.8   5.6  5.2         5.6   \n",
       "3    21.0         195.58      99.790240  42   2.5   1.3  1.1        -4.2   \n",
       "4    23.0         215.90     122.469840  26   3.3   3.4  0.3        -7.8   \n",
       "..    ...            ...            ...  ..   ...   ...  ...         ...   \n",
       "495  28.0         200.66     103.418976  81  21.8  11.8  1.8         7.1   \n",
       "496  28.0         200.66     107.047712  78  12.8   4.4  1.6        -4.9   \n",
       "497  23.0         208.28     103.418976  46   4.7   2.6  0.5         0.2   \n",
       "498  24.0         213.36     108.862080  69   6.1   3.9  0.2        -1.7   \n",
       "499  31.0         203.20     113.398000  81  12.8  10.2  4.2         2.5   \n",
       "\n",
       "     oreb_pct  dreb_pct  usg_pct  ts_pct  ast_pct  \n",
       "0       0.084     0.237    0.114   0.489    0.069  \n",
       "1       0.020     0.074    0.129   0.492    0.344  \n",
       "2       0.018     0.154    0.278   0.519    0.250  \n",
       "3       0.030     0.115    0.171   0.400    0.174  \n",
       "4       0.069     0.221    0.112   0.551    0.037  \n",
       "..        ...       ...      ...     ...      ...  \n",
       "495     0.086     0.238    0.222   0.591    0.068  \n",
       "496     0.054     0.124    0.233   0.490    0.099  \n",
       "497     0.087     0.162    0.174   0.536    0.072  \n",
       "498     0.099     0.140    0.146   0.598    0.021  \n",
       "499     0.070     0.247    0.162   0.552    0.174  \n",
       "\n",
       "[500 rows x 13 columns]"
      ]
     },
     "execution_count": 200,
     "metadata": {},
     "output_type": "execute_result"
    }
   ],
   "source": [
    "npb"
   ]
  },
  {
   "cell_type": "code",
   "execution_count": 54,
   "metadata": {},
   "outputs": [],
   "source": [
    "df1 = df.drop(['player_name', 'team_abbreviation', 'college','country','draft_year',\n",
    "                     'draft_round','draft_number','season'], axis=1)"
   ]
  },
  {
   "cell_type": "code",
   "execution_count": 55,
   "metadata": {},
   "outputs": [
    {
     "data": {
      "text/html": [
       "<div>\n",
       "<style scoped>\n",
       "    .dataframe tbody tr th:only-of-type {\n",
       "        vertical-align: middle;\n",
       "    }\n",
       "\n",
       "    .dataframe tbody tr th {\n",
       "        vertical-align: top;\n",
       "    }\n",
       "\n",
       "    .dataframe thead th {\n",
       "        text-align: right;\n",
       "    }\n",
       "</style>\n",
       "<table border=\"1\" class=\"dataframe\">\n",
       "  <thead>\n",
       "    <tr style=\"text-align: right;\">\n",
       "      <th></th>\n",
       "      <th>age</th>\n",
       "      <th>player_height</th>\n",
       "      <th>player_weight</th>\n",
       "      <th>gp</th>\n",
       "      <th>pts</th>\n",
       "      <th>reb</th>\n",
       "      <th>ast</th>\n",
       "      <th>net_rating</th>\n",
       "      <th>oreb_pct</th>\n",
       "      <th>dreb_pct</th>\n",
       "      <th>usg_pct</th>\n",
       "      <th>ts_pct</th>\n",
       "      <th>ast_pct</th>\n",
       "      <th>potential_player</th>\n",
       "    </tr>\n",
       "  </thead>\n",
       "  <tbody>\n",
       "    <tr>\n",
       "      <th>0</th>\n",
       "      <td>36.0</td>\n",
       "      <td>198.12</td>\n",
       "      <td>99.790240</td>\n",
       "      <td>55</td>\n",
       "      <td>5.7</td>\n",
       "      <td>16.1</td>\n",
       "      <td>3.1</td>\n",
       "      <td>16.1</td>\n",
       "      <td>0.186</td>\n",
       "      <td>0.323</td>\n",
       "      <td>0.100</td>\n",
       "      <td>0.479</td>\n",
       "      <td>0.113</td>\n",
       "      <td>0</td>\n",
       "    </tr>\n",
       "    <tr>\n",
       "      <th>1</th>\n",
       "      <td>28.0</td>\n",
       "      <td>215.90</td>\n",
       "      <td>117.933920</td>\n",
       "      <td>15</td>\n",
       "      <td>2.3</td>\n",
       "      <td>1.5</td>\n",
       "      <td>0.3</td>\n",
       "      <td>12.3</td>\n",
       "      <td>0.078</td>\n",
       "      <td>0.151</td>\n",
       "      <td>0.175</td>\n",
       "      <td>0.430</td>\n",
       "      <td>0.048</td>\n",
       "      <td>0</td>\n",
       "    </tr>\n",
       "    <tr>\n",
       "      <th>2</th>\n",
       "      <td>39.0</td>\n",
       "      <td>205.74</td>\n",
       "      <td>95.254320</td>\n",
       "      <td>9</td>\n",
       "      <td>0.8</td>\n",
       "      <td>1.0</td>\n",
       "      <td>0.4</td>\n",
       "      <td>-2.1</td>\n",
       "      <td>0.105</td>\n",
       "      <td>0.102</td>\n",
       "      <td>0.103</td>\n",
       "      <td>0.376</td>\n",
       "      <td>0.148</td>\n",
       "      <td>0</td>\n",
       "    </tr>\n",
       "    <tr>\n",
       "      <th>3</th>\n",
       "      <td>24.0</td>\n",
       "      <td>203.20</td>\n",
       "      <td>100.697424</td>\n",
       "      <td>64</td>\n",
       "      <td>3.7</td>\n",
       "      <td>2.3</td>\n",
       "      <td>0.6</td>\n",
       "      <td>-8.7</td>\n",
       "      <td>0.060</td>\n",
       "      <td>0.149</td>\n",
       "      <td>0.167</td>\n",
       "      <td>0.399</td>\n",
       "      <td>0.077</td>\n",
       "      <td>0</td>\n",
       "    </tr>\n",
       "    <tr>\n",
       "      <th>4</th>\n",
       "      <td>34.0</td>\n",
       "      <td>205.74</td>\n",
       "      <td>108.862080</td>\n",
       "      <td>27</td>\n",
       "      <td>2.4</td>\n",
       "      <td>2.4</td>\n",
       "      <td>0.2</td>\n",
       "      <td>-11.2</td>\n",
       "      <td>0.109</td>\n",
       "      <td>0.179</td>\n",
       "      <td>0.127</td>\n",
       "      <td>0.611</td>\n",
       "      <td>0.040</td>\n",
       "      <td>0</td>\n",
       "    </tr>\n",
       "    <tr>\n",
       "      <th>...</th>\n",
       "      <td>...</td>\n",
       "      <td>...</td>\n",
       "      <td>...</td>\n",
       "      <td>...</td>\n",
       "      <td>...</td>\n",
       "      <td>...</td>\n",
       "      <td>...</td>\n",
       "      <td>...</td>\n",
       "      <td>...</td>\n",
       "      <td>...</td>\n",
       "      <td>...</td>\n",
       "      <td>...</td>\n",
       "      <td>...</td>\n",
       "      <td>...</td>\n",
       "    </tr>\n",
       "    <tr>\n",
       "      <th>11140</th>\n",
       "      <td>28.0</td>\n",
       "      <td>208.28</td>\n",
       "      <td>108.862080</td>\n",
       "      <td>63</td>\n",
       "      <td>9.1</td>\n",
       "      <td>5.4</td>\n",
       "      <td>1.1</td>\n",
       "      <td>4.6</td>\n",
       "      <td>0.056</td>\n",
       "      <td>0.140</td>\n",
       "      <td>0.136</td>\n",
       "      <td>0.605</td>\n",
       "      <td>0.064</td>\n",
       "      <td>0</td>\n",
       "    </tr>\n",
       "    <tr>\n",
       "      <th>11141</th>\n",
       "      <td>23.0</td>\n",
       "      <td>195.58</td>\n",
       "      <td>97.522280</td>\n",
       "      <td>15</td>\n",
       "      <td>1.2</td>\n",
       "      <td>0.3</td>\n",
       "      <td>0.1</td>\n",
       "      <td>-2.4</td>\n",
       "      <td>0.018</td>\n",
       "      <td>0.058</td>\n",
       "      <td>0.164</td>\n",
       "      <td>0.480</td>\n",
       "      <td>0.033</td>\n",
       "      <td>0</td>\n",
       "    </tr>\n",
       "    <tr>\n",
       "      <th>11142</th>\n",
       "      <td>28.0</td>\n",
       "      <td>213.36</td>\n",
       "      <td>117.933920</td>\n",
       "      <td>49</td>\n",
       "      <td>6.1</td>\n",
       "      <td>5.1</td>\n",
       "      <td>1.1</td>\n",
       "      <td>5.6</td>\n",
       "      <td>0.029</td>\n",
       "      <td>0.217</td>\n",
       "      <td>0.120</td>\n",
       "      <td>0.640</td>\n",
       "      <td>0.076</td>\n",
       "      <td>0</td>\n",
       "    </tr>\n",
       "    <tr>\n",
       "      <th>11143</th>\n",
       "      <td>27.0</td>\n",
       "      <td>208.28</td>\n",
       "      <td>104.779752</td>\n",
       "      <td>20</td>\n",
       "      <td>2.1</td>\n",
       "      <td>3.0</td>\n",
       "      <td>0.4</td>\n",
       "      <td>-16.4</td>\n",
       "      <td>0.085</td>\n",
       "      <td>0.237</td>\n",
       "      <td>0.126</td>\n",
       "      <td>0.521</td>\n",
       "      <td>0.056</td>\n",
       "      <td>0</td>\n",
       "    </tr>\n",
       "    <tr>\n",
       "      <th>11144</th>\n",
       "      <td>25.0</td>\n",
       "      <td>193.04</td>\n",
       "      <td>86.182480</td>\n",
       "      <td>31</td>\n",
       "      <td>4.5</td>\n",
       "      <td>1.4</td>\n",
       "      <td>0.5</td>\n",
       "      <td>1.0</td>\n",
       "      <td>0.017</td>\n",
       "      <td>0.104</td>\n",
       "      <td>0.149</td>\n",
       "      <td>0.663</td>\n",
       "      <td>0.089</td>\n",
       "      <td>0</td>\n",
       "    </tr>\n",
       "  </tbody>\n",
       "</table>\n",
       "<p>11145 rows × 14 columns</p>\n",
       "</div>"
      ],
      "text/plain": [
       "        age  player_height  player_weight  gp  pts   reb  ast  net_rating  \\\n",
       "0      36.0         198.12      99.790240  55  5.7  16.1  3.1        16.1   \n",
       "1      28.0         215.90     117.933920  15  2.3   1.5  0.3        12.3   \n",
       "2      39.0         205.74      95.254320   9  0.8   1.0  0.4        -2.1   \n",
       "3      24.0         203.20     100.697424  64  3.7   2.3  0.6        -8.7   \n",
       "4      34.0         205.74     108.862080  27  2.4   2.4  0.2       -11.2   \n",
       "...     ...            ...            ...  ..  ...   ...  ...         ...   \n",
       "11140  28.0         208.28     108.862080  63  9.1   5.4  1.1         4.6   \n",
       "11141  23.0         195.58      97.522280  15  1.2   0.3  0.1        -2.4   \n",
       "11142  28.0         213.36     117.933920  49  6.1   5.1  1.1         5.6   \n",
       "11143  27.0         208.28     104.779752  20  2.1   3.0  0.4       -16.4   \n",
       "11144  25.0         193.04      86.182480  31  4.5   1.4  0.5         1.0   \n",
       "\n",
       "       oreb_pct  dreb_pct  usg_pct  ts_pct  ast_pct  potential_player  \n",
       "0         0.186     0.323    0.100   0.479    0.113                 0  \n",
       "1         0.078     0.151    0.175   0.430    0.048                 0  \n",
       "2         0.105     0.102    0.103   0.376    0.148                 0  \n",
       "3         0.060     0.149    0.167   0.399    0.077                 0  \n",
       "4         0.109     0.179    0.127   0.611    0.040                 0  \n",
       "...         ...       ...      ...     ...      ...               ...  \n",
       "11140     0.056     0.140    0.136   0.605    0.064                 0  \n",
       "11141     0.018     0.058    0.164   0.480    0.033                 0  \n",
       "11142     0.029     0.217    0.120   0.640    0.076                 0  \n",
       "11143     0.085     0.237    0.126   0.521    0.056                 0  \n",
       "11144     0.017     0.104    0.149   0.663    0.089                 0  \n",
       "\n",
       "[11145 rows x 14 columns]"
      ]
     },
     "execution_count": 55,
     "metadata": {},
     "output_type": "execute_result"
    }
   ],
   "source": [
    "df1"
   ]
  },
  {
   "cell_type": "code",
   "execution_count": 87,
   "metadata": {},
   "outputs": [],
   "source": [
    "num_df = ['age', \"player_height\",\"player_weight\", \"gp\", \"pts\",\"reb\",\"ast\",\"net_rating\",\"oreb_pct\",\"dreb_pct\",\"usg_pct\",\"ts_pct\",\"ast_pct\"]"
   ]
  },
  {
   "cell_type": "code",
   "execution_count": 88,
   "metadata": {},
   "outputs": [],
   "source": [
    "X = df1.drop(['potential_player'], axis=1)\n",
    "y = df1['potential_player']"
   ]
  },
  {
   "cell_type": "code",
   "execution_count": 89,
   "metadata": {},
   "outputs": [],
   "source": [
    "X_train, X_test, y_train, y_test = train_test_split(X, y, stratify=y, test_size =0.2, random_state=1510)"
   ]
  },
  {
   "cell_type": "code",
   "execution_count": 90,
   "metadata": {},
   "outputs": [
    {
     "data": {
      "text/html": [
       "<div>\n",
       "<style scoped>\n",
       "    .dataframe tbody tr th:only-of-type {\n",
       "        vertical-align: middle;\n",
       "    }\n",
       "\n",
       "    .dataframe tbody tr th {\n",
       "        vertical-align: top;\n",
       "    }\n",
       "\n",
       "    .dataframe thead th {\n",
       "        text-align: right;\n",
       "    }\n",
       "</style>\n",
       "<table border=\"1\" class=\"dataframe\">\n",
       "  <thead>\n",
       "    <tr style=\"text-align: right;\">\n",
       "      <th></th>\n",
       "      <th>age</th>\n",
       "      <th>player_height</th>\n",
       "      <th>player_weight</th>\n",
       "      <th>gp</th>\n",
       "      <th>pts</th>\n",
       "      <th>reb</th>\n",
       "      <th>ast</th>\n",
       "      <th>net_rating</th>\n",
       "      <th>oreb_pct</th>\n",
       "      <th>dreb_pct</th>\n",
       "      <th>usg_pct</th>\n",
       "      <th>ts_pct</th>\n",
       "      <th>ast_pct</th>\n",
       "    </tr>\n",
       "  </thead>\n",
       "  <tbody>\n",
       "    <tr>\n",
       "      <th>0</th>\n",
       "      <td>36.0</td>\n",
       "      <td>198.12</td>\n",
       "      <td>99.790240</td>\n",
       "      <td>55</td>\n",
       "      <td>5.7</td>\n",
       "      <td>16.1</td>\n",
       "      <td>3.1</td>\n",
       "      <td>16.1</td>\n",
       "      <td>0.186</td>\n",
       "      <td>0.323</td>\n",
       "      <td>0.100</td>\n",
       "      <td>0.479</td>\n",
       "      <td>0.113</td>\n",
       "    </tr>\n",
       "    <tr>\n",
       "      <th>1</th>\n",
       "      <td>28.0</td>\n",
       "      <td>215.90</td>\n",
       "      <td>117.933920</td>\n",
       "      <td>15</td>\n",
       "      <td>2.3</td>\n",
       "      <td>1.5</td>\n",
       "      <td>0.3</td>\n",
       "      <td>12.3</td>\n",
       "      <td>0.078</td>\n",
       "      <td>0.151</td>\n",
       "      <td>0.175</td>\n",
       "      <td>0.430</td>\n",
       "      <td>0.048</td>\n",
       "    </tr>\n",
       "    <tr>\n",
       "      <th>2</th>\n",
       "      <td>39.0</td>\n",
       "      <td>205.74</td>\n",
       "      <td>95.254320</td>\n",
       "      <td>9</td>\n",
       "      <td>0.8</td>\n",
       "      <td>1.0</td>\n",
       "      <td>0.4</td>\n",
       "      <td>-2.1</td>\n",
       "      <td>0.105</td>\n",
       "      <td>0.102</td>\n",
       "      <td>0.103</td>\n",
       "      <td>0.376</td>\n",
       "      <td>0.148</td>\n",
       "    </tr>\n",
       "    <tr>\n",
       "      <th>3</th>\n",
       "      <td>24.0</td>\n",
       "      <td>203.20</td>\n",
       "      <td>100.697424</td>\n",
       "      <td>64</td>\n",
       "      <td>3.7</td>\n",
       "      <td>2.3</td>\n",
       "      <td>0.6</td>\n",
       "      <td>-8.7</td>\n",
       "      <td>0.060</td>\n",
       "      <td>0.149</td>\n",
       "      <td>0.167</td>\n",
       "      <td>0.399</td>\n",
       "      <td>0.077</td>\n",
       "    </tr>\n",
       "    <tr>\n",
       "      <th>4</th>\n",
       "      <td>34.0</td>\n",
       "      <td>205.74</td>\n",
       "      <td>108.862080</td>\n",
       "      <td>27</td>\n",
       "      <td>2.4</td>\n",
       "      <td>2.4</td>\n",
       "      <td>0.2</td>\n",
       "      <td>-11.2</td>\n",
       "      <td>0.109</td>\n",
       "      <td>0.179</td>\n",
       "      <td>0.127</td>\n",
       "      <td>0.611</td>\n",
       "      <td>0.040</td>\n",
       "    </tr>\n",
       "    <tr>\n",
       "      <th>...</th>\n",
       "      <td>...</td>\n",
       "      <td>...</td>\n",
       "      <td>...</td>\n",
       "      <td>...</td>\n",
       "      <td>...</td>\n",
       "      <td>...</td>\n",
       "      <td>...</td>\n",
       "      <td>...</td>\n",
       "      <td>...</td>\n",
       "      <td>...</td>\n",
       "      <td>...</td>\n",
       "      <td>...</td>\n",
       "      <td>...</td>\n",
       "    </tr>\n",
       "    <tr>\n",
       "      <th>11140</th>\n",
       "      <td>28.0</td>\n",
       "      <td>208.28</td>\n",
       "      <td>108.862080</td>\n",
       "      <td>63</td>\n",
       "      <td>9.1</td>\n",
       "      <td>5.4</td>\n",
       "      <td>1.1</td>\n",
       "      <td>4.6</td>\n",
       "      <td>0.056</td>\n",
       "      <td>0.140</td>\n",
       "      <td>0.136</td>\n",
       "      <td>0.605</td>\n",
       "      <td>0.064</td>\n",
       "    </tr>\n",
       "    <tr>\n",
       "      <th>11141</th>\n",
       "      <td>23.0</td>\n",
       "      <td>195.58</td>\n",
       "      <td>97.522280</td>\n",
       "      <td>15</td>\n",
       "      <td>1.2</td>\n",
       "      <td>0.3</td>\n",
       "      <td>0.1</td>\n",
       "      <td>-2.4</td>\n",
       "      <td>0.018</td>\n",
       "      <td>0.058</td>\n",
       "      <td>0.164</td>\n",
       "      <td>0.480</td>\n",
       "      <td>0.033</td>\n",
       "    </tr>\n",
       "    <tr>\n",
       "      <th>11142</th>\n",
       "      <td>28.0</td>\n",
       "      <td>213.36</td>\n",
       "      <td>117.933920</td>\n",
       "      <td>49</td>\n",
       "      <td>6.1</td>\n",
       "      <td>5.1</td>\n",
       "      <td>1.1</td>\n",
       "      <td>5.6</td>\n",
       "      <td>0.029</td>\n",
       "      <td>0.217</td>\n",
       "      <td>0.120</td>\n",
       "      <td>0.640</td>\n",
       "      <td>0.076</td>\n",
       "    </tr>\n",
       "    <tr>\n",
       "      <th>11143</th>\n",
       "      <td>27.0</td>\n",
       "      <td>208.28</td>\n",
       "      <td>104.779752</td>\n",
       "      <td>20</td>\n",
       "      <td>2.1</td>\n",
       "      <td>3.0</td>\n",
       "      <td>0.4</td>\n",
       "      <td>-16.4</td>\n",
       "      <td>0.085</td>\n",
       "      <td>0.237</td>\n",
       "      <td>0.126</td>\n",
       "      <td>0.521</td>\n",
       "      <td>0.056</td>\n",
       "    </tr>\n",
       "    <tr>\n",
       "      <th>11144</th>\n",
       "      <td>25.0</td>\n",
       "      <td>193.04</td>\n",
       "      <td>86.182480</td>\n",
       "      <td>31</td>\n",
       "      <td>4.5</td>\n",
       "      <td>1.4</td>\n",
       "      <td>0.5</td>\n",
       "      <td>1.0</td>\n",
       "      <td>0.017</td>\n",
       "      <td>0.104</td>\n",
       "      <td>0.149</td>\n",
       "      <td>0.663</td>\n",
       "      <td>0.089</td>\n",
       "    </tr>\n",
       "  </tbody>\n",
       "</table>\n",
       "<p>11145 rows × 13 columns</p>\n",
       "</div>"
      ],
      "text/plain": [
       "        age  player_height  player_weight  gp  pts   reb  ast  net_rating  \\\n",
       "0      36.0         198.12      99.790240  55  5.7  16.1  3.1        16.1   \n",
       "1      28.0         215.90     117.933920  15  2.3   1.5  0.3        12.3   \n",
       "2      39.0         205.74      95.254320   9  0.8   1.0  0.4        -2.1   \n",
       "3      24.0         203.20     100.697424  64  3.7   2.3  0.6        -8.7   \n",
       "4      34.0         205.74     108.862080  27  2.4   2.4  0.2       -11.2   \n",
       "...     ...            ...            ...  ..  ...   ...  ...         ...   \n",
       "11140  28.0         208.28     108.862080  63  9.1   5.4  1.1         4.6   \n",
       "11141  23.0         195.58      97.522280  15  1.2   0.3  0.1        -2.4   \n",
       "11142  28.0         213.36     117.933920  49  6.1   5.1  1.1         5.6   \n",
       "11143  27.0         208.28     104.779752  20  2.1   3.0  0.4       -16.4   \n",
       "11144  25.0         193.04      86.182480  31  4.5   1.4  0.5         1.0   \n",
       "\n",
       "       oreb_pct  dreb_pct  usg_pct  ts_pct  ast_pct  \n",
       "0         0.186     0.323    0.100   0.479    0.113  \n",
       "1         0.078     0.151    0.175   0.430    0.048  \n",
       "2         0.105     0.102    0.103   0.376    0.148  \n",
       "3         0.060     0.149    0.167   0.399    0.077  \n",
       "4         0.109     0.179    0.127   0.611    0.040  \n",
       "...         ...       ...      ...     ...      ...  \n",
       "11140     0.056     0.140    0.136   0.605    0.064  \n",
       "11141     0.018     0.058    0.164   0.480    0.033  \n",
       "11142     0.029     0.217    0.120   0.640    0.076  \n",
       "11143     0.085     0.237    0.126   0.521    0.056  \n",
       "11144     0.017     0.104    0.149   0.663    0.089  \n",
       "\n",
       "[11145 rows x 13 columns]"
      ]
     },
     "execution_count": 90,
     "metadata": {},
     "output_type": "execute_result"
    }
   ],
   "source": [
    "X"
   ]
  },
  {
   "cell_type": "code",
   "execution_count": 111,
   "metadata": {},
   "outputs": [],
   "source": [
    "knn = KNeighborsClassifier()\n",
    "dtc = DecisionTreeClassifier()\n",
    "rfc = RandomForestClassifier()\n",
    "logreg = LogisticRegression()\n",
    "smote = SMOTE()"
   ]
  },
  {
   "cell_type": "code",
   "execution_count": 124,
   "metadata": {},
   "outputs": [],
   "source": [
    "knn_pipe_num = Pipeline([\n",
    "    ('scaler', RobustScaler()),\n",
    "])\n",
    "\n",
    "\n",
    "# transforming all columns\n",
    "knn_transformer = ColumnTransformer([\n",
    "    ('pipe_numeric', knn_pipe_num, num_df),\n",
    "])\n",
    "\n",
    "# combine all pipeline\n",
    "knn_pipe = Pipeline([\n",
    "    ('transformer', knn_transformer),\n",
    "    ('knn', knn)\n",
    "])"
   ]
  },
  {
   "cell_type": "code",
   "execution_count": 125,
   "metadata": {},
   "outputs": [
    {
     "data": {
      "text/plain": [
       "Pipeline(steps=[('transformer',\n",
       "                 ColumnTransformer(transformers=[('pipe_numeric',\n",
       "                                                  Pipeline(steps=[('scaler',\n",
       "                                                                   RobustScaler())]),\n",
       "                                                  ['age', 'player_height',\n",
       "                                                   'player_weight', 'gp', 'pts',\n",
       "                                                   'reb', 'ast', 'net_rating',\n",
       "                                                   'oreb_pct', 'dreb_pct',\n",
       "                                                   'usg_pct', 'ts_pct',\n",
       "                                                   'ast_pct'])])),\n",
       "                ('knn', KNeighborsClassifier())])"
      ]
     },
     "execution_count": 125,
     "metadata": {},
     "output_type": "execute_result"
    }
   ],
   "source": [
    "knn_pipe.fit(X_train, y_train)"
   ]
  },
  {
   "cell_type": "code",
   "execution_count": 96,
   "metadata": {},
   "outputs": [],
   "source": [
    "dtc_pipe_num = Pipeline([\n",
    "    ('scaler', RobustScaler()),\n",
    "])\n",
    "\n",
    "\n",
    "# transforming all columns\n",
    "dtc_transformer = ColumnTransformer([\n",
    "    ('pipe_numeric', dtc_pipe_num, num_df),\n",
    "])\n",
    "\n",
    "# combine all pipeline\n",
    "dtc_pipe = Pipeline([\n",
    "    ('transformer', dtc_transformer),\n",
    "    ('dtc', dtc)\n",
    "])"
   ]
  },
  {
   "cell_type": "code",
   "execution_count": 97,
   "metadata": {},
   "outputs": [
    {
     "data": {
      "text/plain": [
       "Pipeline(steps=[('transformer',\n",
       "                 ColumnTransformer(transformers=[('pipe_numeric',\n",
       "                                                  Pipeline(steps=[('scaler',\n",
       "                                                                   RobustScaler())]),\n",
       "                                                  ['age', 'player_height',\n",
       "                                                   'player_weight', 'gp', 'pts',\n",
       "                                                   'reb', 'ast', 'net_rating',\n",
       "                                                   'oreb_pct', 'dreb_pct',\n",
       "                                                   'usg_pct', 'ts_pct',\n",
       "                                                   'ast_pct'])])),\n",
       "                ('dtc', DecisionTreeClassifier())])"
      ]
     },
     "execution_count": 97,
     "metadata": {},
     "output_type": "execute_result"
    }
   ],
   "source": [
    "dtc_pipe.fit(X_train, y_train)"
   ]
  },
  {
   "cell_type": "code",
   "execution_count": 98,
   "metadata": {},
   "outputs": [],
   "source": [
    "rfc_pipe_num = Pipeline([\n",
    "    ('scaler', RobustScaler()),\n",
    "])\n",
    "\n",
    "\n",
    "# transforming all columns\n",
    "rfc_transformer = ColumnTransformer([\n",
    "    ('pipe_numeric', rfc_pipe_num, num_df),\n",
    "])\n",
    "\n",
    "# combine all pipeline\n",
    "rfc_pipe = Pipeline([\n",
    "    ('transformer', rfc_transformer),\n",
    "    ('rfc', rfc)\n",
    "])"
   ]
  },
  {
   "cell_type": "code",
   "execution_count": 99,
   "metadata": {},
   "outputs": [
    {
     "data": {
      "text/plain": [
       "Pipeline(steps=[('transformer',\n",
       "                 ColumnTransformer(transformers=[('pipe_numeric',\n",
       "                                                  Pipeline(steps=[('scaler',\n",
       "                                                                   RobustScaler())]),\n",
       "                                                  ['age', 'player_height',\n",
       "                                                   'player_weight', 'gp', 'pts',\n",
       "                                                   'reb', 'ast', 'net_rating',\n",
       "                                                   'oreb_pct', 'dreb_pct',\n",
       "                                                   'usg_pct', 'ts_pct',\n",
       "                                                   'ast_pct'])])),\n",
       "                ('rfc', RandomForestClassifier())])"
      ]
     },
     "execution_count": 99,
     "metadata": {},
     "output_type": "execute_result"
    }
   ],
   "source": [
    "rfc_pipe.fit(X_train, y_train)"
   ]
  },
  {
   "cell_type": "code",
   "execution_count": 104,
   "metadata": {},
   "outputs": [
    {
     "name": "stderr",
     "output_type": "stream",
     "text": [
      "[Parallel(n_jobs=-1)]: Using backend LokyBackend with 8 concurrent workers.\n",
      "[Parallel(n_jobs=-1)]: Done   2 out of   5 | elapsed:    2.5s remaining:    3.8s\n",
      "[Parallel(n_jobs=-1)]: Done   5 out of   5 | elapsed:    2.5s finished\n",
      "[Parallel(n_jobs=-1)]: Using backend LokyBackend with 8 concurrent workers.\n",
      "[Parallel(n_jobs=-1)]: Done   2 out of   5 | elapsed:    0.0s remaining:    0.0s\n",
      "[Parallel(n_jobs=-1)]: Done   5 out of   5 | elapsed:    1.1s finished\n",
      "[Parallel(n_jobs=-1)]: Using backend LokyBackend with 8 concurrent workers.\n",
      "[Parallel(n_jobs=-1)]: Done   2 out of   5 | elapsed:    0.5s remaining:    0.7s\n",
      "[Parallel(n_jobs=-1)]: Done   5 out of   5 | elapsed:    0.6s finished\n"
     ]
    }
   ],
   "source": [
    "skfold = StratifiedKFold(n_splits=5, random_state=1510, shuffle=True)\n",
    "\n",
    "knn_score = cross_val_score(knn_pipe, X_train, y_train, scoring='recall', cv=skfold, n_jobs=-1, verbose=1)\n",
    "dtc_score = cross_val_score(dtc_pipe, X_train, y_train, scoring='recall', cv=skfold, n_jobs=-1, verbose=1)\n",
    "rfc_score = cross_val_score(rfc_pipe, X_train, y_train, scoring='recall', cv=skfold, n_jobs=-1, verbose=1)"
   ]
  },
  {
   "cell_type": "code",
   "execution_count": 105,
   "metadata": {},
   "outputs": [
    {
     "name": "stdout",
     "output_type": "stream",
     "text": [
      "KNN Val Score: [0.68493151 0.66666667 0.76712329 0.7260274  0.7260274 ]\n",
      "DTC Val Score: [0.97260274 0.94444444 0.95890411 0.93150685 0.95890411]\n",
      "RFC Val Score: [0.98630137 0.91666667 0.97260274 0.98630137 0.95890411]\n"
     ]
    }
   ],
   "source": [
    "print('KNN Val Score:', knn_score)\n",
    "print('DTC Val Score:', dtc_score)\n",
    "print('RFC Val Score:', rfc_score)"
   ]
  },
  {
   "cell_type": "code",
   "execution_count": 106,
   "metadata": {},
   "outputs": [
    {
     "name": "stdout",
     "output_type": "stream",
     "text": [
      "KNN Val Score: 0.7141552511415524\n",
      "DTC Val Score: 0.9532724505327245\n",
      "RFC Val Score: 0.9641552511415524\n"
     ]
    }
   ],
   "source": [
    "print('KNN Val Score:', knn_score.mean())\n",
    "print('DTC Val Score:', dtc_score.mean())\n",
    "print('RFC Val Score:', rfc_score.mean())"
   ]
  },
  {
   "cell_type": "code",
   "execution_count": 108,
   "metadata": {},
   "outputs": [
    {
     "data": {
      "text/html": [
       "<div>\n",
       "<style scoped>\n",
       "    .dataframe tbody tr th:only-of-type {\n",
       "        vertical-align: middle;\n",
       "    }\n",
       "\n",
       "    .dataframe tbody tr th {\n",
       "        vertical-align: top;\n",
       "    }\n",
       "\n",
       "    .dataframe thead th {\n",
       "        text-align: right;\n",
       "    }\n",
       "</style>\n",
       "<table border=\"1\" class=\"dataframe\">\n",
       "  <thead>\n",
       "    <tr style=\"text-align: right;\">\n",
       "      <th></th>\n",
       "      <th>KNearest Neighbors</th>\n",
       "      <th>Decision Tree CV Score</th>\n",
       "      <th>Random Forest CV Score</th>\n",
       "    </tr>\n",
       "  </thead>\n",
       "  <tbody>\n",
       "    <tr>\n",
       "      <th>0</th>\n",
       "      <td>0.714155</td>\n",
       "      <td>0.953272</td>\n",
       "      <td>0.964155</td>\n",
       "    </tr>\n",
       "  </tbody>\n",
       "</table>\n",
       "</div>"
      ],
      "text/plain": [
       "   KNearest Neighbors  Decision Tree CV Score  Random Forest CV Score\n",
       "0            0.714155                0.953272                0.964155"
      ]
     },
     "execution_count": 108,
     "metadata": {},
     "output_type": "execute_result"
    }
   ],
   "source": [
    "dtcs = dtc_score.mean()\n",
    "rfcs = rfc_score.mean()\n",
    "kncs = knn_score.mean()\n",
    "df = pd.DataFrame({'KNearest Neighbors': [kncs], 'Decision Tree CV Score': [dtcs], 'Random Forest CV Score': [rfcs]})\n",
    "df"
   ]
  },
  {
   "cell_type": "code",
   "execution_count": 136,
   "metadata": {},
   "outputs": [],
   "source": [
    "knn_pipes_num = Pipeline([\n",
    "    ('scaler', RobustScaler())\n",
    "])\n",
    "\n",
    "\n",
    "# transforming all columns\n",
    "knns_transformer = ColumnTransformer([\n",
    "    ('pipe_numeric', knn_pipes_num, num_df),\n",
    "])\n",
    "\n",
    "# combine all pipeline\n",
    "knn_pipes = Pipeline([\n",
    "    ('transformer', knns_transformer),\n",
    "    ('resampling', smote),\n",
    "    ('knn', knn)\n",
    "])"
   ]
  },
  {
   "cell_type": "code",
   "execution_count": 137,
   "metadata": {},
   "outputs": [
    {
     "data": {
      "text/plain": [
       "Pipeline(steps=[('transformer',\n",
       "                 ColumnTransformer(transformers=[('pipe_numeric',\n",
       "                                                  Pipeline(steps=[('scaler',\n",
       "                                                                   RobustScaler())]),\n",
       "                                                  ['age', 'player_height',\n",
       "                                                   'player_weight', 'gp', 'pts',\n",
       "                                                   'reb', 'ast', 'net_rating',\n",
       "                                                   'oreb_pct', 'dreb_pct',\n",
       "                                                   'usg_pct', 'ts_pct',\n",
       "                                                   'ast_pct'])])),\n",
       "                ('resampling', SMOTE()), ('knn', KNeighborsClassifier())])"
      ]
     },
     "execution_count": 137,
     "metadata": {},
     "output_type": "execute_result"
    }
   ],
   "source": [
    "knn_pipes.fit(X_train, y_train)"
   ]
  },
  {
   "cell_type": "code",
   "execution_count": 161,
   "metadata": {},
   "outputs": [],
   "source": [
    "dtc_pipes_num = Pipeline([\n",
    "    ('scaler', RobustScaler())\n",
    "])\n",
    "\n",
    "\n",
    "# transforming all columns\n",
    "dtcs_transformer = ColumnTransformer([\n",
    "    ('pipe_numeric', dtc_pipes_num, num_df),\n",
    "])\n",
    "\n",
    "# combine all pipeline\n",
    "dtc_pipes = Pipeline([\n",
    "    ('transformer', dtcs_transformer),\n",
    "    ('resampling', smote),\n",
    "    ('dtc', dtc)\n",
    "])"
   ]
  },
  {
   "cell_type": "code",
   "execution_count": 162,
   "metadata": {},
   "outputs": [
    {
     "data": {
      "text/plain": [
       "Pipeline(steps=[('transformer',\n",
       "                 ColumnTransformer(transformers=[('pipe_numeric',\n",
       "                                                  Pipeline(steps=[('scaler',\n",
       "                                                                   RobustScaler())]),\n",
       "                                                  ['age', 'player_height',\n",
       "                                                   'player_weight', 'gp', 'pts',\n",
       "                                                   'reb', 'ast', 'net_rating',\n",
       "                                                   'oreb_pct', 'dreb_pct',\n",
       "                                                   'usg_pct', 'ts_pct',\n",
       "                                                   'ast_pct'])])),\n",
       "                ('resampling', SMOTE()), ('dtc', DecisionTreeClassifier())])"
      ]
     },
     "execution_count": 162,
     "metadata": {},
     "output_type": "execute_result"
    }
   ],
   "source": [
    "dtc_pipes.fit(X_train, y_train)"
   ]
  },
  {
   "cell_type": "code",
   "execution_count": 163,
   "metadata": {},
   "outputs": [],
   "source": [
    "rfc_pipes_num = Pipeline([\n",
    "    ('scaler', RobustScaler())\n",
    "])\n",
    "\n",
    "\n",
    "# transforming all columns\n",
    "rfcs_transformer = ColumnTransformer([\n",
    "    ('pipe_numeric', rfc_pipes_num, num_df),\n",
    "])\n",
    "\n",
    "# combine all pipeline\n",
    "rfc_pipes = Pipeline([\n",
    "    ('transformer', rfcs_transformer),\n",
    "    ('resampling', smote),\n",
    "    ('rfc', rfc)\n",
    "])"
   ]
  },
  {
   "cell_type": "code",
   "execution_count": 164,
   "metadata": {},
   "outputs": [
    {
     "data": {
      "text/plain": [
       "Pipeline(steps=[('transformer',\n",
       "                 ColumnTransformer(transformers=[('pipe_numeric',\n",
       "                                                  Pipeline(steps=[('scaler',\n",
       "                                                                   RobustScaler())]),\n",
       "                                                  ['age', 'player_height',\n",
       "                                                   'player_weight', 'gp', 'pts',\n",
       "                                                   'reb', 'ast', 'net_rating',\n",
       "                                                   'oreb_pct', 'dreb_pct',\n",
       "                                                   'usg_pct', 'ts_pct',\n",
       "                                                   'ast_pct'])])),\n",
       "                ('resampling', SMOTE()), ('rfc', RandomForestClassifier())])"
      ]
     },
     "execution_count": 164,
     "metadata": {},
     "output_type": "execute_result"
    }
   ],
   "source": [
    "rfc_pipes.fit(X_train, y_train)"
   ]
  },
  {
   "cell_type": "code",
   "execution_count": 165,
   "metadata": {},
   "outputs": [
    {
     "name": "stderr",
     "output_type": "stream",
     "text": [
      "[Parallel(n_jobs=-1)]: Using backend LokyBackend with 8 concurrent workers.\n",
      "[Parallel(n_jobs=-1)]: Done   2 out of   5 | elapsed:    2.7s remaining:    4.0s\n",
      "[Parallel(n_jobs=-1)]: Done   5 out of   5 | elapsed:    2.7s finished\n",
      "[Parallel(n_jobs=-1)]: Using backend LokyBackend with 8 concurrent workers.\n",
      "[Parallel(n_jobs=-1)]: Done   2 out of   5 | elapsed:    0.1s remaining:    0.2s\n",
      "[Parallel(n_jobs=-1)]: Done   5 out of   5 | elapsed:    1.3s finished\n",
      "[Parallel(n_jobs=-1)]: Using backend LokyBackend with 8 concurrent workers.\n",
      "[Parallel(n_jobs=-1)]: Done   2 out of   5 | elapsed:    1.8s remaining:    2.7s\n",
      "[Parallel(n_jobs=-1)]: Done   5 out of   5 | elapsed:    1.9s finished\n"
     ]
    }
   ],
   "source": [
    "skfold = StratifiedKFold(n_splits=5, random_state=1510, shuffle=True)\n",
    "\n",
    "knn_score = cross_val_score(knn_pipes, X_train, y_train, scoring='recall', cv=skfold, n_jobs=-1, verbose=1)\n",
    "dtc_score = cross_val_score(dtc_pipes, X_train, y_train, scoring='recall', cv=skfold, n_jobs=-1, verbose=1)\n",
    "rfc_score = cross_val_score(rfc_pipes, X_train, y_train, scoring='recall', cv=skfold, n_jobs=-1, verbose=1)"
   ]
  },
  {
   "cell_type": "code",
   "execution_count": 166,
   "metadata": {},
   "outputs": [
    {
     "name": "stdout",
     "output_type": "stream",
     "text": [
      "KNN Val Score: [0.98630137 0.94444444 0.97260274 0.90410959 0.93150685]\n",
      "DTC Val Score: [0.98630137 0.95833333 0.97260274 1.         0.97260274]\n",
      "RFC Val Score: [0.98630137 0.97222222 0.97260274 1.         0.97260274]\n"
     ]
    }
   ],
   "source": [
    "print('KNN Val Score:', knn_score)\n",
    "print('DTC Val Score:', dtc_score)\n",
    "print('RFC Val Score:', rfc_score)"
   ]
  },
  {
   "cell_type": "code",
   "execution_count": 167,
   "metadata": {},
   "outputs": [
    {
     "name": "stdout",
     "output_type": "stream",
     "text": [
      "KNN Val Score: 0.94779299847793\n",
      "DTC Val Score: 0.9779680365296803\n",
      "RFC Val Score: 0.9807458143074582\n"
     ]
    }
   ],
   "source": [
    "print('KNN Val Score:', knn_score.mean())\n",
    "print('DTC Val Score:', dtc_score.mean())\n",
    "print('RFC Val Score:', rfc_score.mean())"
   ]
  },
  {
   "cell_type": "code",
   "execution_count": 168,
   "metadata": {},
   "outputs": [
    {
     "data": {
      "text/html": [
       "<div>\n",
       "<style scoped>\n",
       "    .dataframe tbody tr th:only-of-type {\n",
       "        vertical-align: middle;\n",
       "    }\n",
       "\n",
       "    .dataframe tbody tr th {\n",
       "        vertical-align: top;\n",
       "    }\n",
       "\n",
       "    .dataframe thead th {\n",
       "        text-align: right;\n",
       "    }\n",
       "</style>\n",
       "<table border=\"1\" class=\"dataframe\">\n",
       "  <thead>\n",
       "    <tr style=\"text-align: right;\">\n",
       "      <th></th>\n",
       "      <th>KNearest Neighbors</th>\n",
       "      <th>Decision Tree CV Score</th>\n",
       "      <th>Random Forest CV Score</th>\n",
       "    </tr>\n",
       "  </thead>\n",
       "  <tbody>\n",
       "    <tr>\n",
       "      <th>0</th>\n",
       "      <td>0.947793</td>\n",
       "      <td>0.977968</td>\n",
       "      <td>0.980746</td>\n",
       "    </tr>\n",
       "  </tbody>\n",
       "</table>\n",
       "</div>"
      ],
      "text/plain": [
       "   KNearest Neighbors  Decision Tree CV Score  Random Forest CV Score\n",
       "0            0.947793                0.977968                0.980746"
      ]
     },
     "execution_count": 168,
     "metadata": {},
     "output_type": "execute_result"
    }
   ],
   "source": [
    "dtcs = dtc_score.mean()\n",
    "rfcs = rfc_score.mean()\n",
    "kncs = knn_score.mean()\n",
    "df = pd.DataFrame({'KNearest Neighbors': [kncs], 'Decision Tree CV Score': [dtcs], 'Random Forest CV Score': [rfcs]})\n",
    "df"
   ]
  },
  {
   "cell_type": "code",
   "execution_count": 146,
   "metadata": {},
   "outputs": [
    {
     "data": {
      "text/plain": [
       "{'memory': None,\n",
       " 'steps': [('transformer',\n",
       "   ColumnTransformer(transformers=[('pipe_numeric',\n",
       "                                    Pipeline(steps=[('scaler', RobustScaler())]),\n",
       "                                    ['age', 'player_height', 'player_weight', 'gp',\n",
       "                                     'pts', 'reb', 'ast', 'net_rating', 'oreb_pct',\n",
       "                                     'dreb_pct', 'usg_pct', 'ts_pct',\n",
       "                                     'ast_pct'])])),\n",
       "  ('knn', KNeighborsClassifier())],\n",
       " 'verbose': False,\n",
       " 'transformer': ColumnTransformer(transformers=[('pipe_numeric',\n",
       "                                  Pipeline(steps=[('scaler', RobustScaler())]),\n",
       "                                  ['age', 'player_height', 'player_weight', 'gp',\n",
       "                                   'pts', 'reb', 'ast', 'net_rating', 'oreb_pct',\n",
       "                                   'dreb_pct', 'usg_pct', 'ts_pct',\n",
       "                                   'ast_pct'])]),\n",
       " 'knn': KNeighborsClassifier(),\n",
       " 'transformer__n_jobs': None,\n",
       " 'transformer__remainder': 'drop',\n",
       " 'transformer__sparse_threshold': 0.3,\n",
       " 'transformer__transformer_weights': None,\n",
       " 'transformer__transformers': [('pipe_numeric',\n",
       "   Pipeline(steps=[('scaler', RobustScaler())]),\n",
       "   ['age',\n",
       "    'player_height',\n",
       "    'player_weight',\n",
       "    'gp',\n",
       "    'pts',\n",
       "    'reb',\n",
       "    'ast',\n",
       "    'net_rating',\n",
       "    'oreb_pct',\n",
       "    'dreb_pct',\n",
       "    'usg_pct',\n",
       "    'ts_pct',\n",
       "    'ast_pct'])],\n",
       " 'transformer__verbose': False,\n",
       " 'transformer__pipe_numeric': Pipeline(steps=[('scaler', RobustScaler())]),\n",
       " 'transformer__pipe_numeric__memory': None,\n",
       " 'transformer__pipe_numeric__steps': [('scaler', RobustScaler())],\n",
       " 'transformer__pipe_numeric__verbose': False,\n",
       " 'transformer__pipe_numeric__scaler': RobustScaler(),\n",
       " 'transformer__pipe_numeric__scaler__copy': True,\n",
       " 'transformer__pipe_numeric__scaler__quantile_range': (25.0, 75.0),\n",
       " 'transformer__pipe_numeric__scaler__with_centering': True,\n",
       " 'transformer__pipe_numeric__scaler__with_scaling': True,\n",
       " 'knn__algorithm': 'auto',\n",
       " 'knn__leaf_size': 30,\n",
       " 'knn__metric': 'minkowski',\n",
       " 'knn__metric_params': None,\n",
       " 'knn__n_jobs': None,\n",
       " 'knn__n_neighbors': 5,\n",
       " 'knn__p': 2,\n",
       " 'knn__weights': 'uniform'}"
      ]
     },
     "execution_count": 146,
     "metadata": {},
     "output_type": "execute_result"
    }
   ],
   "source": [
    "knn_pipe.get_params()"
   ]
  },
  {
   "cell_type": "code",
   "execution_count": 147,
   "metadata": {},
   "outputs": [
    {
     "data": {
      "text/plain": [
       "dict_keys(['memory', 'steps', 'verbose', 'transformer', 'knn', 'transformer__n_jobs', 'transformer__remainder', 'transformer__sparse_threshold', 'transformer__transformer_weights', 'transformer__transformers', 'transformer__verbose', 'transformer__pipe_numeric', 'transformer__pipe_numeric__memory', 'transformer__pipe_numeric__steps', 'transformer__pipe_numeric__verbose', 'transformer__pipe_numeric__scaler', 'transformer__pipe_numeric__scaler__copy', 'transformer__pipe_numeric__scaler__quantile_range', 'transformer__pipe_numeric__scaler__with_centering', 'transformer__pipe_numeric__scaler__with_scaling', 'knn__algorithm', 'knn__leaf_size', 'knn__metric', 'knn__metric_params', 'knn__n_jobs', 'knn__n_neighbors', 'knn__p', 'knn__weights'])"
      ]
     },
     "execution_count": 147,
     "metadata": {},
     "output_type": "execute_result"
    }
   ],
   "source": [
    "knn_pipe.get_params().keys()"
   ]
  },
  {
   "cell_type": "code",
   "execution_count": 152,
   "metadata": {},
   "outputs": [],
   "source": [
    "knn_param = {'knn__n_neighbors': [10, 30, 40 , 60 ,70, 80, 100], \n",
    "             'knn__p': [1,2], \n",
    "             'knn__leaf_size': [10, 20, 40, 50, 70, 80, 100]}\n",
    "\n",
    "knn_tuned = GridSearchCV(estimator=knn_pipes,\n",
    "                          param_grid=knn_param, \n",
    "                          cv=skfold,\n",
    "                          n_jobs=-1,\n",
    "                          scoring='recall',\n",
    "                          verbose=1\n",
    "                          )"
   ]
  },
  {
   "cell_type": "code",
   "execution_count": 153,
   "metadata": {},
   "outputs": [
    {
     "name": "stdout",
     "output_type": "stream",
     "text": [
      "Fitting 5 folds for each of 98 candidates, totalling 490 fits\n"
     ]
    },
    {
     "name": "stderr",
     "output_type": "stream",
     "text": [
      "[Parallel(n_jobs=-1)]: Using backend LokyBackend with 8 concurrent workers.\n",
      "[Parallel(n_jobs=-1)]: Done  34 tasks      | elapsed:    8.6s\n",
      "[Parallel(n_jobs=-1)]: Done 184 tasks      | elapsed:   36.3s\n",
      "[Parallel(n_jobs=-1)]: Done 434 tasks      | elapsed:  1.5min\n",
      "[Parallel(n_jobs=-1)]: Done 490 out of 490 | elapsed:  1.7min finished\n"
     ]
    },
    {
     "data": {
      "text/plain": [
       "GridSearchCV(cv=StratifiedKFold(n_splits=5, random_state=1510, shuffle=True),\n",
       "             estimator=Pipeline(steps=[('transformer',\n",
       "                                        ColumnTransformer(transformers=[('pipe_numeric',\n",
       "                                                                         Pipeline(steps=[('scaler',\n",
       "                                                                                          RobustScaler())]),\n",
       "                                                                         ['age',\n",
       "                                                                          'player_height',\n",
       "                                                                          'player_weight',\n",
       "                                                                          'gp',\n",
       "                                                                          'pts',\n",
       "                                                                          'reb',\n",
       "                                                                          'ast',\n",
       "                                                                          'net_rating',\n",
       "                                                                          'oreb_pct',\n",
       "                                                                          'dreb_pct',\n",
       "                                                                          'usg_pct',\n",
       "                                                                          'ts_pct',\n",
       "                                                                          'ast_pct'])])),\n",
       "                                       ('resampling', SMOTE()),\n",
       "                                       ('knn', KNeighborsClassifier())]),\n",
       "             n_jobs=-1,\n",
       "             param_grid={'knn__leaf_size': [10, 20, 40, 50, 70, 80, 100],\n",
       "                         'knn__n_neighbors': [10, 30, 40, 60, 70, 80, 100],\n",
       "                         'knn__p': [1, 2]},\n",
       "             scoring='recall', verbose=1)"
      ]
     },
     "execution_count": 153,
     "metadata": {},
     "output_type": "execute_result"
    }
   ],
   "source": [
    "knn_tuned.fit(X_train, y_train)"
   ]
  },
  {
   "cell_type": "code",
   "execution_count": 154,
   "metadata": {},
   "outputs": [
    {
     "data": {
      "text/html": [
       "<div>\n",
       "<style scoped>\n",
       "    .dataframe tbody tr th:only-of-type {\n",
       "        vertical-align: middle;\n",
       "    }\n",
       "\n",
       "    .dataframe tbody tr th {\n",
       "        vertical-align: top;\n",
       "    }\n",
       "\n",
       "    .dataframe thead th {\n",
       "        text-align: right;\n",
       "    }\n",
       "</style>\n",
       "<table border=\"1\" class=\"dataframe\">\n",
       "  <thead>\n",
       "    <tr style=\"text-align: right;\">\n",
       "      <th></th>\n",
       "      <th>mean_fit_time</th>\n",
       "      <th>std_fit_time</th>\n",
       "      <th>mean_score_time</th>\n",
       "      <th>std_score_time</th>\n",
       "      <th>param_knn__leaf_size</th>\n",
       "      <th>param_knn__n_neighbors</th>\n",
       "      <th>param_knn__p</th>\n",
       "      <th>params</th>\n",
       "      <th>split0_test_score</th>\n",
       "      <th>split1_test_score</th>\n",
       "      <th>split2_test_score</th>\n",
       "      <th>split3_test_score</th>\n",
       "      <th>split4_test_score</th>\n",
       "      <th>mean_test_score</th>\n",
       "      <th>std_test_score</th>\n",
       "      <th>rank_test_score</th>\n",
       "    </tr>\n",
       "  </thead>\n",
       "  <tbody>\n",
       "    <tr>\n",
       "      <th>48</th>\n",
       "      <td>0.139520</td>\n",
       "      <td>0.002869</td>\n",
       "      <td>1.606881</td>\n",
       "      <td>0.150120</td>\n",
       "      <td>50</td>\n",
       "      <td>60</td>\n",
       "      <td>1</td>\n",
       "      <td>{'knn__leaf_size': 50, 'knn__n_neighbors': 60,...</td>\n",
       "      <td>1.0</td>\n",
       "      <td>1.0</td>\n",
       "      <td>1.0</td>\n",
       "      <td>1.0</td>\n",
       "      <td>1.0</td>\n",
       "      <td>1.0</td>\n",
       "      <td>0.0</td>\n",
       "      <td>1</td>\n",
       "    </tr>\n",
       "    <tr>\n",
       "      <th>68</th>\n",
       "      <td>0.159309</td>\n",
       "      <td>0.024363</td>\n",
       "      <td>2.075013</td>\n",
       "      <td>0.300490</td>\n",
       "      <td>70</td>\n",
       "      <td>100</td>\n",
       "      <td>1</td>\n",
       "      <td>{'knn__leaf_size': 70, 'knn__n_neighbors': 100...</td>\n",
       "      <td>1.0</td>\n",
       "      <td>1.0</td>\n",
       "      <td>1.0</td>\n",
       "      <td>1.0</td>\n",
       "      <td>1.0</td>\n",
       "      <td>1.0</td>\n",
       "      <td>0.0</td>\n",
       "      <td>1</td>\n",
       "    </tr>\n",
       "    <tr>\n",
       "      <th>67</th>\n",
       "      <td>0.137121</td>\n",
       "      <td>0.009190</td>\n",
       "      <td>1.651854</td>\n",
       "      <td>0.170187</td>\n",
       "      <td>70</td>\n",
       "      <td>80</td>\n",
       "      <td>2</td>\n",
       "      <td>{'knn__leaf_size': 70, 'knn__n_neighbors': 80,...</td>\n",
       "      <td>1.0</td>\n",
       "      <td>1.0</td>\n",
       "      <td>1.0</td>\n",
       "      <td>1.0</td>\n",
       "      <td>1.0</td>\n",
       "      <td>1.0</td>\n",
       "      <td>0.0</td>\n",
       "      <td>1</td>\n",
       "    </tr>\n",
       "    <tr>\n",
       "      <th>66</th>\n",
       "      <td>0.145916</td>\n",
       "      <td>0.015025</td>\n",
       "      <td>2.072016</td>\n",
       "      <td>0.329408</td>\n",
       "      <td>70</td>\n",
       "      <td>80</td>\n",
       "      <td>1</td>\n",
       "      <td>{'knn__leaf_size': 70, 'knn__n_neighbors': 80,...</td>\n",
       "      <td>1.0</td>\n",
       "      <td>1.0</td>\n",
       "      <td>1.0</td>\n",
       "      <td>1.0</td>\n",
       "      <td>1.0</td>\n",
       "      <td>1.0</td>\n",
       "      <td>0.0</td>\n",
       "      <td>1</td>\n",
       "    </tr>\n",
       "    <tr>\n",
       "      <th>65</th>\n",
       "      <td>0.146316</td>\n",
       "      <td>0.018789</td>\n",
       "      <td>1.392804</td>\n",
       "      <td>0.080907</td>\n",
       "      <td>70</td>\n",
       "      <td>70</td>\n",
       "      <td>2</td>\n",
       "      <td>{'knn__leaf_size': 70, 'knn__n_neighbors': 70,...</td>\n",
       "      <td>1.0</td>\n",
       "      <td>1.0</td>\n",
       "      <td>1.0</td>\n",
       "      <td>1.0</td>\n",
       "      <td>1.0</td>\n",
       "      <td>1.0</td>\n",
       "      <td>0.0</td>\n",
       "      <td>1</td>\n",
       "    </tr>\n",
       "    <tr>\n",
       "      <th>...</th>\n",
       "      <td>...</td>\n",
       "      <td>...</td>\n",
       "      <td>...</td>\n",
       "      <td>...</td>\n",
       "      <td>...</td>\n",
       "      <td>...</td>\n",
       "      <td>...</td>\n",
       "      <td>...</td>\n",
       "      <td>...</td>\n",
       "      <td>...</td>\n",
       "      <td>...</td>\n",
       "      <td>...</td>\n",
       "      <td>...</td>\n",
       "      <td>...</td>\n",
       "      <td>...</td>\n",
       "      <td>...</td>\n",
       "    </tr>\n",
       "    <tr>\n",
       "      <th>33</th>\n",
       "      <td>0.203283</td>\n",
       "      <td>0.057924</td>\n",
       "      <td>1.348029</td>\n",
       "      <td>0.208379</td>\n",
       "      <td>40</td>\n",
       "      <td>40</td>\n",
       "      <td>2</td>\n",
       "      <td>{'knn__leaf_size': 40, 'knn__n_neighbors': 40,...</td>\n",
       "      <td>1.0</td>\n",
       "      <td>1.0</td>\n",
       "      <td>1.0</td>\n",
       "      <td>1.0</td>\n",
       "      <td>1.0</td>\n",
       "      <td>1.0</td>\n",
       "      <td>0.0</td>\n",
       "      <td>1</td>\n",
       "    </tr>\n",
       "    <tr>\n",
       "      <th>32</th>\n",
       "      <td>0.146915</td>\n",
       "      <td>0.016115</td>\n",
       "      <td>1.607083</td>\n",
       "      <td>0.137979</td>\n",
       "      <td>40</td>\n",
       "      <td>40</td>\n",
       "      <td>1</td>\n",
       "      <td>{'knn__leaf_size': 40, 'knn__n_neighbors': 40,...</td>\n",
       "      <td>1.0</td>\n",
       "      <td>1.0</td>\n",
       "      <td>1.0</td>\n",
       "      <td>1.0</td>\n",
       "      <td>1.0</td>\n",
       "      <td>1.0</td>\n",
       "      <td>0.0</td>\n",
       "      <td>1</td>\n",
       "    </tr>\n",
       "    <tr>\n",
       "      <th>31</th>\n",
       "      <td>0.181497</td>\n",
       "      <td>0.019282</td>\n",
       "      <td>1.214506</td>\n",
       "      <td>0.108550</td>\n",
       "      <td>40</td>\n",
       "      <td>30</td>\n",
       "      <td>2</td>\n",
       "      <td>{'knn__leaf_size': 40, 'knn__n_neighbors': 30,...</td>\n",
       "      <td>1.0</td>\n",
       "      <td>1.0</td>\n",
       "      <td>1.0</td>\n",
       "      <td>1.0</td>\n",
       "      <td>1.0</td>\n",
       "      <td>1.0</td>\n",
       "      <td>0.0</td>\n",
       "      <td>1</td>\n",
       "    </tr>\n",
       "    <tr>\n",
       "      <th>30</th>\n",
       "      <td>0.148915</td>\n",
       "      <td>0.019869</td>\n",
       "      <td>1.588692</td>\n",
       "      <td>0.059208</td>\n",
       "      <td>40</td>\n",
       "      <td>30</td>\n",
       "      <td>1</td>\n",
       "      <td>{'knn__leaf_size': 40, 'knn__n_neighbors': 30,...</td>\n",
       "      <td>1.0</td>\n",
       "      <td>1.0</td>\n",
       "      <td>1.0</td>\n",
       "      <td>1.0</td>\n",
       "      <td>1.0</td>\n",
       "      <td>1.0</td>\n",
       "      <td>0.0</td>\n",
       "      <td>1</td>\n",
       "    </tr>\n",
       "    <tr>\n",
       "      <th>4</th>\n",
       "      <td>0.137520</td>\n",
       "      <td>0.004223</td>\n",
       "      <td>1.048002</td>\n",
       "      <td>0.032696</td>\n",
       "      <td>10</td>\n",
       "      <td>40</td>\n",
       "      <td>1</td>\n",
       "      <td>{'knn__leaf_size': 10, 'knn__n_neighbors': 40,...</td>\n",
       "      <td>1.0</td>\n",
       "      <td>1.0</td>\n",
       "      <td>1.0</td>\n",
       "      <td>1.0</td>\n",
       "      <td>1.0</td>\n",
       "      <td>1.0</td>\n",
       "      <td>0.0</td>\n",
       "      <td>1</td>\n",
       "    </tr>\n",
       "  </tbody>\n",
       "</table>\n",
       "<p>84 rows × 16 columns</p>\n",
       "</div>"
      ],
      "text/plain": [
       "    mean_fit_time  std_fit_time  mean_score_time  std_score_time  \\\n",
       "48       0.139520      0.002869         1.606881        0.150120   \n",
       "68       0.159309      0.024363         2.075013        0.300490   \n",
       "67       0.137121      0.009190         1.651854        0.170187   \n",
       "66       0.145916      0.015025         2.072016        0.329408   \n",
       "65       0.146316      0.018789         1.392804        0.080907   \n",
       "..            ...           ...              ...             ...   \n",
       "33       0.203283      0.057924         1.348029        0.208379   \n",
       "32       0.146915      0.016115         1.607083        0.137979   \n",
       "31       0.181497      0.019282         1.214506        0.108550   \n",
       "30       0.148915      0.019869         1.588692        0.059208   \n",
       "4        0.137520      0.004223         1.048002        0.032696   \n",
       "\n",
       "   param_knn__leaf_size param_knn__n_neighbors param_knn__p  \\\n",
       "48                   50                     60            1   \n",
       "68                   70                    100            1   \n",
       "67                   70                     80            2   \n",
       "66                   70                     80            1   \n",
       "65                   70                     70            2   \n",
       "..                  ...                    ...          ...   \n",
       "33                   40                     40            2   \n",
       "32                   40                     40            1   \n",
       "31                   40                     30            2   \n",
       "30                   40                     30            1   \n",
       "4                    10                     40            1   \n",
       "\n",
       "                                               params  split0_test_score  \\\n",
       "48  {'knn__leaf_size': 50, 'knn__n_neighbors': 60,...                1.0   \n",
       "68  {'knn__leaf_size': 70, 'knn__n_neighbors': 100...                1.0   \n",
       "67  {'knn__leaf_size': 70, 'knn__n_neighbors': 80,...                1.0   \n",
       "66  {'knn__leaf_size': 70, 'knn__n_neighbors': 80,...                1.0   \n",
       "65  {'knn__leaf_size': 70, 'knn__n_neighbors': 70,...                1.0   \n",
       "..                                                ...                ...   \n",
       "33  {'knn__leaf_size': 40, 'knn__n_neighbors': 40,...                1.0   \n",
       "32  {'knn__leaf_size': 40, 'knn__n_neighbors': 40,...                1.0   \n",
       "31  {'knn__leaf_size': 40, 'knn__n_neighbors': 30,...                1.0   \n",
       "30  {'knn__leaf_size': 40, 'knn__n_neighbors': 30,...                1.0   \n",
       "4   {'knn__leaf_size': 10, 'knn__n_neighbors': 40,...                1.0   \n",
       "\n",
       "    split1_test_score  split2_test_score  split3_test_score  \\\n",
       "48                1.0                1.0                1.0   \n",
       "68                1.0                1.0                1.0   \n",
       "67                1.0                1.0                1.0   \n",
       "66                1.0                1.0                1.0   \n",
       "65                1.0                1.0                1.0   \n",
       "..                ...                ...                ...   \n",
       "33                1.0                1.0                1.0   \n",
       "32                1.0                1.0                1.0   \n",
       "31                1.0                1.0                1.0   \n",
       "30                1.0                1.0                1.0   \n",
       "4                 1.0                1.0                1.0   \n",
       "\n",
       "    split4_test_score  mean_test_score  std_test_score  rank_test_score  \n",
       "48                1.0              1.0             0.0                1  \n",
       "68                1.0              1.0             0.0                1  \n",
       "67                1.0              1.0             0.0                1  \n",
       "66                1.0              1.0             0.0                1  \n",
       "65                1.0              1.0             0.0                1  \n",
       "..                ...              ...             ...              ...  \n",
       "33                1.0              1.0             0.0                1  \n",
       "32                1.0              1.0             0.0                1  \n",
       "31                1.0              1.0             0.0                1  \n",
       "30                1.0              1.0             0.0                1  \n",
       "4                 1.0              1.0             0.0                1  \n",
       "\n",
       "[84 rows x 16 columns]"
      ]
     },
     "execution_count": 154,
     "metadata": {},
     "output_type": "execute_result"
    }
   ],
   "source": [
    "report_grid = pd.DataFrame(knn_tuned.cv_results_).sort_values('rank_test_score', ascending=True)\n",
    "report_grid[report_grid['rank_test_score'] == 1]"
   ]
  },
  {
   "cell_type": "code",
   "execution_count": 155,
   "metadata": {},
   "outputs": [],
   "source": [
    "knn_tun = knn_tuned.best_estimator_"
   ]
  },
  {
   "cell_type": "code",
   "execution_count": 156,
   "metadata": {},
   "outputs": [
    {
     "name": "stderr",
     "output_type": "stream",
     "text": [
      "[Parallel(n_jobs=-1)]: Using backend LokyBackend with 8 concurrent workers.\n",
      "[Parallel(n_jobs=-1)]: Done   2 out of   5 | elapsed:    0.9s remaining:    1.4s\n",
      "[Parallel(n_jobs=-1)]: Done   5 out of   5 | elapsed:    1.0s finished\n"
     ]
    },
    {
     "data": {
      "text/plain": [
       "array([1., 1., 1., 1., 1.])"
      ]
     },
     "execution_count": 156,
     "metadata": {},
     "output_type": "execute_result"
    }
   ],
   "source": [
    "knn_tuned_score = cross_val_score(knn_tun, X_train, y_train, scoring='recall', cv=skfold, n_jobs=-1, verbose=1)\n",
    "knn_tuned_score"
   ]
  },
  {
   "cell_type": "code",
   "execution_count": 157,
   "metadata": {},
   "outputs": [
    {
     "name": "stdout",
     "output_type": "stream",
     "text": [
      "1.0\n"
     ]
    }
   ],
   "source": [
    "print(knn_tuned_score.mean())"
   ]
  },
  {
   "cell_type": "code",
   "execution_count": 158,
   "metadata": {},
   "outputs": [
    {
     "data": {
      "text/plain": [
       "dict_keys(['memory', 'steps', 'verbose', 'transformer', 'dtc', 'transformer__n_jobs', 'transformer__remainder', 'transformer__sparse_threshold', 'transformer__transformer_weights', 'transformer__transformers', 'transformer__verbose', 'transformer__pipe_numeric', 'transformer__pipe_numeric__memory', 'transformer__pipe_numeric__steps', 'transformer__pipe_numeric__verbose', 'transformer__pipe_numeric__scaler', 'transformer__pipe_numeric__scaler__copy', 'transformer__pipe_numeric__scaler__quantile_range', 'transformer__pipe_numeric__scaler__with_centering', 'transformer__pipe_numeric__scaler__with_scaling', 'dtc__ccp_alpha', 'dtc__class_weight', 'dtc__criterion', 'dtc__max_depth', 'dtc__max_features', 'dtc__max_leaf_nodes', 'dtc__min_impurity_decrease', 'dtc__min_impurity_split', 'dtc__min_samples_leaf', 'dtc__min_samples_split', 'dtc__min_weight_fraction_leaf', 'dtc__presort', 'dtc__random_state', 'dtc__splitter'])"
      ]
     },
     "execution_count": 158,
     "metadata": {},
     "output_type": "execute_result"
    }
   ],
   "source": [
    "dtc_pipe.get_params().keys()"
   ]
  },
  {
   "cell_type": "code",
   "execution_count": 169,
   "metadata": {},
   "outputs": [],
   "source": [
    "dtc_param = {\n",
    "    'dtc__criterion': ['gini', 'entropy'],\n",
    "    'dtc__max_depth':[5,10,15,20,25,30],\n",
    "    'dtc__min_samples_split':[2,5,10],\n",
    "    'dtc__min_samples_leaf':[1,2,5,7],\n",
    "}\n",
    "\n",
    "dtc_tuned = GridSearchCV(estimator=dtc_pipes, \n",
    "                            param_grid=dtc_param, \n",
    "                            cv=skfold, \n",
    "                            n_jobs=-1, \n",
    "                            scoring='recall',\n",
    "                           verbose=1)"
   ]
  },
  {
   "cell_type": "code",
   "execution_count": 170,
   "metadata": {},
   "outputs": [
    {
     "name": "stdout",
     "output_type": "stream",
     "text": [
      "Fitting 5 folds for each of 144 candidates, totalling 720 fits\n"
     ]
    },
    {
     "name": "stderr",
     "output_type": "stream",
     "text": [
      "[Parallel(n_jobs=-1)]: Using backend LokyBackend with 8 concurrent workers.\n",
      "[Parallel(n_jobs=-1)]: Done  34 tasks      | elapsed:    0.9s\n",
      "[Parallel(n_jobs=-1)]: Done 184 tasks      | elapsed:    3.7s\n",
      "[Parallel(n_jobs=-1)]: Done 434 tasks      | elapsed:    9.3s\n",
      "[Parallel(n_jobs=-1)]: Done 720 out of 720 | elapsed:   16.5s finished\n"
     ]
    },
    {
     "data": {
      "text/plain": [
       "GridSearchCV(cv=StratifiedKFold(n_splits=5, random_state=1510, shuffle=True),\n",
       "             estimator=Pipeline(steps=[('transformer',\n",
       "                                        ColumnTransformer(transformers=[('pipe_numeric',\n",
       "                                                                         Pipeline(steps=[('scaler',\n",
       "                                                                                          RobustScaler())]),\n",
       "                                                                         ['age',\n",
       "                                                                          'player_height',\n",
       "                                                                          'player_weight',\n",
       "                                                                          'gp',\n",
       "                                                                          'pts',\n",
       "                                                                          'reb',\n",
       "                                                                          'ast',\n",
       "                                                                          'net_rating',\n",
       "                                                                          'oreb_pct',\n",
       "                                                                          'dreb_pct',\n",
       "                                                                          'usg_pct',\n",
       "                                                                          'ts_pct',\n",
       "                                                                          'ast_pct'])])),\n",
       "                                       ('resampling', SMOTE()),\n",
       "                                       ('dtc', DecisionTreeClassifier())]),\n",
       "             n_jobs=-1,\n",
       "             param_grid={'dtc__criterion': ['gini', 'entropy'],\n",
       "                         'dtc__max_depth': [5, 10, 15, 20, 25, 30],\n",
       "                         'dtc__min_samples_leaf': [1, 2, 5, 7],\n",
       "                         'dtc__min_samples_split': [2, 5, 10]},\n",
       "             scoring='recall', verbose=1)"
      ]
     },
     "execution_count": 170,
     "metadata": {},
     "output_type": "execute_result"
    }
   ],
   "source": [
    "dtc_tuned.fit(X_train, y_train)"
   ]
  },
  {
   "cell_type": "code",
   "execution_count": 171,
   "metadata": {},
   "outputs": [
    {
     "data": {
      "text/html": [
       "<div>\n",
       "<style scoped>\n",
       "    .dataframe tbody tr th:only-of-type {\n",
       "        vertical-align: middle;\n",
       "    }\n",
       "\n",
       "    .dataframe tbody tr th {\n",
       "        vertical-align: top;\n",
       "    }\n",
       "\n",
       "    .dataframe thead th {\n",
       "        text-align: right;\n",
       "    }\n",
       "</style>\n",
       "<table border=\"1\" class=\"dataframe\">\n",
       "  <thead>\n",
       "    <tr style=\"text-align: right;\">\n",
       "      <th></th>\n",
       "      <th>mean_fit_time</th>\n",
       "      <th>std_fit_time</th>\n",
       "      <th>mean_score_time</th>\n",
       "      <th>std_score_time</th>\n",
       "      <th>param_dtc__criterion</th>\n",
       "      <th>param_dtc__max_depth</th>\n",
       "      <th>param_dtc__min_samples_leaf</th>\n",
       "      <th>param_dtc__min_samples_split</th>\n",
       "      <th>params</th>\n",
       "      <th>split0_test_score</th>\n",
       "      <th>split1_test_score</th>\n",
       "      <th>split2_test_score</th>\n",
       "      <th>split3_test_score</th>\n",
       "      <th>split4_test_score</th>\n",
       "      <th>mean_test_score</th>\n",
       "      <th>std_test_score</th>\n",
       "      <th>rank_test_score</th>\n",
       "    </tr>\n",
       "  </thead>\n",
       "  <tbody>\n",
       "    <tr>\n",
       "      <th>143</th>\n",
       "      <td>0.150113</td>\n",
       "      <td>0.018659</td>\n",
       "      <td>0.005198</td>\n",
       "      <td>0.001165</td>\n",
       "      <td>entropy</td>\n",
       "      <td>30</td>\n",
       "      <td>7</td>\n",
       "      <td>10</td>\n",
       "      <td>{'dtc__criterion': 'entropy', 'dtc__max_depth'...</td>\n",
       "      <td>0.986301</td>\n",
       "      <td>1.0</td>\n",
       "      <td>0.986301</td>\n",
       "      <td>1.000000</td>\n",
       "      <td>0.986301</td>\n",
       "      <td>0.991781</td>\n",
       "      <td>0.006711</td>\n",
       "      <td>1</td>\n",
       "    </tr>\n",
       "    <tr>\n",
       "      <th>96</th>\n",
       "      <td>0.188292</td>\n",
       "      <td>0.011835</td>\n",
       "      <td>0.009195</td>\n",
       "      <td>0.002481</td>\n",
       "      <td>entropy</td>\n",
       "      <td>15</td>\n",
       "      <td>1</td>\n",
       "      <td>2</td>\n",
       "      <td>{'dtc__criterion': 'entropy', 'dtc__max_depth'...</td>\n",
       "      <td>1.000000</td>\n",
       "      <td>1.0</td>\n",
       "      <td>0.986301</td>\n",
       "      <td>0.986301</td>\n",
       "      <td>0.986301</td>\n",
       "      <td>0.991781</td>\n",
       "      <td>0.006711</td>\n",
       "      <td>1</td>\n",
       "    </tr>\n",
       "    <tr>\n",
       "      <th>89</th>\n",
       "      <td>0.193688</td>\n",
       "      <td>0.003654</td>\n",
       "      <td>0.013992</td>\n",
       "      <td>0.006690</td>\n",
       "      <td>entropy</td>\n",
       "      <td>10</td>\n",
       "      <td>2</td>\n",
       "      <td>10</td>\n",
       "      <td>{'dtc__criterion': 'entropy', 'dtc__max_depth'...</td>\n",
       "      <td>1.000000</td>\n",
       "      <td>1.0</td>\n",
       "      <td>0.986301</td>\n",
       "      <td>0.986301</td>\n",
       "      <td>0.986301</td>\n",
       "      <td>0.991781</td>\n",
       "      <td>0.006711</td>\n",
       "      <td>1</td>\n",
       "    </tr>\n",
       "  </tbody>\n",
       "</table>\n",
       "</div>"
      ],
      "text/plain": [
       "     mean_fit_time  std_fit_time  mean_score_time  std_score_time  \\\n",
       "143       0.150113      0.018659         0.005198        0.001165   \n",
       "96        0.188292      0.011835         0.009195        0.002481   \n",
       "89        0.193688      0.003654         0.013992        0.006690   \n",
       "\n",
       "    param_dtc__criterion param_dtc__max_depth param_dtc__min_samples_leaf  \\\n",
       "143              entropy                   30                           7   \n",
       "96               entropy                   15                           1   \n",
       "89               entropy                   10                           2   \n",
       "\n",
       "    param_dtc__min_samples_split  \\\n",
       "143                           10   \n",
       "96                             2   \n",
       "89                            10   \n",
       "\n",
       "                                                params  split0_test_score  \\\n",
       "143  {'dtc__criterion': 'entropy', 'dtc__max_depth'...           0.986301   \n",
       "96   {'dtc__criterion': 'entropy', 'dtc__max_depth'...           1.000000   \n",
       "89   {'dtc__criterion': 'entropy', 'dtc__max_depth'...           1.000000   \n",
       "\n",
       "     split1_test_score  split2_test_score  split3_test_score  \\\n",
       "143                1.0           0.986301           1.000000   \n",
       "96                 1.0           0.986301           0.986301   \n",
       "89                 1.0           0.986301           0.986301   \n",
       "\n",
       "     split4_test_score  mean_test_score  std_test_score  rank_test_score  \n",
       "143           0.986301         0.991781        0.006711                1  \n",
       "96            0.986301         0.991781        0.006711                1  \n",
       "89            0.986301         0.991781        0.006711                1  "
      ]
     },
     "execution_count": 171,
     "metadata": {},
     "output_type": "execute_result"
    }
   ],
   "source": [
    "report_grid = pd.DataFrame(dtc_tuned.cv_results_).sort_values('rank_test_score', ascending=True)\n",
    "report_grid[report_grid['rank_test_score'] == 1]"
   ]
  },
  {
   "cell_type": "code",
   "execution_count": 172,
   "metadata": {},
   "outputs": [],
   "source": [
    "dtc_tun = dtc_tuned.best_estimator_"
   ]
  },
  {
   "cell_type": "code",
   "execution_count": 173,
   "metadata": {},
   "outputs": [
    {
     "name": "stderr",
     "output_type": "stream",
     "text": [
      "[Parallel(n_jobs=-1)]: Using backend LokyBackend with 8 concurrent workers.\n",
      "[Parallel(n_jobs=-1)]: Done   2 out of   5 | elapsed:    0.1s remaining:    0.2s\n",
      "[Parallel(n_jobs=-1)]: Done   5 out of   5 | elapsed:    0.1s finished\n"
     ]
    },
    {
     "data": {
      "text/plain": [
       "array([0.98630137, 0.98611111, 0.98630137, 0.98630137, 0.98630137])"
      ]
     },
     "execution_count": 173,
     "metadata": {},
     "output_type": "execute_result"
    }
   ],
   "source": [
    "dtc_tuned_score = cross_val_score(dtc_tun, X_train, y_train, scoring='recall', cv=skfold, n_jobs=-1, verbose=1)\n",
    "dtc_tuned_score"
   ]
  },
  {
   "cell_type": "code",
   "execution_count": 174,
   "metadata": {},
   "outputs": [
    {
     "data": {
      "text/plain": [
       "0.986263318112633"
      ]
     },
     "execution_count": 174,
     "metadata": {},
     "output_type": "execute_result"
    }
   ],
   "source": [
    "dtc_tuned_score.mean()"
   ]
  },
  {
   "cell_type": "code",
   "execution_count": 175,
   "metadata": {},
   "outputs": [
    {
     "data": {
      "text/plain": [
       "dict_keys(['memory', 'steps', 'verbose', 'transformer', 'rfc', 'transformer__n_jobs', 'transformer__remainder', 'transformer__sparse_threshold', 'transformer__transformer_weights', 'transformer__transformers', 'transformer__verbose', 'transformer__pipe_numeric', 'transformer__pipe_numeric__memory', 'transformer__pipe_numeric__steps', 'transformer__pipe_numeric__verbose', 'transformer__pipe_numeric__scaler', 'transformer__pipe_numeric__scaler__copy', 'transformer__pipe_numeric__scaler__quantile_range', 'transformer__pipe_numeric__scaler__with_centering', 'transformer__pipe_numeric__scaler__with_scaling', 'rfc__bootstrap', 'rfc__ccp_alpha', 'rfc__class_weight', 'rfc__criterion', 'rfc__max_depth', 'rfc__max_features', 'rfc__max_leaf_nodes', 'rfc__max_samples', 'rfc__min_impurity_decrease', 'rfc__min_impurity_split', 'rfc__min_samples_leaf', 'rfc__min_samples_split', 'rfc__min_weight_fraction_leaf', 'rfc__n_estimators', 'rfc__n_jobs', 'rfc__oob_score', 'rfc__random_state', 'rfc__verbose', 'rfc__warm_start'])"
      ]
     },
     "execution_count": 175,
     "metadata": {},
     "output_type": "execute_result"
    }
   ],
   "source": [
    "rfc_pipe.get_params().keys()"
   ]
  },
  {
   "cell_type": "code",
   "execution_count": 184,
   "metadata": {},
   "outputs": [],
   "source": [
    "rfc_param = {'rfc__n_estimators': [400, 800, 1100],\n",
    "            'rfc__max_depth': [10, 20, 30, 50],\n",
    "            'rfc__min_samples_split': [2, 5, 10],\n",
    "            'rfc__max_features': ['auto'],\n",
    "            'rfc__min_samples_leaf' : [2, 4, 6]\n",
    "           }\n",
    "\n",
    "\n",
    "rfc_tuned = RandomizedSearchCV(estimator=rfc_pipes, \n",
    "                            param_distributions=rfc_param,\n",
    "                            n_iter=20,\n",
    "                            cv=skfold, \n",
    "                            n_jobs=-1, \n",
    "                            scoring='recall',\n",
    "                           verbose=1)"
   ]
  },
  {
   "cell_type": "code",
   "execution_count": 185,
   "metadata": {},
   "outputs": [
    {
     "name": "stdout",
     "output_type": "stream",
     "text": [
      "Fitting 5 folds for each of 20 candidates, totalling 100 fits\n"
     ]
    },
    {
     "name": "stderr",
     "output_type": "stream",
     "text": [
      "[Parallel(n_jobs=-1)]: Using backend LokyBackend with 8 concurrent workers.\n",
      "[Parallel(n_jobs=-1)]: Done  34 tasks      | elapsed:  2.0min\n",
      "[Parallel(n_jobs=-1)]: Done 100 out of 100 | elapsed:  4.9min finished\n"
     ]
    },
    {
     "data": {
      "text/plain": [
       "RandomizedSearchCV(cv=StratifiedKFold(n_splits=5, random_state=1510, shuffle=True),\n",
       "                   estimator=Pipeline(steps=[('transformer',\n",
       "                                              ColumnTransformer(transformers=[('pipe_numeric',\n",
       "                                                                               Pipeline(steps=[('scaler',\n",
       "                                                                                                RobustScaler())]),\n",
       "                                                                               ['age',\n",
       "                                                                                'player_height',\n",
       "                                                                                'player_weight',\n",
       "                                                                                'gp',\n",
       "                                                                                'pts',\n",
       "                                                                                'reb',\n",
       "                                                                                'ast',\n",
       "                                                                                'net_rating',\n",
       "                                                                                'oreb_pct',\n",
       "                                                                                'dreb_pct',\n",
       "                                                                                'usg_pct',\n",
       "                                                                                'ts_pct',\n",
       "                                                                                'ast_pct'])])),\n",
       "                                             ('resampling', SMOTE()),\n",
       "                                             ('rfc',\n",
       "                                              RandomForestClassifier())]),\n",
       "                   n_iter=20, n_jobs=-1,\n",
       "                   param_distributions={'rfc__max_depth': [10, 20, 30, 50],\n",
       "                                        'rfc__max_features': ['auto'],\n",
       "                                        'rfc__min_samples_leaf': [2, 4, 6],\n",
       "                                        'rfc__min_samples_split': [2, 5, 10],\n",
       "                                        'rfc__n_estimators': [400, 800, 1100]},\n",
       "                   scoring='recall', verbose=1)"
      ]
     },
     "execution_count": 185,
     "metadata": {},
     "output_type": "execute_result"
    }
   ],
   "source": [
    "rfc_tuned.fit(X_train, y_train)"
   ]
  },
  {
   "cell_type": "code",
   "execution_count": 186,
   "metadata": {},
   "outputs": [
    {
     "data": {
      "text/html": [
       "<div>\n",
       "<style scoped>\n",
       "    .dataframe tbody tr th:only-of-type {\n",
       "        vertical-align: middle;\n",
       "    }\n",
       "\n",
       "    .dataframe tbody tr th {\n",
       "        vertical-align: top;\n",
       "    }\n",
       "\n",
       "    .dataframe thead th {\n",
       "        text-align: right;\n",
       "    }\n",
       "</style>\n",
       "<table border=\"1\" class=\"dataframe\">\n",
       "  <thead>\n",
       "    <tr style=\"text-align: right;\">\n",
       "      <th></th>\n",
       "      <th>mean_fit_time</th>\n",
       "      <th>std_fit_time</th>\n",
       "      <th>mean_score_time</th>\n",
       "      <th>std_score_time</th>\n",
       "      <th>param_rfc__n_estimators</th>\n",
       "      <th>param_rfc__min_samples_split</th>\n",
       "      <th>param_rfc__min_samples_leaf</th>\n",
       "      <th>param_rfc__max_features</th>\n",
       "      <th>param_rfc__max_depth</th>\n",
       "      <th>params</th>\n",
       "      <th>split0_test_score</th>\n",
       "      <th>split1_test_score</th>\n",
       "      <th>split2_test_score</th>\n",
       "      <th>split3_test_score</th>\n",
       "      <th>split4_test_score</th>\n",
       "      <th>mean_test_score</th>\n",
       "      <th>std_test_score</th>\n",
       "      <th>rank_test_score</th>\n",
       "    </tr>\n",
       "  </thead>\n",
       "  <tbody>\n",
       "    <tr>\n",
       "      <th>5</th>\n",
       "      <td>31.680685</td>\n",
       "      <td>0.683542</td>\n",
       "      <td>0.390776</td>\n",
       "      <td>0.014798</td>\n",
       "      <td>1100</td>\n",
       "      <td>10</td>\n",
       "      <td>4</td>\n",
       "      <td>auto</td>\n",
       "      <td>30</td>\n",
       "      <td>{'rfc__n_estimators': 1100, 'rfc__min_samples_...</td>\n",
       "      <td>0.986301</td>\n",
       "      <td>1.0</td>\n",
       "      <td>0.986301</td>\n",
       "      <td>0.986301</td>\n",
       "      <td>0.986301</td>\n",
       "      <td>0.989041</td>\n",
       "      <td>0.005479</td>\n",
       "      <td>1</td>\n",
       "    </tr>\n",
       "  </tbody>\n",
       "</table>\n",
       "</div>"
      ],
      "text/plain": [
       "   mean_fit_time  std_fit_time  mean_score_time  std_score_time  \\\n",
       "5      31.680685      0.683542         0.390776        0.014798   \n",
       "\n",
       "  param_rfc__n_estimators param_rfc__min_samples_split  \\\n",
       "5                    1100                           10   \n",
       "\n",
       "  param_rfc__min_samples_leaf param_rfc__max_features param_rfc__max_depth  \\\n",
       "5                           4                    auto                   30   \n",
       "\n",
       "                                              params  split0_test_score  \\\n",
       "5  {'rfc__n_estimators': 1100, 'rfc__min_samples_...           0.986301   \n",
       "\n",
       "   split1_test_score  split2_test_score  split3_test_score  split4_test_score  \\\n",
       "5                1.0           0.986301           0.986301           0.986301   \n",
       "\n",
       "   mean_test_score  std_test_score  rank_test_score  \n",
       "5         0.989041        0.005479                1  "
      ]
     },
     "execution_count": 186,
     "metadata": {},
     "output_type": "execute_result"
    }
   ],
   "source": [
    "report_grid = pd.DataFrame(rfc_tuned.cv_results_).sort_values('rank_test_score', ascending=True)\n",
    "report_grid[report_grid['rank_test_score'] == 1]"
   ]
  },
  {
   "cell_type": "code",
   "execution_count": 187,
   "metadata": {},
   "outputs": [],
   "source": [
    "rfc_tun = rfc_tuned.best_estimator_"
   ]
  },
  {
   "cell_type": "code",
   "execution_count": 188,
   "metadata": {},
   "outputs": [
    {
     "name": "stderr",
     "output_type": "stream",
     "text": [
      "[Parallel(n_jobs=-1)]: Using backend LokyBackend with 8 concurrent workers.\n",
      "[Parallel(n_jobs=-1)]: Done   2 out of   5 | elapsed:   21.1s remaining:   31.7s\n",
      "[Parallel(n_jobs=-1)]: Done   5 out of   5 | elapsed:   21.5s finished\n"
     ]
    },
    {
     "data": {
      "text/plain": [
       "array([0.98630137, 0.98611111, 0.98630137, 0.98630137, 0.98630137])"
      ]
     },
     "execution_count": 188,
     "metadata": {},
     "output_type": "execute_result"
    }
   ],
   "source": [
    "rfc_tuned_score = cross_val_score(rfc_tun, X_train, y_train, scoring='recall', cv=skfold, n_jobs=-1, verbose=1)\n",
    "rfc_tuned_score"
   ]
  },
  {
   "cell_type": "code",
   "execution_count": 189,
   "metadata": {},
   "outputs": [
    {
     "data": {
      "text/plain": [
       "0.986263318112633"
      ]
     },
     "execution_count": 189,
     "metadata": {},
     "output_type": "execute_result"
    }
   ],
   "source": [
    "rfc_tuned_score.mean()"
   ]
  },
  {
   "cell_type": "code",
   "execution_count": 190,
   "metadata": {},
   "outputs": [
    {
     "data": {
      "text/plain": [
       "<sklearn.metrics._plot.confusion_matrix.ConfusionMatrixDisplay at 0x24b003b9be0>"
      ]
     },
     "execution_count": 190,
     "metadata": {},
     "output_type": "execute_result"
    },
    {
     "data": {
      "image/png": "[encoded data removed]",
      "text/plain": [
       "<Figure size 432x288 with 2 Axes>"
      ]
     },
     "metadata": {
      "needs_background": "light"
     },
     "output_type": "display_data"
    }
   ],
   "source": [
    "knn_pipe.fit(X_train, y_train)\n",
    "plot_confusion_matrix(knn_pipe, X_test, y_test)"
   ]
  },
  {
   "cell_type": "code",
   "execution_count": 191,
   "metadata": {},
   "outputs": [
    {
     "data": {
      "text/plain": [
       "<sklearn.metrics._plot.confusion_matrix.ConfusionMatrixDisplay at 0x24b7e29fe50>"
      ]
     },
     "execution_count": 191,
     "metadata": {},
     "output_type": "execute_result"
    },
    {
     "data": {
      "image/png": "[encoded data removed]",
      "text/plain": [
       "<Figure size 432x288 with 2 Axes>"
      ]
     },
     "metadata": {
      "needs_background": "light"
     },
     "output_type": "display_data"
    }
   ],
   "source": [
    "knn_tun.fit(X_train, y_train)\n",
    "plot_confusion_matrix(knn_tun, X_test, y_test)"
   ]
  },
  {
   "cell_type": "code",
   "execution_count": 192,
   "metadata": {},
   "outputs": [
    {
     "data": {
      "text/plain": [
       "Pipeline(steps=[('transformer',\n",
       "                 ColumnTransformer(transformers=[('pipe_numeric',\n",
       "                                                  Pipeline(steps=[('scaler',\n",
       "                                                                   RobustScaler())]),\n",
       "                                                  ['age', 'player_height',\n",
       "                                                   'player_weight', 'gp', 'pts',\n",
       "                                                   'reb', 'ast', 'net_rating',\n",
       "                                                   'oreb_pct', 'dreb_pct',\n",
       "                                                   'usg_pct', 'ts_pct',\n",
       "                                                   'ast_pct'])])),\n",
       "                ('resampling', SMOTE()),\n",
       "                ('knn',\n",
       "                 KNeighborsClassifier(leaf_size=10, n_neighbors=30, p=1))])"
      ]
     },
     "execution_count": 192,
     "metadata": {},
     "output_type": "execute_result"
    }
   ],
   "source": [
    "knn_tun.fit(X, y)"
   ]
  },
  {
   "cell_type": "code",
   "execution_count": 193,
   "metadata": {},
   "outputs": [
    {
     "data": {
      "text/html": [
       "<div>\n",
       "<style scoped>\n",
       "    .dataframe tbody tr th:only-of-type {\n",
       "        vertical-align: middle;\n",
       "    }\n",
       "\n",
       "    .dataframe tbody tr th {\n",
       "        vertical-align: top;\n",
       "    }\n",
       "\n",
       "    .dataframe thead th {\n",
       "        text-align: right;\n",
       "    }\n",
       "</style>\n",
       "<table border=\"1\" class=\"dataframe\">\n",
       "  <thead>\n",
       "    <tr style=\"text-align: right;\">\n",
       "      <th></th>\n",
       "      <th>age</th>\n",
       "      <th>player_height</th>\n",
       "      <th>player_weight</th>\n",
       "      <th>gp</th>\n",
       "      <th>pts</th>\n",
       "      <th>reb</th>\n",
       "      <th>ast</th>\n",
       "      <th>net_rating</th>\n",
       "      <th>oreb_pct</th>\n",
       "      <th>dreb_pct</th>\n",
       "      <th>usg_pct</th>\n",
       "      <th>ts_pct</th>\n",
       "      <th>ast_pct</th>\n",
       "    </tr>\n",
       "  </thead>\n",
       "  <tbody>\n",
       "    <tr>\n",
       "      <th>0</th>\n",
       "      <td>37.0</td>\n",
       "      <td>205.74</td>\n",
       "      <td>104.326160</td>\n",
       "      <td>70</td>\n",
       "      <td>3.0</td>\n",
       "      <td>4.2</td>\n",
       "      <td>0.7</td>\n",
       "      <td>-5.2</td>\n",
       "      <td>0.084</td>\n",
       "      <td>0.237</td>\n",
       "      <td>0.114</td>\n",
       "      <td>0.489</td>\n",
       "      <td>0.069</td>\n",
       "    </tr>\n",
       "    <tr>\n",
       "      <th>1</th>\n",
       "      <td>33.0</td>\n",
       "      <td>160.02</td>\n",
       "      <td>63.956472</td>\n",
       "      <td>61</td>\n",
       "      <td>5.7</td>\n",
       "      <td>2.2</td>\n",
       "      <td>5.4</td>\n",
       "      <td>-8.4</td>\n",
       "      <td>0.020</td>\n",
       "      <td>0.074</td>\n",
       "      <td>0.129</td>\n",
       "      <td>0.492</td>\n",
       "      <td>0.344</td>\n",
       "    </tr>\n",
       "    <tr>\n",
       "      <th>2</th>\n",
       "      <td>27.0</td>\n",
       "      <td>193.04</td>\n",
       "      <td>95.254320</td>\n",
       "      <td>36</td>\n",
       "      <td>18.8</td>\n",
       "      <td>5.6</td>\n",
       "      <td>5.2</td>\n",
       "      <td>5.6</td>\n",
       "      <td>0.018</td>\n",
       "      <td>0.154</td>\n",
       "      <td>0.278</td>\n",
       "      <td>0.519</td>\n",
       "      <td>0.250</td>\n",
       "    </tr>\n",
       "    <tr>\n",
       "      <th>3</th>\n",
       "      <td>21.0</td>\n",
       "      <td>195.58</td>\n",
       "      <td>99.790240</td>\n",
       "      <td>42</td>\n",
       "      <td>2.5</td>\n",
       "      <td>1.3</td>\n",
       "      <td>1.1</td>\n",
       "      <td>-4.2</td>\n",
       "      <td>0.030</td>\n",
       "      <td>0.115</td>\n",
       "      <td>0.171</td>\n",
       "      <td>0.400</td>\n",
       "      <td>0.174</td>\n",
       "    </tr>\n",
       "    <tr>\n",
       "      <th>4</th>\n",
       "      <td>23.0</td>\n",
       "      <td>215.90</td>\n",
       "      <td>122.469840</td>\n",
       "      <td>26</td>\n",
       "      <td>3.3</td>\n",
       "      <td>3.4</td>\n",
       "      <td>0.3</td>\n",
       "      <td>-7.8</td>\n",
       "      <td>0.069</td>\n",
       "      <td>0.221</td>\n",
       "      <td>0.112</td>\n",
       "      <td>0.551</td>\n",
       "      <td>0.037</td>\n",
       "    </tr>\n",
       "  </tbody>\n",
       "</table>\n",
       "</div>"
      ],
      "text/plain": [
       "    age  player_height  player_weight  gp   pts  reb  ast  net_rating  \\\n",
       "0  37.0         205.74     104.326160  70   3.0  4.2  0.7        -5.2   \n",
       "1  33.0         160.02      63.956472  61   5.7  2.2  5.4        -8.4   \n",
       "2  27.0         193.04      95.254320  36  18.8  5.6  5.2         5.6   \n",
       "3  21.0         195.58      99.790240  42   2.5  1.3  1.1        -4.2   \n",
       "4  23.0         215.90     122.469840  26   3.3  3.4  0.3        -7.8   \n",
       "\n",
       "   oreb_pct  dreb_pct  usg_pct  ts_pct  ast_pct  \n",
       "0     0.084     0.237    0.114   0.489    0.069  \n",
       "1     0.020     0.074    0.129   0.492    0.344  \n",
       "2     0.018     0.154    0.278   0.519    0.250  \n",
       "3     0.030     0.115    0.171   0.400    0.174  \n",
       "4     0.069     0.221    0.112   0.551    0.037  "
      ]
     },
     "execution_count": 193,
     "metadata": {},
     "output_type": "execute_result"
    }
   ],
   "source": [
    "npb.head()"
   ]
  },
  {
   "cell_type": "code",
   "execution_count": 201,
   "metadata": {},
   "outputs": [],
   "source": [
    "player_pred = knn_tun.predict(npb)"
   ]
  },
  {
   "cell_type": "code",
   "execution_count": 202,
   "metadata": {},
   "outputs": [
    {
     "data": {
      "text/plain": [
       "array([0, 0, 1, 0, 0, 0, 0, 1, 0, 0, 0, 0, 0, 0, 0, 0, 0, 1, 0, 0, 0, 0,\n",
       "       0, 0, 0, 0, 0, 0, 0, 0, 0, 1, 0, 0, 0, 0, 0, 0, 0, 0, 0, 0, 0, 0,\n",
       "       0, 0, 0, 0, 1, 0, 0, 0, 0, 1, 0, 0, 0, 0, 0, 0, 0, 0, 1, 0, 0, 0,\n",
       "       0, 0, 0, 0, 0, 0, 1, 0, 0, 0, 0, 0, 0, 0, 0, 0, 0, 0, 0, 0, 0, 0,\n",
       "       0, 0, 0, 0, 0, 0, 0, 0, 0, 0, 0, 0, 0, 0, 0, 0, 0, 0, 0, 0, 0, 0,\n",
       "       0, 0, 0, 0, 0, 0, 0, 0, 0, 0, 0, 1, 0, 0, 0, 0, 0, 0, 0, 0, 0, 0,\n",
       "       0, 0, 0, 0, 0, 0, 0, 0, 0, 0, 0, 0, 0, 0, 0, 0, 0, 1, 0, 1, 0, 1,\n",
       "       0, 0, 0, 0, 0, 0, 0, 0, 0, 0, 0, 1, 0, 0, 0, 0, 0, 0, 0, 0, 0, 0,\n",
       "       0, 0, 0, 0, 0, 0, 0, 0, 1, 0, 0, 0, 0, 0, 0, 0, 0, 0, 0, 0, 0, 0,\n",
       "       0, 0, 1, 0, 0, 0, 0, 0, 0, 0, 0, 0, 0, 0, 0, 0, 0, 0, 0, 0, 0, 0,\n",
       "       0, 1, 0, 0, 1, 0, 0, 1, 0, 0, 0, 0, 0, 0, 0, 0, 0, 1, 0, 0, 0, 0,\n",
       "       0, 0, 0, 0, 0, 0, 0, 1, 0, 0, 0, 0, 0, 0, 0, 0, 0, 0, 0, 0, 0, 0,\n",
       "       0, 0, 0, 0, 0, 0, 0, 0, 0, 0, 1, 0, 1, 0, 0, 0, 0, 0, 0, 0, 0, 0,\n",
       "       0, 1, 0, 0, 0, 0, 1, 1, 0, 0, 0, 0, 0, 0, 0, 0, 0, 0, 0, 0, 0, 0,\n",
       "       0, 1, 0, 0, 0, 0, 0, 0, 0, 1, 0, 0, 0, 0, 0, 0, 0, 0, 0, 0, 0, 0,\n",
       "       0, 0, 0, 0, 0, 0, 0, 0, 0, 0, 0, 0, 0, 0, 0, 0, 0, 0, 0, 0, 0, 0,\n",
       "       0, 0, 0, 0, 0, 0, 0, 0, 0, 0, 0, 0, 0, 0, 0, 0, 0, 0, 0, 0, 0, 0,\n",
       "       0, 0, 0, 0, 0, 0, 0, 0, 0, 0, 0, 0, 0, 0, 0, 0, 0, 0, 0, 0, 0, 0,\n",
       "       0, 0, 0, 0, 0, 1, 0, 1, 1, 0, 0, 0, 0, 0, 1, 0, 0, 1, 0, 0, 0, 0,\n",
       "       0, 0, 0, 0, 0, 0, 0, 0, 0, 0, 0, 0, 0, 0, 0, 0, 0, 0, 0, 1, 0, 0,\n",
       "       0, 0, 0, 0, 0, 0, 0, 0, 0, 0, 0, 1, 0, 0, 0, 0, 0, 0, 0, 0, 0, 1,\n",
       "       0, 0, 0, 0, 1, 0, 0, 0, 0, 0, 1, 0, 0, 1, 0, 0, 0, 0, 0, 0, 0, 0,\n",
       "       0, 0, 0, 0, 0, 0, 0, 0, 0, 0, 0, 0, 0, 0, 0, 1], dtype=int64)"
      ]
     },
     "execution_count": 202,
     "metadata": {},
     "output_type": "execute_result"
    }
   ],
   "source": [
    "player_pred"
   ]
  },
  {
   "cell_type": "code",
   "execution_count": 203,
   "metadata": {},
   "outputs": [],
   "source": [
    "nb['Prediksi'] = player_pred"
   ]
  },
  {
   "cell_type": "code",
   "execution_count": 204,
   "metadata": {},
   "outputs": [
    {
     "data": {
      "text/html": [
       "<div>\n",
       "<style scoped>\n",
       "    .dataframe tbody tr th:only-of-type {\n",
       "        vertical-align: middle;\n",
       "    }\n",
       "\n",
       "    .dataframe tbody tr th {\n",
       "        vertical-align: top;\n",
       "    }\n",
       "\n",
       "    .dataframe thead th {\n",
       "        text-align: right;\n",
       "    }\n",
       "</style>\n",
       "<table border=\"1\" class=\"dataframe\">\n",
       "  <thead>\n",
       "    <tr style=\"text-align: right;\">\n",
       "      <th></th>\n",
       "      <th>Unnamed: 0</th>\n",
       "      <th>player_id</th>\n",
       "      <th>age</th>\n",
       "      <th>player_height</th>\n",
       "      <th>player_weight</th>\n",
       "      <th>college</th>\n",
       "      <th>country</th>\n",
       "      <th>gp</th>\n",
       "      <th>pts</th>\n",
       "      <th>reb</th>\n",
       "      <th>ast</th>\n",
       "      <th>net_rating</th>\n",
       "      <th>oreb_pct</th>\n",
       "      <th>dreb_pct</th>\n",
       "      <th>usg_pct</th>\n",
       "      <th>ts_pct</th>\n",
       "      <th>ast_pct</th>\n",
       "      <th>Prediksi</th>\n",
       "    </tr>\n",
       "  </thead>\n",
       "  <tbody>\n",
       "    <tr>\n",
       "      <th>0</th>\n",
       "      <td>0</td>\n",
       "      <td>1</td>\n",
       "      <td>37.0</td>\n",
       "      <td>205.74</td>\n",
       "      <td>104.326160</td>\n",
       "      <td>Texas Christian</td>\n",
       "      <td>USA</td>\n",
       "      <td>70</td>\n",
       "      <td>3.0</td>\n",
       "      <td>4.2</td>\n",
       "      <td>0.7</td>\n",
       "      <td>-5.2</td>\n",
       "      <td>0.084</td>\n",
       "      <td>0.237</td>\n",
       "      <td>0.114</td>\n",
       "      <td>0.489</td>\n",
       "      <td>0.069</td>\n",
       "      <td>0</td>\n",
       "    </tr>\n",
       "    <tr>\n",
       "      <th>1</th>\n",
       "      <td>1</td>\n",
       "      <td>2</td>\n",
       "      <td>33.0</td>\n",
       "      <td>160.02</td>\n",
       "      <td>63.956472</td>\n",
       "      <td>Wake Forest</td>\n",
       "      <td>USA</td>\n",
       "      <td>61</td>\n",
       "      <td>5.7</td>\n",
       "      <td>2.2</td>\n",
       "      <td>5.4</td>\n",
       "      <td>-8.4</td>\n",
       "      <td>0.020</td>\n",
       "      <td>0.074</td>\n",
       "      <td>0.129</td>\n",
       "      <td>0.492</td>\n",
       "      <td>0.344</td>\n",
       "      <td>0</td>\n",
       "    </tr>\n",
       "    <tr>\n",
       "      <th>2</th>\n",
       "      <td>2</td>\n",
       "      <td>3</td>\n",
       "      <td>27.0</td>\n",
       "      <td>193.04</td>\n",
       "      <td>95.254320</td>\n",
       "      <td>Indiana</td>\n",
       "      <td>USA</td>\n",
       "      <td>36</td>\n",
       "      <td>18.8</td>\n",
       "      <td>5.6</td>\n",
       "      <td>5.2</td>\n",
       "      <td>5.6</td>\n",
       "      <td>0.018</td>\n",
       "      <td>0.154</td>\n",
       "      <td>0.278</td>\n",
       "      <td>0.519</td>\n",
       "      <td>0.250</td>\n",
       "      <td>1</td>\n",
       "    </tr>\n",
       "    <tr>\n",
       "      <th>3</th>\n",
       "      <td>3</td>\n",
       "      <td>4</td>\n",
       "      <td>21.0</td>\n",
       "      <td>195.58</td>\n",
       "      <td>99.790240</td>\n",
       "      <td>Cincinnati</td>\n",
       "      <td>USA</td>\n",
       "      <td>42</td>\n",
       "      <td>2.5</td>\n",
       "      <td>1.3</td>\n",
       "      <td>1.1</td>\n",
       "      <td>-4.2</td>\n",
       "      <td>0.030</td>\n",
       "      <td>0.115</td>\n",
       "      <td>0.171</td>\n",
       "      <td>0.400</td>\n",
       "      <td>0.174</td>\n",
       "      <td>0</td>\n",
       "    </tr>\n",
       "    <tr>\n",
       "      <th>4</th>\n",
       "      <td>4</td>\n",
       "      <td>5</td>\n",
       "      <td>23.0</td>\n",
       "      <td>215.90</td>\n",
       "      <td>122.469840</td>\n",
       "      <td>None</td>\n",
       "      <td>USA</td>\n",
       "      <td>26</td>\n",
       "      <td>3.3</td>\n",
       "      <td>3.4</td>\n",
       "      <td>0.3</td>\n",
       "      <td>-7.8</td>\n",
       "      <td>0.069</td>\n",
       "      <td>0.221</td>\n",
       "      <td>0.112</td>\n",
       "      <td>0.551</td>\n",
       "      <td>0.037</td>\n",
       "      <td>0</td>\n",
       "    </tr>\n",
       "    <tr>\n",
       "      <th>...</th>\n",
       "      <td>...</td>\n",
       "      <td>...</td>\n",
       "      <td>...</td>\n",
       "      <td>...</td>\n",
       "      <td>...</td>\n",
       "      <td>...</td>\n",
       "      <td>...</td>\n",
       "      <td>...</td>\n",
       "      <td>...</td>\n",
       "      <td>...</td>\n",
       "      <td>...</td>\n",
       "      <td>...</td>\n",
       "      <td>...</td>\n",
       "      <td>...</td>\n",
       "      <td>...</td>\n",
       "      <td>...</td>\n",
       "      <td>...</td>\n",
       "      <td>...</td>\n",
       "    </tr>\n",
       "    <tr>\n",
       "      <th>495</th>\n",
       "      <td>495</td>\n",
       "      <td>496</td>\n",
       "      <td>28.0</td>\n",
       "      <td>200.66</td>\n",
       "      <td>103.418976</td>\n",
       "      <td>Nevada-Las Vegas</td>\n",
       "      <td>USA</td>\n",
       "      <td>81</td>\n",
       "      <td>21.8</td>\n",
       "      <td>11.8</td>\n",
       "      <td>1.8</td>\n",
       "      <td>7.1</td>\n",
       "      <td>0.086</td>\n",
       "      <td>0.238</td>\n",
       "      <td>0.222</td>\n",
       "      <td>0.591</td>\n",
       "      <td>0.068</td>\n",
       "      <td>0</td>\n",
       "    </tr>\n",
       "    <tr>\n",
       "      <th>496</th>\n",
       "      <td>496</td>\n",
       "      <td>497</td>\n",
       "      <td>28.0</td>\n",
       "      <td>200.66</td>\n",
       "      <td>107.047712</td>\n",
       "      <td>California</td>\n",
       "      <td>USA</td>\n",
       "      <td>78</td>\n",
       "      <td>12.8</td>\n",
       "      <td>4.4</td>\n",
       "      <td>1.6</td>\n",
       "      <td>-4.9</td>\n",
       "      <td>0.054</td>\n",
       "      <td>0.124</td>\n",
       "      <td>0.233</td>\n",
       "      <td>0.490</td>\n",
       "      <td>0.099</td>\n",
       "      <td>0</td>\n",
       "    </tr>\n",
       "    <tr>\n",
       "      <th>497</th>\n",
       "      <td>497</td>\n",
       "      <td>498</td>\n",
       "      <td>23.0</td>\n",
       "      <td>208.28</td>\n",
       "      <td>103.418976</td>\n",
       "      <td>Wisconsin</td>\n",
       "      <td>USA</td>\n",
       "      <td>46</td>\n",
       "      <td>4.7</td>\n",
       "      <td>2.6</td>\n",
       "      <td>0.5</td>\n",
       "      <td>0.2</td>\n",
       "      <td>0.087</td>\n",
       "      <td>0.162</td>\n",
       "      <td>0.174</td>\n",
       "      <td>0.536</td>\n",
       "      <td>0.072</td>\n",
       "      <td>0</td>\n",
       "    </tr>\n",
       "    <tr>\n",
       "      <th>498</th>\n",
       "      <td>498</td>\n",
       "      <td>499</td>\n",
       "      <td>24.0</td>\n",
       "      <td>213.36</td>\n",
       "      <td>108.862080</td>\n",
       "      <td>DePaul</td>\n",
       "      <td>USA</td>\n",
       "      <td>69</td>\n",
       "      <td>6.1</td>\n",
       "      <td>3.9</td>\n",
       "      <td>0.2</td>\n",
       "      <td>-1.7</td>\n",
       "      <td>0.099</td>\n",
       "      <td>0.140</td>\n",
       "      <td>0.146</td>\n",
       "      <td>0.598</td>\n",
       "      <td>0.021</td>\n",
       "      <td>0</td>\n",
       "    </tr>\n",
       "    <tr>\n",
       "      <th>499</th>\n",
       "      <td>499</td>\n",
       "      <td>500</td>\n",
       "      <td>31.0</td>\n",
       "      <td>203.20</td>\n",
       "      <td>113.398000</td>\n",
       "      <td>Tennessee State</td>\n",
       "      <td>USA</td>\n",
       "      <td>81</td>\n",
       "      <td>12.8</td>\n",
       "      <td>10.2</td>\n",
       "      <td>4.2</td>\n",
       "      <td>2.5</td>\n",
       "      <td>0.070</td>\n",
       "      <td>0.247</td>\n",
       "      <td>0.162</td>\n",
       "      <td>0.552</td>\n",
       "      <td>0.174</td>\n",
       "      <td>1</td>\n",
       "    </tr>\n",
       "  </tbody>\n",
       "</table>\n",
       "<p>500 rows × 18 columns</p>\n",
       "</div>"
      ],
      "text/plain": [
       "     Unnamed: 0  player_id   age  player_height  player_weight  \\\n",
       "0             0          1  37.0         205.74     104.326160   \n",
       "1             1          2  33.0         160.02      63.956472   \n",
       "2             2          3  27.0         193.04      95.254320   \n",
       "3             3          4  21.0         195.58      99.790240   \n",
       "4             4          5  23.0         215.90     122.469840   \n",
       "..          ...        ...   ...            ...            ...   \n",
       "495         495        496  28.0         200.66     103.418976   \n",
       "496         496        497  28.0         200.66     107.047712   \n",
       "497         497        498  23.0         208.28     103.418976   \n",
       "498         498        499  24.0         213.36     108.862080   \n",
       "499         499        500  31.0         203.20     113.398000   \n",
       "\n",
       "              college country  gp   pts   reb  ast  net_rating  oreb_pct  \\\n",
       "0     Texas Christian     USA  70   3.0   4.2  0.7        -5.2     0.084   \n",
       "1         Wake Forest     USA  61   5.7   2.2  5.4        -8.4     0.020   \n",
       "2             Indiana     USA  36  18.8   5.6  5.2         5.6     0.018   \n",
       "3          Cincinnati     USA  42   2.5   1.3  1.1        -4.2     0.030   \n",
       "4                None     USA  26   3.3   3.4  0.3        -7.8     0.069   \n",
       "..                ...     ...  ..   ...   ...  ...         ...       ...   \n",
       "495  Nevada-Las Vegas     USA  81  21.8  11.8  1.8         7.1     0.086   \n",
       "496        California     USA  78  12.8   4.4  1.6        -4.9     0.054   \n",
       "497         Wisconsin     USA  46   4.7   2.6  0.5         0.2     0.087   \n",
       "498            DePaul     USA  69   6.1   3.9  0.2        -1.7     0.099   \n",
       "499   Tennessee State     USA  81  12.8  10.2  4.2         2.5     0.070   \n",
       "\n",
       "     dreb_pct  usg_pct  ts_pct  ast_pct  Prediksi  \n",
       "0       0.237    0.114   0.489    0.069         0  \n",
       "1       0.074    0.129   0.492    0.344         0  \n",
       "2       0.154    0.278   0.519    0.250         1  \n",
       "3       0.115    0.171   0.400    0.174         0  \n",
       "4       0.221    0.112   0.551    0.037         0  \n",
       "..        ...      ...     ...      ...       ...  \n",
       "495     0.238    0.222   0.591    0.068         0  \n",
       "496     0.124    0.233   0.490    0.099         0  \n",
       "497     0.162    0.174   0.536    0.072         0  \n",
       "498     0.140    0.146   0.598    0.021         0  \n",
       "499     0.247    0.162   0.552    0.174         1  \n",
       "\n",
       "[500 rows x 18 columns]"
      ]
     },
     "execution_count": 204,
     "metadata": {},
     "output_type": "execute_result"
    }
   ],
   "source": [
    "nb"
   ]
  },
  {
   "cell_type": "code",
   "execution_count": 205,
   "metadata": {},
   "outputs": [
    {
     "data": {
      "text/html": [
       "<div>\n",
       "<style scoped>\n",
       "    .dataframe tbody tr th:only-of-type {\n",
       "        vertical-align: middle;\n",
       "    }\n",
       "\n",
       "    .dataframe tbody tr th {\n",
       "        vertical-align: top;\n",
       "    }\n",
       "\n",
       "    .dataframe thead th {\n",
       "        text-align: right;\n",
       "    }\n",
       "</style>\n",
       "<table border=\"1\" class=\"dataframe\">\n",
       "  <thead>\n",
       "    <tr style=\"text-align: right;\">\n",
       "      <th></th>\n",
       "      <th>Unnamed: 0</th>\n",
       "      <th>player_id</th>\n",
       "      <th>age</th>\n",
       "      <th>player_height</th>\n",
       "      <th>player_weight</th>\n",
       "      <th>college</th>\n",
       "      <th>country</th>\n",
       "      <th>gp</th>\n",
       "      <th>pts</th>\n",
       "      <th>reb</th>\n",
       "      <th>ast</th>\n",
       "      <th>net_rating</th>\n",
       "      <th>oreb_pct</th>\n",
       "      <th>dreb_pct</th>\n",
       "      <th>usg_pct</th>\n",
       "      <th>ts_pct</th>\n",
       "      <th>ast_pct</th>\n",
       "      <th>Prediksi</th>\n",
       "      <th>Status</th>\n",
       "    </tr>\n",
       "  </thead>\n",
       "  <tbody>\n",
       "    <tr>\n",
       "      <th>0</th>\n",
       "      <td>0</td>\n",
       "      <td>1</td>\n",
       "      <td>37.0</td>\n",
       "      <td>205.74</td>\n",
       "      <td>104.326160</td>\n",
       "      <td>Texas Christian</td>\n",
       "      <td>USA</td>\n",
       "      <td>70</td>\n",
       "      <td>3.0</td>\n",
       "      <td>4.2</td>\n",
       "      <td>0.7</td>\n",
       "      <td>-5.2</td>\n",
       "      <td>0.084</td>\n",
       "      <td>0.237</td>\n",
       "      <td>0.114</td>\n",
       "      <td>0.489</td>\n",
       "      <td>0.069</td>\n",
       "      <td>0</td>\n",
       "      <td>Tidak Rekrut</td>\n",
       "    </tr>\n",
       "    <tr>\n",
       "      <th>1</th>\n",
       "      <td>1</td>\n",
       "      <td>2</td>\n",
       "      <td>33.0</td>\n",
       "      <td>160.02</td>\n",
       "      <td>63.956472</td>\n",
       "      <td>Wake Forest</td>\n",
       "      <td>USA</td>\n",
       "      <td>61</td>\n",
       "      <td>5.7</td>\n",
       "      <td>2.2</td>\n",
       "      <td>5.4</td>\n",
       "      <td>-8.4</td>\n",
       "      <td>0.020</td>\n",
       "      <td>0.074</td>\n",
       "      <td>0.129</td>\n",
       "      <td>0.492</td>\n",
       "      <td>0.344</td>\n",
       "      <td>0</td>\n",
       "      <td>Tidak Rekrut</td>\n",
       "    </tr>\n",
       "    <tr>\n",
       "      <th>2</th>\n",
       "      <td>2</td>\n",
       "      <td>3</td>\n",
       "      <td>27.0</td>\n",
       "      <td>193.04</td>\n",
       "      <td>95.254320</td>\n",
       "      <td>Indiana</td>\n",
       "      <td>USA</td>\n",
       "      <td>36</td>\n",
       "      <td>18.8</td>\n",
       "      <td>5.6</td>\n",
       "      <td>5.2</td>\n",
       "      <td>5.6</td>\n",
       "      <td>0.018</td>\n",
       "      <td>0.154</td>\n",
       "      <td>0.278</td>\n",
       "      <td>0.519</td>\n",
       "      <td>0.250</td>\n",
       "      <td>1</td>\n",
       "      <td>Rekrut</td>\n",
       "    </tr>\n",
       "    <tr>\n",
       "      <th>3</th>\n",
       "      <td>3</td>\n",
       "      <td>4</td>\n",
       "      <td>21.0</td>\n",
       "      <td>195.58</td>\n",
       "      <td>99.790240</td>\n",
       "      <td>Cincinnati</td>\n",
       "      <td>USA</td>\n",
       "      <td>42</td>\n",
       "      <td>2.5</td>\n",
       "      <td>1.3</td>\n",
       "      <td>1.1</td>\n",
       "      <td>-4.2</td>\n",
       "      <td>0.030</td>\n",
       "      <td>0.115</td>\n",
       "      <td>0.171</td>\n",
       "      <td>0.400</td>\n",
       "      <td>0.174</td>\n",
       "      <td>0</td>\n",
       "      <td>Tidak Rekrut</td>\n",
       "    </tr>\n",
       "    <tr>\n",
       "      <th>4</th>\n",
       "      <td>4</td>\n",
       "      <td>5</td>\n",
       "      <td>23.0</td>\n",
       "      <td>215.90</td>\n",
       "      <td>122.469840</td>\n",
       "      <td>None</td>\n",
       "      <td>USA</td>\n",
       "      <td>26</td>\n",
       "      <td>3.3</td>\n",
       "      <td>3.4</td>\n",
       "      <td>0.3</td>\n",
       "      <td>-7.8</td>\n",
       "      <td>0.069</td>\n",
       "      <td>0.221</td>\n",
       "      <td>0.112</td>\n",
       "      <td>0.551</td>\n",
       "      <td>0.037</td>\n",
       "      <td>0</td>\n",
       "      <td>Tidak Rekrut</td>\n",
       "    </tr>\n",
       "    <tr>\n",
       "      <th>...</th>\n",
       "      <td>...</td>\n",
       "      <td>...</td>\n",
       "      <td>...</td>\n",
       "      <td>...</td>\n",
       "      <td>...</td>\n",
       "      <td>...</td>\n",
       "      <td>...</td>\n",
       "      <td>...</td>\n",
       "      <td>...</td>\n",
       "      <td>...</td>\n",
       "      <td>...</td>\n",
       "      <td>...</td>\n",
       "      <td>...</td>\n",
       "      <td>...</td>\n",
       "      <td>...</td>\n",
       "      <td>...</td>\n",
       "      <td>...</td>\n",
       "      <td>...</td>\n",
       "      <td>...</td>\n",
       "    </tr>\n",
       "    <tr>\n",
       "      <th>495</th>\n",
       "      <td>495</td>\n",
       "      <td>496</td>\n",
       "      <td>28.0</td>\n",
       "      <td>200.66</td>\n",
       "      <td>103.418976</td>\n",
       "      <td>Nevada-Las Vegas</td>\n",
       "      <td>USA</td>\n",
       "      <td>81</td>\n",
       "      <td>21.8</td>\n",
       "      <td>11.8</td>\n",
       "      <td>1.8</td>\n",
       "      <td>7.1</td>\n",
       "      <td>0.086</td>\n",
       "      <td>0.238</td>\n",
       "      <td>0.222</td>\n",
       "      <td>0.591</td>\n",
       "      <td>0.068</td>\n",
       "      <td>0</td>\n",
       "      <td>Tidak Rekrut</td>\n",
       "    </tr>\n",
       "    <tr>\n",
       "      <th>496</th>\n",
       "      <td>496</td>\n",
       "      <td>497</td>\n",
       "      <td>28.0</td>\n",
       "      <td>200.66</td>\n",
       "      <td>107.047712</td>\n",
       "      <td>California</td>\n",
       "      <td>USA</td>\n",
       "      <td>78</td>\n",
       "      <td>12.8</td>\n",
       "      <td>4.4</td>\n",
       "      <td>1.6</td>\n",
       "      <td>-4.9</td>\n",
       "      <td>0.054</td>\n",
       "      <td>0.124</td>\n",
       "      <td>0.233</td>\n",
       "      <td>0.490</td>\n",
       "      <td>0.099</td>\n",
       "      <td>0</td>\n",
       "      <td>Tidak Rekrut</td>\n",
       "    </tr>\n",
       "    <tr>\n",
       "      <th>497</th>\n",
       "      <td>497</td>\n",
       "      <td>498</td>\n",
       "      <td>23.0</td>\n",
       "      <td>208.28</td>\n",
       "      <td>103.418976</td>\n",
       "      <td>Wisconsin</td>\n",
       "      <td>USA</td>\n",
       "      <td>46</td>\n",
       "      <td>4.7</td>\n",
       "      <td>2.6</td>\n",
       "      <td>0.5</td>\n",
       "      <td>0.2</td>\n",
       "      <td>0.087</td>\n",
       "      <td>0.162</td>\n",
       "      <td>0.174</td>\n",
       "      <td>0.536</td>\n",
       "      <td>0.072</td>\n",
       "      <td>0</td>\n",
       "      <td>Tidak Rekrut</td>\n",
       "    </tr>\n",
       "    <tr>\n",
       "      <th>498</th>\n",
       "      <td>498</td>\n",
       "      <td>499</td>\n",
       "      <td>24.0</td>\n",
       "      <td>213.36</td>\n",
       "      <td>108.862080</td>\n",
       "      <td>DePaul</td>\n",
       "      <td>USA</td>\n",
       "      <td>69</td>\n",
       "      <td>6.1</td>\n",
       "      <td>3.9</td>\n",
       "      <td>0.2</td>\n",
       "      <td>-1.7</td>\n",
       "      <td>0.099</td>\n",
       "      <td>0.140</td>\n",
       "      <td>0.146</td>\n",
       "      <td>0.598</td>\n",
       "      <td>0.021</td>\n",
       "      <td>0</td>\n",
       "      <td>Tidak Rekrut</td>\n",
       "    </tr>\n",
       "    <tr>\n",
       "      <th>499</th>\n",
       "      <td>499</td>\n",
       "      <td>500</td>\n",
       "      <td>31.0</td>\n",
       "      <td>203.20</td>\n",
       "      <td>113.398000</td>\n",
       "      <td>Tennessee State</td>\n",
       "      <td>USA</td>\n",
       "      <td>81</td>\n",
       "      <td>12.8</td>\n",
       "      <td>10.2</td>\n",
       "      <td>4.2</td>\n",
       "      <td>2.5</td>\n",
       "      <td>0.070</td>\n",
       "      <td>0.247</td>\n",
       "      <td>0.162</td>\n",
       "      <td>0.552</td>\n",
       "      <td>0.174</td>\n",
       "      <td>1</td>\n",
       "      <td>Rekrut</td>\n",
       "    </tr>\n",
       "  </tbody>\n",
       "</table>\n",
       "<p>500 rows × 19 columns</p>\n",
       "</div>"
      ],
      "text/plain": [
       "     Unnamed: 0  player_id   age  player_height  player_weight  \\\n",
       "0             0          1  37.0         205.74     104.326160   \n",
       "1             1          2  33.0         160.02      63.956472   \n",
       "2             2          3  27.0         193.04      95.254320   \n",
       "3             3          4  21.0         195.58      99.790240   \n",
       "4             4          5  23.0         215.90     122.469840   \n",
       "..          ...        ...   ...            ...            ...   \n",
       "495         495        496  28.0         200.66     103.418976   \n",
       "496         496        497  28.0         200.66     107.047712   \n",
       "497         497        498  23.0         208.28     103.418976   \n",
       "498         498        499  24.0         213.36     108.862080   \n",
       "499         499        500  31.0         203.20     113.398000   \n",
       "\n",
       "              college country  gp   pts   reb  ast  net_rating  oreb_pct  \\\n",
       "0     Texas Christian     USA  70   3.0   4.2  0.7        -5.2     0.084   \n",
       "1         Wake Forest     USA  61   5.7   2.2  5.4        -8.4     0.020   \n",
       "2             Indiana     USA  36  18.8   5.6  5.2         5.6     0.018   \n",
       "3          Cincinnati     USA  42   2.5   1.3  1.1        -4.2     0.030   \n",
       "4                None     USA  26   3.3   3.4  0.3        -7.8     0.069   \n",
       "..                ...     ...  ..   ...   ...  ...         ...       ...   \n",
       "495  Nevada-Las Vegas     USA  81  21.8  11.8  1.8         7.1     0.086   \n",
       "496        California     USA  78  12.8   4.4  1.6        -4.9     0.054   \n",
       "497         Wisconsin     USA  46   4.7   2.6  0.5         0.2     0.087   \n",
       "498            DePaul     USA  69   6.1   3.9  0.2        -1.7     0.099   \n",
       "499   Tennessee State     USA  81  12.8  10.2  4.2         2.5     0.070   \n",
       "\n",
       "     dreb_pct  usg_pct  ts_pct  ast_pct  Prediksi        Status  \n",
       "0       0.237    0.114   0.489    0.069         0  Tidak Rekrut  \n",
       "1       0.074    0.129   0.492    0.344         0  Tidak Rekrut  \n",
       "2       0.154    0.278   0.519    0.250         1        Rekrut  \n",
       "3       0.115    0.171   0.400    0.174         0  Tidak Rekrut  \n",
       "4       0.221    0.112   0.551    0.037         0  Tidak Rekrut  \n",
       "..        ...      ...     ...      ...       ...           ...  \n",
       "495     0.238    0.222   0.591    0.068         0  Tidak Rekrut  \n",
       "496     0.124    0.233   0.490    0.099         0  Tidak Rekrut  \n",
       "497     0.162    0.174   0.536    0.072         0  Tidak Rekrut  \n",
       "498     0.140    0.146   0.598    0.021         0  Tidak Rekrut  \n",
       "499     0.247    0.162   0.552    0.174         1        Rekrut  \n",
       "\n",
       "[500 rows x 19 columns]"
      ]
     },
     "execution_count": 205,
     "metadata": {},
     "output_type": "execute_result"
    }
   ],
   "source": [
    "nb['Status']=nb.apply(lambda x: 'Rekrut' if (x['Prediksi']== 1) else 'Tidak Rekrut', axis=1)\n",
    "nb"
   ]
  },
  {
   "cell_type": "code",
   "execution_count": null,
   "metadata": {},
   "outputs": [],
   "source": []
  }
 ],
 "metadata": {
  "kernelspec": {
   "display_name": "Python 3",
   "language": "python",
   "name": "python3"
  },
  "language_info": {
   "codemirror_mode": {
    "name": "ipython",
    "version": 3
   },
   "file_extension": ".py",
   "mimetype": "text/x-python",
   "name": "python",
   "nbconvert_exporter": "python",
   "pygments_lexer": "ipython3",
   "version": "3.8.3"
  }
 },
 "nbformat": 4,
 "nbformat_minor": 4
}
